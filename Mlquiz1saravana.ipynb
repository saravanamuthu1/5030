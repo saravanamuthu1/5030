{
  "nbformat": 4,
  "nbformat_minor": 0,
  "metadata": {
    "colab": {
      "name": "Mlquiz1saravana.ipynb",
      "provenance": [],
      "collapsed_sections": [],
      "authorship_tag": "ABX9TyPSidM5JTMe5pnR7ch82WGH",
      "include_colab_link": true
    },
    "kernelspec": {
      "name": "python3",
      "display_name": "Python 3"
    },
    "language_info": {
      "name": "python"
    }
  },
  "cells": [
    {
      "cell_type": "markdown",
      "metadata": {
        "id": "view-in-github",
        "colab_type": "text"
      },
      "source": [
        "<a href=\"https://colab.research.google.com/github/saravanamuthu1/5030/blob/master/Mlquiz1saravana.ipynb\" target=\"_parent\"><img src=\"https://colab.research.google.com/assets/colab-badge.svg\" alt=\"Open In Colab\"/></a>"
      ]
    },
    {
      "cell_type": "code",
      "execution_count": null,
      "metadata": {
        "id": "7okg_o-tsBc9"
      },
      "outputs": [],
      "source": [
        "import numpy as np\n",
        "import pandas as pd\n"
      ]
    },
    {
      "cell_type": "code",
      "source": [
        ""
      ],
      "metadata": {
        "id": "Cq5cFANm-unz"
      },
      "execution_count": null,
      "outputs": []
    },
    {
      "cell_type": "code",
      "source": [
        "a= np.arange(6).reshape((3,2))\n",
        "print(a)"
      ],
      "metadata": {
        "colab": {
          "base_uri": "https://localhost:8080/"
        },
        "id": "lKB88oipAXv7",
        "outputId": "0fd60092-5509-4932-950e-4a108fece7f2"
      },
      "execution_count": null,
      "outputs": [
        {
          "output_type": "stream",
          "name": "stdout",
          "text": [
            "[[0 1]\n",
            " [2 3]\n",
            " [4 5]]\n"
          ]
        }
      ]
    },
    {
      "cell_type": "code",
      "source": [
        "c=np.random.randn(2,2)\n",
        "print(c)"
      ],
      "metadata": {
        "colab": {
          "base_uri": "https://localhost:8080/"
        },
        "id": "CCPuhQ1WBCSc",
        "outputId": "94996511-1f87-4c10-8fa0-4ccfbf3efbd1"
      },
      "execution_count": null,
      "outputs": [
        {
          "output_type": "stream",
          "name": "stdout",
          "text": [
            "[[-0.59624026 -0.94622287]\n",
            " [-1.02392719  0.29973938]]\n"
          ]
        }
      ]
    },
    {
      "cell_type": "code",
      "source": [
        "print(\"Matrix A'dimension :\",a.shape)\n",
        "print(\"Matrix A'dimension :\",c.shape)\n",
        "\n"
      ],
      "metadata": {
        "colab": {
          "base_uri": "https://localhost:8080/"
        },
        "id": "9kMwMSXKBQKh",
        "outputId": "5800b0c4-4369-48e4-d416-26f648bbee59"
      },
      "execution_count": null,
      "outputs": [
        {
          "output_type": "stream",
          "name": "stdout",
          "text": [
            "Matrix A'dimension : (3, 2)\n",
            "Matrix A'dimension : (2, 2)\n"
          ]
        }
      ]
    },
    {
      "cell_type": "code",
      "source": [
        "a.dot(c)"
      ],
      "metadata": {
        "colab": {
          "base_uri": "https://localhost:8080/"
        },
        "id": "ei-g4v2VBnnv",
        "outputId": "14e49d66-519e-423d-d77c-53080c7ed36d"
      },
      "execution_count": null,
      "outputs": [
        {
          "output_type": "execute_result",
          "data": {
            "text/plain": [
              "array([[ -1.28705067,   0.13283171],\n",
              "       [ -7.18713988,   0.99313442],\n",
              "       [-13.0872291 ,   1.85343713]])"
            ]
          },
          "metadata": {},
          "execution_count": 21
        }
      ]
    },
    {
      "cell_type": "code",
      "source": [
        "np.dot(a,c)"
      ],
      "metadata": {
        "colab": {
          "base_uri": "https://localhost:8080/"
        },
        "id": "wU_n2-5cBzmk",
        "outputId": "2f4da9ee-f64c-428b-868f-f83990050091"
      },
      "execution_count": null,
      "outputs": [
        {
          "output_type": "execute_result",
          "data": {
            "text/plain": [
              "array([[ -1.28705067,   0.13283171],\n",
              "       [ -7.18713988,   0.99313442],\n",
              "       [-13.0872291 ,   1.85343713]])"
            ]
          },
          "metadata": {},
          "execution_count": 22
        }
      ]
    },
    {
      "cell_type": "code",
      "source": [
        "x_vector=np.array([0.233,0.121,0.232,0.23444,0.45545])\n",
        "print(\"vector:\",x_vector)\n",
        "print(\"type :\",type(x_vector))"
      ],
      "metadata": {
        "colab": {
          "base_uri": "https://localhost:8080/"
        },
        "id": "JlaJ3hL_BzsP",
        "outputId": "ce6bc5d3-f106-4993-dbd4-8910deb31bdc"
      },
      "execution_count": null,
      "outputs": [
        {
          "output_type": "stream",
          "name": "stdout",
          "text": [
            "vector: [0.233   0.121   0.232   0.23444 0.45545]\n",
            "type : <class 'numpy.ndarray'>\n"
          ]
        }
      ]
    },
    {
      "cell_type": "code",
      "source": [
        "y_vector=np.array([1,2,3,4,5])\n",
        "A=np.array([x_vector,y_vector])\n",
        "print(\"Matrix:\\n\\n\",A,\"\\n\")\n",
        "print(type(A),\"\\n\")\n",
        "print(\"A's dimesnion\",A.shape)"
      ],
      "metadata": {
        "colab": {
          "base_uri": "https://localhost:8080/"
        },
        "id": "dMUuLPtjER_H",
        "outputId": "a6224b9d-fd4e-4593-8caf-3c5c07d75434"
      },
      "execution_count": null,
      "outputs": [
        {
          "output_type": "stream",
          "name": "stdout",
          "text": [
            "Matrix:\n",
            "\n",
            " [[0.233   0.121   0.232   0.23444 0.45545]\n",
            " [1.      2.      3.      4.      5.     ]] \n",
            "\n",
            "<class 'numpy.ndarray'> \n",
            "\n",
            "A's dimesnion (2, 5)\n"
          ]
        }
      ]
    },
    {
      "cell_type": "code",
      "source": [
        "import numpy as np\n",
        "print(np.__version__)"
      ],
      "metadata": {
        "colab": {
          "base_uri": "https://localhost:8080/"
        },
        "id": "95LWai08GQtr",
        "outputId": "4bca8f56-b892-4f73-e13f-470c0c19cf32"
      },
      "execution_count": null,
      "outputs": [
        {
          "output_type": "stream",
          "name": "stdout",
          "text": [
            "1.21.6\n"
          ]
        }
      ]
    },
    {
      "cell_type": "code",
      "source": [
        "location1 = [-121.87, 37.23, 19, 7357, 963, 3018, 981, 6.9473]\n",
        "location2 = [-121.12, 39.03, 17, 838, 161, 388, 142, 3.6563]\n",
        "np_location1 = np.array(location1)\n",
        "np_location2 = np.array(location2)\n",
        "print(type(np_location1), ' vs ', type(location1))"
      ],
      "metadata": {
        "colab": {
          "base_uri": "https://localhost:8080/"
        },
        "id": "dDNgoUm8HiDK",
        "outputId": "09fb1fa9-3ed5-4a2b-bc16-dc2bf9971a4b"
      },
      "execution_count": null,
      "outputs": [
        {
          "output_type": "stream",
          "name": "stdout",
          "text": [
            "<class 'numpy.ndarray'>  vs  <class 'list'>\n"
          ]
        }
      ]
    },
    {
      "cell_type": "code",
      "source": [
        "print(\"np_location1[0]: \", np_location1[0])\n",
        "print(\"np_location1[1]: \", np_location1[1])"
      ],
      "metadata": {
        "colab": {
          "base_uri": "https://localhost:8080/"
        },
        "id": "4nQG6tG6H7hy",
        "outputId": "7f1a42bd-8e40-4204-806b-b95333b3fa40"
      },
      "execution_count": null,
      "outputs": [
        {
          "output_type": "stream",
          "name": "stdout",
          "text": [
            "np_location1[0]:  -121.87\n",
            "np_location1[1]:  37.23\n"
          ]
        }
      ]
    },
    {
      "cell_type": "code",
      "source": [
        "np_locations = np.array([\n",
        "[-121.87, 37.23, 19, 7357, 963, 3018, 981, 6.9473],\n",
        "[-121.12, 39.03, 17, 838, 161, 388, 142, 3.6563]\n",
        "])\n",
        "\n",
        "print(\"np_locations: \", np_locations)"
      ],
      "metadata": {
        "colab": {
          "base_uri": "https://localhost:8080/"
        },
        "id": "TFiG46dUICTK",
        "outputId": "c7e8fa1a-0a6e-4fe0-a1e5-6c9ef5c0e04b"
      },
      "execution_count": null,
      "outputs": [
        {
          "output_type": "stream",
          "name": "stdout",
          "text": [
            "np_locations:  [[-1.2187e+02  3.7230e+01  1.9000e+01  7.3570e+03  9.6300e+02  3.0180e+03\n",
            "   9.8100e+02  6.9473e+00]\n",
            " [-1.2112e+02  3.9030e+01  1.7000e+01  8.3800e+02  1.6100e+02  3.8800e+02\n",
            "   1.4200e+02  3.6563e+00]]\n"
          ]
        }
      ]
    },
    {
      "cell_type": "code",
      "source": [
        "print(\"np_locations[1][2]: \", np_locations[1][2])"
      ],
      "metadata": {
        "colab": {
          "base_uri": "https://localhost:8080/"
        },
        "id": "3rql0TBIIPdM",
        "outputId": "4af917f5-3b58-409f-8251-eb0b75b2b458"
      },
      "execution_count": null,
      "outputs": [
        {
          "output_type": "stream",
          "name": "stdout",
          "text": [
            "np_locations[1][2]:  17.0\n"
          ]
        }
      ]
    },
    {
      "cell_type": "code",
      "source": [
        "# check shape of 1d-array\n",
        "print(\"np_location1.shape: \", np_location1.shape)\n",
        "\n",
        "# check shape of 2d-array\n",
        "print(\"np_locations.shape: \", np_locations.shape)"
      ],
      "metadata": {
        "colab": {
          "base_uri": "https://localhost:8080/"
        },
        "id": "j7riB6hMIWzW",
        "outputId": "45de23c1-9e59-4f14-c91d-8f77d9c93bce"
      },
      "execution_count": null,
      "outputs": [
        {
          "output_type": "stream",
          "name": "stdout",
          "text": [
            "np_location1.shape:  (8,)\n",
            "np_locations.shape:  (2, 8)\n"
          ]
        }
      ]
    },
    {
      "cell_type": "code",
      "source": [
        "np_3dlocations= np.array([\n",
        "[-121.87, 37.23, 19, 7357, 963, 3018, 981, 6.9473],\n",
        "[-121.12, 39.03, 17, 838, 161, 388, 142, 3.6563],\n",
        "[1.2,1.2,1.3,1.4,1.4,1.5,1.6,1.4]\n",
        "])\n",
        "print(\"np_3dlocations: \", np_3dlocations )\n",
        "print(\"3d_array_shape:\",np_3dlocations.shape)"
      ],
      "metadata": {
        "colab": {
          "base_uri": "https://localhost:8080/"
        },
        "id": "BdrbrDfLKjAW",
        "outputId": "3e5a3f68-1763-4a24-a9fb-0b337700df2c"
      },
      "execution_count": null,
      "outputs": [
        {
          "output_type": "stream",
          "name": "stdout",
          "text": [
            "np_3dlocations:  [[-1.2187e+02  3.7230e+01  1.9000e+01  7.3570e+03  9.6300e+02  3.0180e+03\n",
            "   9.8100e+02  6.9473e+00]\n",
            " [-1.2112e+02  3.9030e+01  1.7000e+01  8.3800e+02  1.6100e+02  3.8800e+02\n",
            "   1.4200e+02  3.6563e+00]\n",
            " [ 1.2000e+00  1.2000e+00  1.3000e+00  1.4000e+00  1.4000e+00  1.5000e+00\n",
            "   1.6000e+00  1.4000e+00]]\n",
            "3d_array_shape: (3, 8)\n"
          ]
        }
      ]
    },
    {
      "cell_type": "code",
      "source": [
        "# Slicing in 1 dimension numpy vector (rank 1 -tensor)\n",
        "# pick the second, third, and forth element from the array\n",
        "np_location1 = np.array([-121.87, 37.23, 19, 7357, 963, 3018, 981, 6.9473])\n",
        "print(\"np_location1[1:4]: \", np_location1[1:4])"
      ],
      "metadata": {
        "colab": {
          "base_uri": "https://localhost:8080/"
        },
        "id": "4O0QKZgvMZoA",
        "outputId": "488fc091-9617-480d-d568-4e48485052be"
      },
      "execution_count": null,
      "outputs": [
        {
          "output_type": "stream",
          "name": "stdout",
          "text": [
            "np_location1[1:4]:  [  37.23   19.   7357.  ]\n"
          ]
        }
      ]
    },
    {
      "cell_type": "code",
      "source": [
        "np_locations = np.array([\n",
        "[-121.87, 37.23, 19, 7357, 963, 3018, 981, 6.9473],\n",
        "[-121.12, 39.03, 17, 838, 161, 388, 142, 3.6563],\n",
        "[-119.31, 36.06, 20, 2236, 434, 1405, 412, 1.8827]\n",
        "])\n",
        "print(\"np_locations: \", np_locations)\n",
        "\n",
        "# select all rows except 1st row\n",
        "# select 3rd and 4th column\n",
        "print(\"np_locations[1:,2:4]: \", np_locations[1:,2:4])\n",
        "\n"
      ],
      "metadata": {
        "colab": {
          "base_uri": "https://localhost:8080/"
        },
        "id": "4VaPEwzQMquK",
        "outputId": "283bfdba-9b83-448e-a1f4-d4b6fbb7a1fe"
      },
      "execution_count": null,
      "outputs": [
        {
          "output_type": "stream",
          "name": "stdout",
          "text": [
            "np_locations:  [[-1.2187e+02  3.7230e+01  1.9000e+01  7.3570e+03  9.6300e+02  3.0180e+03\n",
            "   9.8100e+02  6.9473e+00]\n",
            " [-1.2112e+02  3.9030e+01  1.7000e+01  8.3800e+02  1.6100e+02  3.8800e+02\n",
            "   1.4200e+02  3.6563e+00]\n",
            " [-1.1931e+02  3.6060e+01  2.0000e+01  2.2360e+03  4.3400e+02  1.4050e+03\n",
            "   4.1200e+02  1.8827e+00]]\n",
            "np_locations[1:,2:4]:  [[  17.  838.]\n",
            " [  20. 2236.]]\n"
          ]
        }
      ]
    },
    {
      "cell_type": "code",
      "source": [
        "A=np.random.randn(2,2)\n",
        "print(\"Matrix A:\",\"\\n\\n\",A)\n",
        "B=np.random.randn(2,2)\n",
        "print(\"Matrix B:\",\"\\n\\n\",B)\n",
        "C=A+B\n",
        "print(\"Matrix addition C :\",\"\\n\\n\",C)\n"
      ],
      "metadata": {
        "colab": {
          "base_uri": "https://localhost:8080/"
        },
        "id": "qqMh_xjlNgXS",
        "outputId": "d3866b0d-2764-4fc5-efff-05a069751c8a"
      },
      "execution_count": null,
      "outputs": [
        {
          "output_type": "stream",
          "name": "stdout",
          "text": [
            "Matrix A: \n",
            "\n",
            " [[ 0.44498795 -1.33687627]\n",
            " [ 0.10843033 -1.36605912]]\n",
            "Matrix B: \n",
            "\n",
            " [[0.87255915 0.85058275]\n",
            " [1.14936902 1.01651969]]\n",
            "Matrix addition C : \n",
            "\n",
            " [[ 1.3175471  -0.48629352]\n",
            " [ 1.25779935 -0.34953943]]\n"
          ]
        }
      ]
    },
    {
      "cell_type": "code",
      "source": [
        "o_matrix=np.arange(6).reshape((3,2))\n",
        "print(\"o_Matrix:\",\"\\n\\n\",o_matrix)\n",
        "print(\"o_Matrix:\",\"\\n\\n\",o_matrix.T)\n"
      ],
      "metadata": {
        "colab": {
          "base_uri": "https://localhost:8080/"
        },
        "id": "ssWa5T-iOZ18",
        "outputId": "405f1e36-49b5-411c-b345-37c99d271288"
      },
      "execution_count": null,
      "outputs": [
        {
          "output_type": "stream",
          "name": "stdout",
          "text": [
            "o_Matrix: \n",
            "\n",
            " [[0 1]\n",
            " [2 3]\n",
            " [4 5]]\n",
            "o_Matrix: \n",
            "\n",
            " [[0 2 4]\n",
            " [1 3 5]]\n"
          ]
        }
      ]
    },
    {
      "cell_type": "code",
      "source": [
        "# matrix multiplication\n",
        "A = np.arange(16).reshape((4,4))\n",
        "C = np.random.randn(4,4)\n",
        "\n",
        "print(\"Matrix A's dimension: \", A.shape)\n",
        "print(\"Matrix C's dimension: \", C.shape)\n",
        "\n",
        "print(\"A X C: \\n\\n\", A.dot(C), \"\\n\")\n",
        "print(\"A X C: \\n\\n\", np.dot(A,C), \"\\n\")"
      ],
      "metadata": {
        "colab": {
          "base_uri": "https://localhost:8080/"
        },
        "id": "H0UFyOQRPMgQ",
        "outputId": "96ad83fa-744a-4cc3-d587-55f92e114d99"
      },
      "execution_count": null,
      "outputs": [
        {
          "output_type": "stream",
          "name": "stdout",
          "text": [
            "Matrix A's dimension:  (4, 4)\n",
            "Matrix C's dimension:  (4, 4)\n",
            "A X C: \n",
            "\n",
            " [[  3.22802785  -2.66183462  -1.21715546   1.07915467]\n",
            " [ 11.33533656  -5.46028268  -0.3751432   -0.81533895]\n",
            " [ 19.44264527  -8.25873074   0.46686906  -2.70983256]\n",
            " [ 27.54995399 -11.05717879   1.30888132  -4.60432618]] \n",
            "\n",
            "A X C: \n",
            "\n",
            " [[  3.22802785  -2.66183462  -1.21715546   1.07915467]\n",
            " [ 11.33533656  -5.46028268  -0.3751432   -0.81533895]\n",
            " [ 19.44264527  -8.25873074   0.46686906  -2.70983256]\n",
            " [ 27.54995399 -11.05717879   1.30888132  -4.60432618]] \n",
            "\n"
          ]
        }
      ]
    },
    {
      "cell_type": "code",
      "source": [
        "np_location1 = [-121.87, 37.23, 19, 7357, 963, 3018, 981, 6.9473]\n",
        "np_location2 = [-121.12, 39.03, 17, 838, 161, 388, 142, 3.6563]\n",
        "\n",
        "np_location_sum = np_location1 + np_location2\n",
        "\n",
        "print(\"np_location_sum: \",np_location_sum)"
      ],
      "metadata": {
        "colab": {
          "base_uri": "https://localhost:8080/"
        },
        "id": "3rH-OjPGQJhE",
        "outputId": "c8b10721-e3c6-4c43-d441-5891cdc3840e"
      },
      "execution_count": null,
      "outputs": [
        {
          "output_type": "stream",
          "name": "stdout",
          "text": [
            "np_location_sum:  [-121.87, 37.23, 19, 7357, 963, 3018, 981, 6.9473, -121.12, 39.03, 17, 838, 161, 388, 142, 3.6563]\n"
          ]
        }
      ]
    },
    {
      "cell_type": "code",
      "source": [
        "print(\"np_location1_sum(): \", sum(np_location1))"
      ],
      "metadata": {
        "colab": {
          "base_uri": "https://localhost:8080/"
        },
        "id": "qqnRVfPkQiPj",
        "outputId": "aab8129d-3fe1-4e60-d9db-eaaffd1bdd7e"
      },
      "execution_count": null,
      "outputs": [
        {
          "output_type": "stream",
          "name": "stdout",
          "text": [
            "np_location1_sum():  12260.3073\n"
          ]
        }
      ]
    },
    {
      "cell_type": "code",
      "source": [
        "print(\"np_location1_min(): \", min(np_location1))"
      ],
      "metadata": {
        "colab": {
          "base_uri": "https://localhost:8080/"
        },
        "id": "v8jZI1tFRCDV",
        "outputId": "487959f0-1900-45f3-dc22-75d5e0e004ef"
      },
      "execution_count": null,
      "outputs": [
        {
          "output_type": "stream",
          "name": "stdout",
          "text": [
            "np_location1_min():  -121.87\n"
          ]
        }
      ]
    },
    {
      "cell_type": "code",
      "source": [
        "list_location1 = [-121.87, 37.23, 19, 7357, 963, 3018, 981, 6.9473]\n",
        "list_location2 = [-121.12, 39.03, 17, 838, 161, 388, 142, 3.6563]\n",
        "np_location_concat = np.concatenate([list_location1, list_location2])\n",
        "\n",
        "print(\"np_location_concat: \", np_location_concat)"
      ],
      "metadata": {
        "colab": {
          "base_uri": "https://localhost:8080/"
        },
        "id": "4IU6Xk4uRU-L",
        "outputId": "f6cb8903-fe21-41be-a168-241f2374fc2e"
      },
      "execution_count": null,
      "outputs": [
        {
          "output_type": "stream",
          "name": "stdout",
          "text": [
            "np_location_concat:  [-1.2187e+02  3.7230e+01  1.9000e+01  7.3570e+03  9.6300e+02  3.0180e+03\n",
            "  9.8100e+02  6.9473e+00 -1.2112e+02  3.9030e+01  1.7000e+01  8.3800e+02\n",
            "  1.6100e+02  3.8800e+02  1.4200e+02  3.6563e+00]\n"
          ]
        }
      ]
    },
    {
      "cell_type": "code",
      "source": [
        "import pandas as pd\n",
        "print(pd.__version__)"
      ],
      "metadata": {
        "colab": {
          "base_uri": "https://localhost:8080/"
        },
        "id": "2iPKWNiHRo3E",
        "outputId": "cac2cbf3-81b7-4df8-8703-de11b6f662b2"
      },
      "execution_count": null,
      "outputs": [
        {
          "output_type": "stream",
          "name": "stdout",
          "text": [
            "1.3.5\n"
          ]
        }
      ]
    },
    {
      "cell_type": "code",
      "source": [
        "list_location1 = [-121.87, 37.23, 19, 7357, 963, 3018, 981, 6.9473]\n",
        "pd_location1 = pd.Series(list_location1)\n",
        "\n",
        "print(pd_location1)\n",
        "\n",
        "print(\"type(pd_location1): \", type(pd_location1))"
      ],
      "metadata": {
        "colab": {
          "base_uri": "https://localhost:8080/"
        },
        "id": "91S_EX3ER54U",
        "outputId": "c2499f41-31ec-41c1-d759-08cc578b760d"
      },
      "execution_count": null,
      "outputs": [
        {
          "output_type": "stream",
          "name": "stdout",
          "text": [
            "0    -121.8700\n",
            "1      37.2300\n",
            "2      19.0000\n",
            "3    7357.0000\n",
            "4     963.0000\n",
            "5    3018.0000\n",
            "6     981.0000\n",
            "7       6.9473\n",
            "dtype: float64\n",
            "type(pd_location1):  <class 'pandas.core.series.Series'>\n"
          ]
        }
      ]
    },
    {
      "cell_type": "code",
      "source": [
        "table_column = ['Longitude', 'Latitude', 'Housing_median_age (Year)', 'Total_rooms', 'Total_bedrooms', 'Population', 'Households', 'Median_income']\n",
        "pd_table_column = pd.Series(table_column)\n",
        "print(pd_table_column)"
      ],
      "metadata": {
        "colab": {
          "base_uri": "https://localhost:8080/"
        },
        "id": "z5fK6EdFSdN2",
        "outputId": "e10c3693-0242-4c10-8f9b-40550dbb9601"
      },
      "execution_count": null,
      "outputs": [
        {
          "output_type": "stream",
          "name": "stdout",
          "text": [
            "0                    Longitude\n",
            "1                     Latitude\n",
            "2    Housing_median_age (Year)\n",
            "3                  Total_rooms\n",
            "4               Total_bedrooms\n",
            "5                   Population\n",
            "6                   Households\n",
            "7                Median_income\n",
            "dtype: object\n"
          ]
        }
      ]
    },
    {
      "cell_type": "code",
      "source": [
        "#To create a series  by giving both numeric and string values\n",
        "table_values = ['Longitude', 'Latitude', 25, 'Total_rooms', 'Total_bedrooms', 10.3, 'Households', 'Median_income']\n",
        "pd_table_values = pd.Series(table_values)\n",
        "print(pd_table_values)"
      ],
      "metadata": {
        "colab": {
          "base_uri": "https://localhost:8080/"
        },
        "id": "v6TLI5RQSnAn",
        "outputId": "acb8e17f-6ebe-41e5-9015-16f2bf367229"
      },
      "execution_count": null,
      "outputs": [
        {
          "output_type": "stream",
          "name": "stdout",
          "text": [
            "0         Longitude\n",
            "1          Latitude\n",
            "2                25\n",
            "3       Total_rooms\n",
            "4    Total_bedrooms\n",
            "5              10.3\n",
            "6        Households\n",
            "7     Median_income\n",
            "dtype: object\n"
          ]
        }
      ]
    },
    {
      "cell_type": "code",
      "source": [
        "longitude_column = {'location1': -113, 'location2': -111.2, 'location3': -112, 'location4': -110}\n",
        "pd.Series(longitude_column)"
      ],
      "metadata": {
        "colab": {
          "base_uri": "https://localhost:8080/"
        },
        "id": "T_6_6C65S4aa",
        "outputId": "4173037a-f974-493a-f9ff-386a49f287d5"
      },
      "execution_count": null,
      "outputs": [
        {
          "output_type": "execute_result",
          "data": {
            "text/plain": [
              "location1   -113.0\n",
              "location2   -111.2\n",
              "location3   -112.0\n",
              "location4   -110.0\n",
              "dtype: float64"
            ]
          },
          "metadata": {},
          "execution_count": 80
        }
      ]
    },
    {
      "cell_type": "code",
      "source": [
        "data = {'Sample': ['location1', 'location2', 'location3', 'location4', 'location5', 'location6'],\n",
        "'Longitude': [-121.87, -121.12, -119.31, -118.03, -120.97, -118.18],\n",
        "'Latitude': [37.23, 39.03, 36.06, 33.78, 37.61, 34.02],\n",
        "'total_rooms':[1,2,3,4,5,6]\n",
        "}\n",
        "\n",
        "df_data = pd.DataFrame(data)\n",
        "\n",
        "print(df_data)"
      ],
      "metadata": {
        "colab": {
          "base_uri": "https://localhost:8080/"
        },
        "id": "QleE8hq3TMOq",
        "outputId": "f237f590-a241-4bec-e6b5-c79c70201f55"
      },
      "execution_count": null,
      "outputs": [
        {
          "output_type": "stream",
          "name": "stdout",
          "text": [
            "      Sample  Longitude  Latitude  total_rooms\n",
            "0  location1    -121.87     37.23            1\n",
            "1  location2    -121.12     39.03            2\n",
            "2  location3    -119.31     36.06            3\n",
            "3  location4    -118.03     33.78            4\n",
            "4  location5    -120.97     37.61            5\n",
            "5  location6    -118.18     34.02            6\n"
          ]
        }
      ]
    },
    {
      "cell_type": "code",
      "source": [
        "import pandas as pd\n",
        "from sklearn.datasets import load_iris\n",
        "iris = load_iris()\n",
        "iris_pd = pd.DataFrame(data= iris['data'],columns= iris['feature_names'])\n",
        "iris_pd.head()"
      ],
      "metadata": {
        "colab": {
          "base_uri": "https://localhost:8080/",
          "height": 206
        },
        "id": "M0GRW1-mTnw0",
        "outputId": "ad9ae409-e24c-4b76-f2c2-8627910a37e3"
      },
      "execution_count": null,
      "outputs": [
        {
          "output_type": "execute_result",
          "data": {
            "text/plain": [
              "   sepal length (cm)  sepal width (cm)  petal length (cm)  petal width (cm)\n",
              "0                5.1               3.5                1.4               0.2\n",
              "1                4.9               3.0                1.4               0.2\n",
              "2                4.7               3.2                1.3               0.2\n",
              "3                4.6               3.1                1.5               0.2\n",
              "4                5.0               3.6                1.4               0.2"
            ],
            "text/html": [
              "\n",
              "  <div id=\"df-2e850fa4-9f61-44df-b813-07286ce5fb1b\">\n",
              "    <div class=\"colab-df-container\">\n",
              "      <div>\n",
              "<style scoped>\n",
              "    .dataframe tbody tr th:only-of-type {\n",
              "        vertical-align: middle;\n",
              "    }\n",
              "\n",
              "    .dataframe tbody tr th {\n",
              "        vertical-align: top;\n",
              "    }\n",
              "\n",
              "    .dataframe thead th {\n",
              "        text-align: right;\n",
              "    }\n",
              "</style>\n",
              "<table border=\"1\" class=\"dataframe\">\n",
              "  <thead>\n",
              "    <tr style=\"text-align: right;\">\n",
              "      <th></th>\n",
              "      <th>sepal length (cm)</th>\n",
              "      <th>sepal width (cm)</th>\n",
              "      <th>petal length (cm)</th>\n",
              "      <th>petal width (cm)</th>\n",
              "    </tr>\n",
              "  </thead>\n",
              "  <tbody>\n",
              "    <tr>\n",
              "      <th>0</th>\n",
              "      <td>5.1</td>\n",
              "      <td>3.5</td>\n",
              "      <td>1.4</td>\n",
              "      <td>0.2</td>\n",
              "    </tr>\n",
              "    <tr>\n",
              "      <th>1</th>\n",
              "      <td>4.9</td>\n",
              "      <td>3.0</td>\n",
              "      <td>1.4</td>\n",
              "      <td>0.2</td>\n",
              "    </tr>\n",
              "    <tr>\n",
              "      <th>2</th>\n",
              "      <td>4.7</td>\n",
              "      <td>3.2</td>\n",
              "      <td>1.3</td>\n",
              "      <td>0.2</td>\n",
              "    </tr>\n",
              "    <tr>\n",
              "      <th>3</th>\n",
              "      <td>4.6</td>\n",
              "      <td>3.1</td>\n",
              "      <td>1.5</td>\n",
              "      <td>0.2</td>\n",
              "    </tr>\n",
              "    <tr>\n",
              "      <th>4</th>\n",
              "      <td>5.0</td>\n",
              "      <td>3.6</td>\n",
              "      <td>1.4</td>\n",
              "      <td>0.2</td>\n",
              "    </tr>\n",
              "  </tbody>\n",
              "</table>\n",
              "</div>\n",
              "      <button class=\"colab-df-convert\" onclick=\"convertToInteractive('df-2e850fa4-9f61-44df-b813-07286ce5fb1b')\"\n",
              "              title=\"Convert this dataframe to an interactive table.\"\n",
              "              style=\"display:none;\">\n",
              "        \n",
              "  <svg xmlns=\"http://www.w3.org/2000/svg\" height=\"24px\"viewBox=\"0 0 24 24\"\n",
              "       width=\"24px\">\n",
              "    <path d=\"M0 0h24v24H0V0z\" fill=\"none\"/>\n",
              "    <path d=\"M18.56 5.44l.94 2.06.94-2.06 2.06-.94-2.06-.94-.94-2.06-.94 2.06-2.06.94zm-11 1L8.5 8.5l.94-2.06 2.06-.94-2.06-.94L8.5 2.5l-.94 2.06-2.06.94zm10 10l.94 2.06.94-2.06 2.06-.94-2.06-.94-.94-2.06-.94 2.06-2.06.94z\"/><path d=\"M17.41 7.96l-1.37-1.37c-.4-.4-.92-.59-1.43-.59-.52 0-1.04.2-1.43.59L10.3 9.45l-7.72 7.72c-.78.78-.78 2.05 0 2.83L4 21.41c.39.39.9.59 1.41.59.51 0 1.02-.2 1.41-.59l7.78-7.78 2.81-2.81c.8-.78.8-2.07 0-2.86zM5.41 20L4 18.59l7.72-7.72 1.47 1.35L5.41 20z\"/>\n",
              "  </svg>\n",
              "      </button>\n",
              "      \n",
              "  <style>\n",
              "    .colab-df-container {\n",
              "      display:flex;\n",
              "      flex-wrap:wrap;\n",
              "      gap: 12px;\n",
              "    }\n",
              "\n",
              "    .colab-df-convert {\n",
              "      background-color: #E8F0FE;\n",
              "      border: none;\n",
              "      border-radius: 50%;\n",
              "      cursor: pointer;\n",
              "      display: none;\n",
              "      fill: #1967D2;\n",
              "      height: 32px;\n",
              "      padding: 0 0 0 0;\n",
              "      width: 32px;\n",
              "    }\n",
              "\n",
              "    .colab-df-convert:hover {\n",
              "      background-color: #E2EBFA;\n",
              "      box-shadow: 0px 1px 2px rgba(60, 64, 67, 0.3), 0px 1px 3px 1px rgba(60, 64, 67, 0.15);\n",
              "      fill: #174EA6;\n",
              "    }\n",
              "\n",
              "    [theme=dark] .colab-df-convert {\n",
              "      background-color: #3B4455;\n",
              "      fill: #D2E3FC;\n",
              "    }\n",
              "\n",
              "    [theme=dark] .colab-df-convert:hover {\n",
              "      background-color: #434B5C;\n",
              "      box-shadow: 0px 1px 3px 1px rgba(0, 0, 0, 0.15);\n",
              "      filter: drop-shadow(0px 1px 2px rgba(0, 0, 0, 0.3));\n",
              "      fill: #FFFFFF;\n",
              "    }\n",
              "  </style>\n",
              "\n",
              "      <script>\n",
              "        const buttonEl =\n",
              "          document.querySelector('#df-2e850fa4-9f61-44df-b813-07286ce5fb1b button.colab-df-convert');\n",
              "        buttonEl.style.display =\n",
              "          google.colab.kernel.accessAllowed ? 'block' : 'none';\n",
              "\n",
              "        async function convertToInteractive(key) {\n",
              "          const element = document.querySelector('#df-2e850fa4-9f61-44df-b813-07286ce5fb1b');\n",
              "          const dataTable =\n",
              "            await google.colab.kernel.invokeFunction('convertToInteractive',\n",
              "                                                     [key], {});\n",
              "          if (!dataTable) return;\n",
              "\n",
              "          const docLinkHtml = 'Like what you see? Visit the ' +\n",
              "            '<a target=\"_blank\" href=https://colab.research.google.com/notebooks/data_table.ipynb>data table notebook</a>'\n",
              "            + ' to learn more about interactive tables.';\n",
              "          element.innerHTML = '';\n",
              "          dataTable['output_type'] = 'display_data';\n",
              "          await google.colab.output.renderOutput(dataTable, element);\n",
              "          const docLink = document.createElement('div');\n",
              "          docLink.innerHTML = docLinkHtml;\n",
              "          element.appendChild(docLink);\n",
              "        }\n",
              "      </script>\n",
              "    </div>\n",
              "  </div>\n",
              "  "
            ]
          },
          "metadata": {},
          "execution_count": 83
        }
      ]
    },
    {
      "cell_type": "code",
      "source": [
        "iris_pd.head(n=9)\n"
      ],
      "metadata": {
        "colab": {
          "base_uri": "https://localhost:8080/",
          "height": 331
        },
        "id": "m4rJXM-RTn8b",
        "outputId": "9780f77f-7594-4313-df76-7e70af8b0479"
      },
      "execution_count": null,
      "outputs": [
        {
          "output_type": "execute_result",
          "data": {
            "text/plain": [
              "   sepal length (cm)  sepal width (cm)  petal length (cm)  petal width (cm)\n",
              "0                5.1               3.5                1.4               0.2\n",
              "1                4.9               3.0                1.4               0.2\n",
              "2                4.7               3.2                1.3               0.2\n",
              "3                4.6               3.1                1.5               0.2\n",
              "4                5.0               3.6                1.4               0.2\n",
              "5                5.4               3.9                1.7               0.4\n",
              "6                4.6               3.4                1.4               0.3\n",
              "7                5.0               3.4                1.5               0.2\n",
              "8                4.4               2.9                1.4               0.2"
            ],
            "text/html": [
              "\n",
              "  <div id=\"df-8a75b4f3-a6ad-4513-aac0-c649db7e770b\">\n",
              "    <div class=\"colab-df-container\">\n",
              "      <div>\n",
              "<style scoped>\n",
              "    .dataframe tbody tr th:only-of-type {\n",
              "        vertical-align: middle;\n",
              "    }\n",
              "\n",
              "    .dataframe tbody tr th {\n",
              "        vertical-align: top;\n",
              "    }\n",
              "\n",
              "    .dataframe thead th {\n",
              "        text-align: right;\n",
              "    }\n",
              "</style>\n",
              "<table border=\"1\" class=\"dataframe\">\n",
              "  <thead>\n",
              "    <tr style=\"text-align: right;\">\n",
              "      <th></th>\n",
              "      <th>sepal length (cm)</th>\n",
              "      <th>sepal width (cm)</th>\n",
              "      <th>petal length (cm)</th>\n",
              "      <th>petal width (cm)</th>\n",
              "    </tr>\n",
              "  </thead>\n",
              "  <tbody>\n",
              "    <tr>\n",
              "      <th>0</th>\n",
              "      <td>5.1</td>\n",
              "      <td>3.5</td>\n",
              "      <td>1.4</td>\n",
              "      <td>0.2</td>\n",
              "    </tr>\n",
              "    <tr>\n",
              "      <th>1</th>\n",
              "      <td>4.9</td>\n",
              "      <td>3.0</td>\n",
              "      <td>1.4</td>\n",
              "      <td>0.2</td>\n",
              "    </tr>\n",
              "    <tr>\n",
              "      <th>2</th>\n",
              "      <td>4.7</td>\n",
              "      <td>3.2</td>\n",
              "      <td>1.3</td>\n",
              "      <td>0.2</td>\n",
              "    </tr>\n",
              "    <tr>\n",
              "      <th>3</th>\n",
              "      <td>4.6</td>\n",
              "      <td>3.1</td>\n",
              "      <td>1.5</td>\n",
              "      <td>0.2</td>\n",
              "    </tr>\n",
              "    <tr>\n",
              "      <th>4</th>\n",
              "      <td>5.0</td>\n",
              "      <td>3.6</td>\n",
              "      <td>1.4</td>\n",
              "      <td>0.2</td>\n",
              "    </tr>\n",
              "    <tr>\n",
              "      <th>5</th>\n",
              "      <td>5.4</td>\n",
              "      <td>3.9</td>\n",
              "      <td>1.7</td>\n",
              "      <td>0.4</td>\n",
              "    </tr>\n",
              "    <tr>\n",
              "      <th>6</th>\n",
              "      <td>4.6</td>\n",
              "      <td>3.4</td>\n",
              "      <td>1.4</td>\n",
              "      <td>0.3</td>\n",
              "    </tr>\n",
              "    <tr>\n",
              "      <th>7</th>\n",
              "      <td>5.0</td>\n",
              "      <td>3.4</td>\n",
              "      <td>1.5</td>\n",
              "      <td>0.2</td>\n",
              "    </tr>\n",
              "    <tr>\n",
              "      <th>8</th>\n",
              "      <td>4.4</td>\n",
              "      <td>2.9</td>\n",
              "      <td>1.4</td>\n",
              "      <td>0.2</td>\n",
              "    </tr>\n",
              "  </tbody>\n",
              "</table>\n",
              "</div>\n",
              "      <button class=\"colab-df-convert\" onclick=\"convertToInteractive('df-8a75b4f3-a6ad-4513-aac0-c649db7e770b')\"\n",
              "              title=\"Convert this dataframe to an interactive table.\"\n",
              "              style=\"display:none;\">\n",
              "        \n",
              "  <svg xmlns=\"http://www.w3.org/2000/svg\" height=\"24px\"viewBox=\"0 0 24 24\"\n",
              "       width=\"24px\">\n",
              "    <path d=\"M0 0h24v24H0V0z\" fill=\"none\"/>\n",
              "    <path d=\"M18.56 5.44l.94 2.06.94-2.06 2.06-.94-2.06-.94-.94-2.06-.94 2.06-2.06.94zm-11 1L8.5 8.5l.94-2.06 2.06-.94-2.06-.94L8.5 2.5l-.94 2.06-2.06.94zm10 10l.94 2.06.94-2.06 2.06-.94-2.06-.94-.94-2.06-.94 2.06-2.06.94z\"/><path d=\"M17.41 7.96l-1.37-1.37c-.4-.4-.92-.59-1.43-.59-.52 0-1.04.2-1.43.59L10.3 9.45l-7.72 7.72c-.78.78-.78 2.05 0 2.83L4 21.41c.39.39.9.59 1.41.59.51 0 1.02-.2 1.41-.59l7.78-7.78 2.81-2.81c.8-.78.8-2.07 0-2.86zM5.41 20L4 18.59l7.72-7.72 1.47 1.35L5.41 20z\"/>\n",
              "  </svg>\n",
              "      </button>\n",
              "      \n",
              "  <style>\n",
              "    .colab-df-container {\n",
              "      display:flex;\n",
              "      flex-wrap:wrap;\n",
              "      gap: 12px;\n",
              "    }\n",
              "\n",
              "    .colab-df-convert {\n",
              "      background-color: #E8F0FE;\n",
              "      border: none;\n",
              "      border-radius: 50%;\n",
              "      cursor: pointer;\n",
              "      display: none;\n",
              "      fill: #1967D2;\n",
              "      height: 32px;\n",
              "      padding: 0 0 0 0;\n",
              "      width: 32px;\n",
              "    }\n",
              "\n",
              "    .colab-df-convert:hover {\n",
              "      background-color: #E2EBFA;\n",
              "      box-shadow: 0px 1px 2px rgba(60, 64, 67, 0.3), 0px 1px 3px 1px rgba(60, 64, 67, 0.15);\n",
              "      fill: #174EA6;\n",
              "    }\n",
              "\n",
              "    [theme=dark] .colab-df-convert {\n",
              "      background-color: #3B4455;\n",
              "      fill: #D2E3FC;\n",
              "    }\n",
              "\n",
              "    [theme=dark] .colab-df-convert:hover {\n",
              "      background-color: #434B5C;\n",
              "      box-shadow: 0px 1px 3px 1px rgba(0, 0, 0, 0.15);\n",
              "      filter: drop-shadow(0px 1px 2px rgba(0, 0, 0, 0.3));\n",
              "      fill: #FFFFFF;\n",
              "    }\n",
              "  </style>\n",
              "\n",
              "      <script>\n",
              "        const buttonEl =\n",
              "          document.querySelector('#df-8a75b4f3-a6ad-4513-aac0-c649db7e770b button.colab-df-convert');\n",
              "        buttonEl.style.display =\n",
              "          google.colab.kernel.accessAllowed ? 'block' : 'none';\n",
              "\n",
              "        async function convertToInteractive(key) {\n",
              "          const element = document.querySelector('#df-8a75b4f3-a6ad-4513-aac0-c649db7e770b');\n",
              "          const dataTable =\n",
              "            await google.colab.kernel.invokeFunction('convertToInteractive',\n",
              "                                                     [key], {});\n",
              "          if (!dataTable) return;\n",
              "\n",
              "          const docLinkHtml = 'Like what you see? Visit the ' +\n",
              "            '<a target=\"_blank\" href=https://colab.research.google.com/notebooks/data_table.ipynb>data table notebook</a>'\n",
              "            + ' to learn more about interactive tables.';\n",
              "          element.innerHTML = '';\n",
              "          dataTable['output_type'] = 'display_data';\n",
              "          await google.colab.output.renderOutput(dataTable, element);\n",
              "          const docLink = document.createElement('div');\n",
              "          docLink.innerHTML = docLinkHtml;\n",
              "          element.appendChild(docLink);\n",
              "        }\n",
              "      </script>\n",
              "    </div>\n",
              "  </div>\n",
              "  "
            ]
          },
          "metadata": {},
          "execution_count": 84
        }
      ]
    },
    {
      "cell_type": "code",
      "source": [
        "iris_pd.head(n=20)"
      ],
      "metadata": {
        "colab": {
          "base_uri": "https://localhost:8080/",
          "height": 677
        },
        "id": "AVVQNPeDUgZN",
        "outputId": "17acd03f-eca9-4f35-8c8c-004e5785886f"
      },
      "execution_count": null,
      "outputs": [
        {
          "output_type": "execute_result",
          "data": {
            "text/plain": [
              "    sepal length (cm)  sepal width (cm)  petal length (cm)  petal width (cm)\n",
              "0                 5.1               3.5                1.4               0.2\n",
              "1                 4.9               3.0                1.4               0.2\n",
              "2                 4.7               3.2                1.3               0.2\n",
              "3                 4.6               3.1                1.5               0.2\n",
              "4                 5.0               3.6                1.4               0.2\n",
              "5                 5.4               3.9                1.7               0.4\n",
              "6                 4.6               3.4                1.4               0.3\n",
              "7                 5.0               3.4                1.5               0.2\n",
              "8                 4.4               2.9                1.4               0.2\n",
              "9                 4.9               3.1                1.5               0.1\n",
              "10                5.4               3.7                1.5               0.2\n",
              "11                4.8               3.4                1.6               0.2\n",
              "12                4.8               3.0                1.4               0.1\n",
              "13                4.3               3.0                1.1               0.1\n",
              "14                5.8               4.0                1.2               0.2\n",
              "15                5.7               4.4                1.5               0.4\n",
              "16                5.4               3.9                1.3               0.4\n",
              "17                5.1               3.5                1.4               0.3\n",
              "18                5.7               3.8                1.7               0.3\n",
              "19                5.1               3.8                1.5               0.3"
            ],
            "text/html": [
              "\n",
              "  <div id=\"df-65d483fb-613e-479c-b61d-58dbd2b83e09\">\n",
              "    <div class=\"colab-df-container\">\n",
              "      <div>\n",
              "<style scoped>\n",
              "    .dataframe tbody tr th:only-of-type {\n",
              "        vertical-align: middle;\n",
              "    }\n",
              "\n",
              "    .dataframe tbody tr th {\n",
              "        vertical-align: top;\n",
              "    }\n",
              "\n",
              "    .dataframe thead th {\n",
              "        text-align: right;\n",
              "    }\n",
              "</style>\n",
              "<table border=\"1\" class=\"dataframe\">\n",
              "  <thead>\n",
              "    <tr style=\"text-align: right;\">\n",
              "      <th></th>\n",
              "      <th>sepal length (cm)</th>\n",
              "      <th>sepal width (cm)</th>\n",
              "      <th>petal length (cm)</th>\n",
              "      <th>petal width (cm)</th>\n",
              "    </tr>\n",
              "  </thead>\n",
              "  <tbody>\n",
              "    <tr>\n",
              "      <th>0</th>\n",
              "      <td>5.1</td>\n",
              "      <td>3.5</td>\n",
              "      <td>1.4</td>\n",
              "      <td>0.2</td>\n",
              "    </tr>\n",
              "    <tr>\n",
              "      <th>1</th>\n",
              "      <td>4.9</td>\n",
              "      <td>3.0</td>\n",
              "      <td>1.4</td>\n",
              "      <td>0.2</td>\n",
              "    </tr>\n",
              "    <tr>\n",
              "      <th>2</th>\n",
              "      <td>4.7</td>\n",
              "      <td>3.2</td>\n",
              "      <td>1.3</td>\n",
              "      <td>0.2</td>\n",
              "    </tr>\n",
              "    <tr>\n",
              "      <th>3</th>\n",
              "      <td>4.6</td>\n",
              "      <td>3.1</td>\n",
              "      <td>1.5</td>\n",
              "      <td>0.2</td>\n",
              "    </tr>\n",
              "    <tr>\n",
              "      <th>4</th>\n",
              "      <td>5.0</td>\n",
              "      <td>3.6</td>\n",
              "      <td>1.4</td>\n",
              "      <td>0.2</td>\n",
              "    </tr>\n",
              "    <tr>\n",
              "      <th>5</th>\n",
              "      <td>5.4</td>\n",
              "      <td>3.9</td>\n",
              "      <td>1.7</td>\n",
              "      <td>0.4</td>\n",
              "    </tr>\n",
              "    <tr>\n",
              "      <th>6</th>\n",
              "      <td>4.6</td>\n",
              "      <td>3.4</td>\n",
              "      <td>1.4</td>\n",
              "      <td>0.3</td>\n",
              "    </tr>\n",
              "    <tr>\n",
              "      <th>7</th>\n",
              "      <td>5.0</td>\n",
              "      <td>3.4</td>\n",
              "      <td>1.5</td>\n",
              "      <td>0.2</td>\n",
              "    </tr>\n",
              "    <tr>\n",
              "      <th>8</th>\n",
              "      <td>4.4</td>\n",
              "      <td>2.9</td>\n",
              "      <td>1.4</td>\n",
              "      <td>0.2</td>\n",
              "    </tr>\n",
              "    <tr>\n",
              "      <th>9</th>\n",
              "      <td>4.9</td>\n",
              "      <td>3.1</td>\n",
              "      <td>1.5</td>\n",
              "      <td>0.1</td>\n",
              "    </tr>\n",
              "    <tr>\n",
              "      <th>10</th>\n",
              "      <td>5.4</td>\n",
              "      <td>3.7</td>\n",
              "      <td>1.5</td>\n",
              "      <td>0.2</td>\n",
              "    </tr>\n",
              "    <tr>\n",
              "      <th>11</th>\n",
              "      <td>4.8</td>\n",
              "      <td>3.4</td>\n",
              "      <td>1.6</td>\n",
              "      <td>0.2</td>\n",
              "    </tr>\n",
              "    <tr>\n",
              "      <th>12</th>\n",
              "      <td>4.8</td>\n",
              "      <td>3.0</td>\n",
              "      <td>1.4</td>\n",
              "      <td>0.1</td>\n",
              "    </tr>\n",
              "    <tr>\n",
              "      <th>13</th>\n",
              "      <td>4.3</td>\n",
              "      <td>3.0</td>\n",
              "      <td>1.1</td>\n",
              "      <td>0.1</td>\n",
              "    </tr>\n",
              "    <tr>\n",
              "      <th>14</th>\n",
              "      <td>5.8</td>\n",
              "      <td>4.0</td>\n",
              "      <td>1.2</td>\n",
              "      <td>0.2</td>\n",
              "    </tr>\n",
              "    <tr>\n",
              "      <th>15</th>\n",
              "      <td>5.7</td>\n",
              "      <td>4.4</td>\n",
              "      <td>1.5</td>\n",
              "      <td>0.4</td>\n",
              "    </tr>\n",
              "    <tr>\n",
              "      <th>16</th>\n",
              "      <td>5.4</td>\n",
              "      <td>3.9</td>\n",
              "      <td>1.3</td>\n",
              "      <td>0.4</td>\n",
              "    </tr>\n",
              "    <tr>\n",
              "      <th>17</th>\n",
              "      <td>5.1</td>\n",
              "      <td>3.5</td>\n",
              "      <td>1.4</td>\n",
              "      <td>0.3</td>\n",
              "    </tr>\n",
              "    <tr>\n",
              "      <th>18</th>\n",
              "      <td>5.7</td>\n",
              "      <td>3.8</td>\n",
              "      <td>1.7</td>\n",
              "      <td>0.3</td>\n",
              "    </tr>\n",
              "    <tr>\n",
              "      <th>19</th>\n",
              "      <td>5.1</td>\n",
              "      <td>3.8</td>\n",
              "      <td>1.5</td>\n",
              "      <td>0.3</td>\n",
              "    </tr>\n",
              "  </tbody>\n",
              "</table>\n",
              "</div>\n",
              "      <button class=\"colab-df-convert\" onclick=\"convertToInteractive('df-65d483fb-613e-479c-b61d-58dbd2b83e09')\"\n",
              "              title=\"Convert this dataframe to an interactive table.\"\n",
              "              style=\"display:none;\">\n",
              "        \n",
              "  <svg xmlns=\"http://www.w3.org/2000/svg\" height=\"24px\"viewBox=\"0 0 24 24\"\n",
              "       width=\"24px\">\n",
              "    <path d=\"M0 0h24v24H0V0z\" fill=\"none\"/>\n",
              "    <path d=\"M18.56 5.44l.94 2.06.94-2.06 2.06-.94-2.06-.94-.94-2.06-.94 2.06-2.06.94zm-11 1L8.5 8.5l.94-2.06 2.06-.94-2.06-.94L8.5 2.5l-.94 2.06-2.06.94zm10 10l.94 2.06.94-2.06 2.06-.94-2.06-.94-.94-2.06-.94 2.06-2.06.94z\"/><path d=\"M17.41 7.96l-1.37-1.37c-.4-.4-.92-.59-1.43-.59-.52 0-1.04.2-1.43.59L10.3 9.45l-7.72 7.72c-.78.78-.78 2.05 0 2.83L4 21.41c.39.39.9.59 1.41.59.51 0 1.02-.2 1.41-.59l7.78-7.78 2.81-2.81c.8-.78.8-2.07 0-2.86zM5.41 20L4 18.59l7.72-7.72 1.47 1.35L5.41 20z\"/>\n",
              "  </svg>\n",
              "      </button>\n",
              "      \n",
              "  <style>\n",
              "    .colab-df-container {\n",
              "      display:flex;\n",
              "      flex-wrap:wrap;\n",
              "      gap: 12px;\n",
              "    }\n",
              "\n",
              "    .colab-df-convert {\n",
              "      background-color: #E8F0FE;\n",
              "      border: none;\n",
              "      border-radius: 50%;\n",
              "      cursor: pointer;\n",
              "      display: none;\n",
              "      fill: #1967D2;\n",
              "      height: 32px;\n",
              "      padding: 0 0 0 0;\n",
              "      width: 32px;\n",
              "    }\n",
              "\n",
              "    .colab-df-convert:hover {\n",
              "      background-color: #E2EBFA;\n",
              "      box-shadow: 0px 1px 2px rgba(60, 64, 67, 0.3), 0px 1px 3px 1px rgba(60, 64, 67, 0.15);\n",
              "      fill: #174EA6;\n",
              "    }\n",
              "\n",
              "    [theme=dark] .colab-df-convert {\n",
              "      background-color: #3B4455;\n",
              "      fill: #D2E3FC;\n",
              "    }\n",
              "\n",
              "    [theme=dark] .colab-df-convert:hover {\n",
              "      background-color: #434B5C;\n",
              "      box-shadow: 0px 1px 3px 1px rgba(0, 0, 0, 0.15);\n",
              "      filter: drop-shadow(0px 1px 2px rgba(0, 0, 0, 0.3));\n",
              "      fill: #FFFFFF;\n",
              "    }\n",
              "  </style>\n",
              "\n",
              "      <script>\n",
              "        const buttonEl =\n",
              "          document.querySelector('#df-65d483fb-613e-479c-b61d-58dbd2b83e09 button.colab-df-convert');\n",
              "        buttonEl.style.display =\n",
              "          google.colab.kernel.accessAllowed ? 'block' : 'none';\n",
              "\n",
              "        async function convertToInteractive(key) {\n",
              "          const element = document.querySelector('#df-65d483fb-613e-479c-b61d-58dbd2b83e09');\n",
              "          const dataTable =\n",
              "            await google.colab.kernel.invokeFunction('convertToInteractive',\n",
              "                                                     [key], {});\n",
              "          if (!dataTable) return;\n",
              "\n",
              "          const docLinkHtml = 'Like what you see? Visit the ' +\n",
              "            '<a target=\"_blank\" href=https://colab.research.google.com/notebooks/data_table.ipynb>data table notebook</a>'\n",
              "            + ' to learn more about interactive tables.';\n",
              "          element.innerHTML = '';\n",
              "          dataTable['output_type'] = 'display_data';\n",
              "          await google.colab.output.renderOutput(dataTable, element);\n",
              "          const docLink = document.createElement('div');\n",
              "          docLink.innerHTML = docLinkHtml;\n",
              "          element.appendChild(docLink);\n",
              "        }\n",
              "      </script>\n",
              "    </div>\n",
              "  </div>\n",
              "  "
            ]
          },
          "metadata": {},
          "execution_count": 86
        }
      ]
    },
    {
      "cell_type": "code",
      "source": [
        "\n",
        "\n",
        "df_flights = pd.read_csv('https://raw.githubusercontent.com/ismayc/pnwflights14/master/data/flights.csv')\n",
        "df_flights.head()\n",
        "\n"
      ],
      "metadata": {
        "colab": {
          "base_uri": "https://localhost:8080/",
          "height": 206
        },
        "id": "ImYunKWUVCFR",
        "outputId": "ab1b997c-34b2-41ef-b495-63ec6604cbc8"
      },
      "execution_count": null,
      "outputs": [
        {
          "output_type": "execute_result",
          "data": {
            "text/plain": [
              "   year  month  day  dep_time  dep_delay  arr_time  arr_delay carrier tailnum  \\\n",
              "0  2014      1    1       1.0       96.0     235.0       70.0      AS  N508AS   \n",
              "1  2014      1    1       4.0       -6.0     738.0      -23.0      US  N195UW   \n",
              "2  2014      1    1       8.0       13.0     548.0       -4.0      UA  N37422   \n",
              "3  2014      1    1      28.0       -2.0     800.0      -23.0      US  N547UW   \n",
              "4  2014      1    1      34.0       44.0     325.0       43.0      AS  N762AS   \n",
              "\n",
              "   flight origin dest  air_time  distance  hour  minute  \n",
              "0     145    PDX  ANC     194.0      1542   0.0     1.0  \n",
              "1    1830    SEA  CLT     252.0      2279   0.0     4.0  \n",
              "2    1609    PDX  IAH     201.0      1825   0.0     8.0  \n",
              "3     466    PDX  CLT     251.0      2282   0.0    28.0  \n",
              "4     121    SEA  ANC     201.0      1448   0.0    34.0  "
            ],
            "text/html": [
              "\n",
              "  <div id=\"df-7e158339-e4bc-4077-b13d-7ea51c42e900\">\n",
              "    <div class=\"colab-df-container\">\n",
              "      <div>\n",
              "<style scoped>\n",
              "    .dataframe tbody tr th:only-of-type {\n",
              "        vertical-align: middle;\n",
              "    }\n",
              "\n",
              "    .dataframe tbody tr th {\n",
              "        vertical-align: top;\n",
              "    }\n",
              "\n",
              "    .dataframe thead th {\n",
              "        text-align: right;\n",
              "    }\n",
              "</style>\n",
              "<table border=\"1\" class=\"dataframe\">\n",
              "  <thead>\n",
              "    <tr style=\"text-align: right;\">\n",
              "      <th></th>\n",
              "      <th>year</th>\n",
              "      <th>month</th>\n",
              "      <th>day</th>\n",
              "      <th>dep_time</th>\n",
              "      <th>dep_delay</th>\n",
              "      <th>arr_time</th>\n",
              "      <th>arr_delay</th>\n",
              "      <th>carrier</th>\n",
              "      <th>tailnum</th>\n",
              "      <th>flight</th>\n",
              "      <th>origin</th>\n",
              "      <th>dest</th>\n",
              "      <th>air_time</th>\n",
              "      <th>distance</th>\n",
              "      <th>hour</th>\n",
              "      <th>minute</th>\n",
              "    </tr>\n",
              "  </thead>\n",
              "  <tbody>\n",
              "    <tr>\n",
              "      <th>0</th>\n",
              "      <td>2014</td>\n",
              "      <td>1</td>\n",
              "      <td>1</td>\n",
              "      <td>1.0</td>\n",
              "      <td>96.0</td>\n",
              "      <td>235.0</td>\n",
              "      <td>70.0</td>\n",
              "      <td>AS</td>\n",
              "      <td>N508AS</td>\n",
              "      <td>145</td>\n",
              "      <td>PDX</td>\n",
              "      <td>ANC</td>\n",
              "      <td>194.0</td>\n",
              "      <td>1542</td>\n",
              "      <td>0.0</td>\n",
              "      <td>1.0</td>\n",
              "    </tr>\n",
              "    <tr>\n",
              "      <th>1</th>\n",
              "      <td>2014</td>\n",
              "      <td>1</td>\n",
              "      <td>1</td>\n",
              "      <td>4.0</td>\n",
              "      <td>-6.0</td>\n",
              "      <td>738.0</td>\n",
              "      <td>-23.0</td>\n",
              "      <td>US</td>\n",
              "      <td>N195UW</td>\n",
              "      <td>1830</td>\n",
              "      <td>SEA</td>\n",
              "      <td>CLT</td>\n",
              "      <td>252.0</td>\n",
              "      <td>2279</td>\n",
              "      <td>0.0</td>\n",
              "      <td>4.0</td>\n",
              "    </tr>\n",
              "    <tr>\n",
              "      <th>2</th>\n",
              "      <td>2014</td>\n",
              "      <td>1</td>\n",
              "      <td>1</td>\n",
              "      <td>8.0</td>\n",
              "      <td>13.0</td>\n",
              "      <td>548.0</td>\n",
              "      <td>-4.0</td>\n",
              "      <td>UA</td>\n",
              "      <td>N37422</td>\n",
              "      <td>1609</td>\n",
              "      <td>PDX</td>\n",
              "      <td>IAH</td>\n",
              "      <td>201.0</td>\n",
              "      <td>1825</td>\n",
              "      <td>0.0</td>\n",
              "      <td>8.0</td>\n",
              "    </tr>\n",
              "    <tr>\n",
              "      <th>3</th>\n",
              "      <td>2014</td>\n",
              "      <td>1</td>\n",
              "      <td>1</td>\n",
              "      <td>28.0</td>\n",
              "      <td>-2.0</td>\n",
              "      <td>800.0</td>\n",
              "      <td>-23.0</td>\n",
              "      <td>US</td>\n",
              "      <td>N547UW</td>\n",
              "      <td>466</td>\n",
              "      <td>PDX</td>\n",
              "      <td>CLT</td>\n",
              "      <td>251.0</td>\n",
              "      <td>2282</td>\n",
              "      <td>0.0</td>\n",
              "      <td>28.0</td>\n",
              "    </tr>\n",
              "    <tr>\n",
              "      <th>4</th>\n",
              "      <td>2014</td>\n",
              "      <td>1</td>\n",
              "      <td>1</td>\n",
              "      <td>34.0</td>\n",
              "      <td>44.0</td>\n",
              "      <td>325.0</td>\n",
              "      <td>43.0</td>\n",
              "      <td>AS</td>\n",
              "      <td>N762AS</td>\n",
              "      <td>121</td>\n",
              "      <td>SEA</td>\n",
              "      <td>ANC</td>\n",
              "      <td>201.0</td>\n",
              "      <td>1448</td>\n",
              "      <td>0.0</td>\n",
              "      <td>34.0</td>\n",
              "    </tr>\n",
              "  </tbody>\n",
              "</table>\n",
              "</div>\n",
              "      <button class=\"colab-df-convert\" onclick=\"convertToInteractive('df-7e158339-e4bc-4077-b13d-7ea51c42e900')\"\n",
              "              title=\"Convert this dataframe to an interactive table.\"\n",
              "              style=\"display:none;\">\n",
              "        \n",
              "  <svg xmlns=\"http://www.w3.org/2000/svg\" height=\"24px\"viewBox=\"0 0 24 24\"\n",
              "       width=\"24px\">\n",
              "    <path d=\"M0 0h24v24H0V0z\" fill=\"none\"/>\n",
              "    <path d=\"M18.56 5.44l.94 2.06.94-2.06 2.06-.94-2.06-.94-.94-2.06-.94 2.06-2.06.94zm-11 1L8.5 8.5l.94-2.06 2.06-.94-2.06-.94L8.5 2.5l-.94 2.06-2.06.94zm10 10l.94 2.06.94-2.06 2.06-.94-2.06-.94-.94-2.06-.94 2.06-2.06.94z\"/><path d=\"M17.41 7.96l-1.37-1.37c-.4-.4-.92-.59-1.43-.59-.52 0-1.04.2-1.43.59L10.3 9.45l-7.72 7.72c-.78.78-.78 2.05 0 2.83L4 21.41c.39.39.9.59 1.41.59.51 0 1.02-.2 1.41-.59l7.78-7.78 2.81-2.81c.8-.78.8-2.07 0-2.86zM5.41 20L4 18.59l7.72-7.72 1.47 1.35L5.41 20z\"/>\n",
              "  </svg>\n",
              "      </button>\n",
              "      \n",
              "  <style>\n",
              "    .colab-df-container {\n",
              "      display:flex;\n",
              "      flex-wrap:wrap;\n",
              "      gap: 12px;\n",
              "    }\n",
              "\n",
              "    .colab-df-convert {\n",
              "      background-color: #E8F0FE;\n",
              "      border: none;\n",
              "      border-radius: 50%;\n",
              "      cursor: pointer;\n",
              "      display: none;\n",
              "      fill: #1967D2;\n",
              "      height: 32px;\n",
              "      padding: 0 0 0 0;\n",
              "      width: 32px;\n",
              "    }\n",
              "\n",
              "    .colab-df-convert:hover {\n",
              "      background-color: #E2EBFA;\n",
              "      box-shadow: 0px 1px 2px rgba(60, 64, 67, 0.3), 0px 1px 3px 1px rgba(60, 64, 67, 0.15);\n",
              "      fill: #174EA6;\n",
              "    }\n",
              "\n",
              "    [theme=dark] .colab-df-convert {\n",
              "      background-color: #3B4455;\n",
              "      fill: #D2E3FC;\n",
              "    }\n",
              "\n",
              "    [theme=dark] .colab-df-convert:hover {\n",
              "      background-color: #434B5C;\n",
              "      box-shadow: 0px 1px 3px 1px rgba(0, 0, 0, 0.15);\n",
              "      filter: drop-shadow(0px 1px 2px rgba(0, 0, 0, 0.3));\n",
              "      fill: #FFFFFF;\n",
              "    }\n",
              "  </style>\n",
              "\n",
              "      <script>\n",
              "        const buttonEl =\n",
              "          document.querySelector('#df-7e158339-e4bc-4077-b13d-7ea51c42e900 button.colab-df-convert');\n",
              "        buttonEl.style.display =\n",
              "          google.colab.kernel.accessAllowed ? 'block' : 'none';\n",
              "\n",
              "        async function convertToInteractive(key) {\n",
              "          const element = document.querySelector('#df-7e158339-e4bc-4077-b13d-7ea51c42e900');\n",
              "          const dataTable =\n",
              "            await google.colab.kernel.invokeFunction('convertToInteractive',\n",
              "                                                     [key], {});\n",
              "          if (!dataTable) return;\n",
              "\n",
              "          const docLinkHtml = 'Like what you see? Visit the ' +\n",
              "            '<a target=\"_blank\" href=https://colab.research.google.com/notebooks/data_table.ipynb>data table notebook</a>'\n",
              "            + ' to learn more about interactive tables.';\n",
              "          element.innerHTML = '';\n",
              "          dataTable['output_type'] = 'display_data';\n",
              "          await google.colab.output.renderOutput(dataTable, element);\n",
              "          const docLink = document.createElement('div');\n",
              "          docLink.innerHTML = docLinkHtml;\n",
              "          element.appendChild(docLink);\n",
              "        }\n",
              "      </script>\n",
              "    </div>\n",
              "  </div>\n",
              "  "
            ]
          },
          "metadata": {},
          "execution_count": 87
        }
      ]
    },
    {
      "cell_type": "code",
      "source": [
        "df_flights.info()"
      ],
      "metadata": {
        "colab": {
          "base_uri": "https://localhost:8080/"
        },
        "id": "p9kvjaveVYj6",
        "outputId": "cb22ddbb-3b0b-4d4d-a02e-0728c8801ef3"
      },
      "execution_count": null,
      "outputs": [
        {
          "output_type": "stream",
          "name": "stdout",
          "text": [
            "<class 'pandas.core.frame.DataFrame'>\n",
            "RangeIndex: 162049 entries, 0 to 162048\n",
            "Data columns (total 16 columns):\n",
            " #   Column     Non-Null Count   Dtype  \n",
            "---  ------     --------------   -----  \n",
            " 0   year       162049 non-null  int64  \n",
            " 1   month      162049 non-null  int64  \n",
            " 2   day        162049 non-null  int64  \n",
            " 3   dep_time   161192 non-null  float64\n",
            " 4   dep_delay  161192 non-null  float64\n",
            " 5   arr_time   161061 non-null  float64\n",
            " 6   arr_delay  160748 non-null  float64\n",
            " 7   carrier    162049 non-null  object \n",
            " 8   tailnum    161801 non-null  object \n",
            " 9   flight     162049 non-null  int64  \n",
            " 10  origin     162049 non-null  object \n",
            " 11  dest       162049 non-null  object \n",
            " 12  air_time   160748 non-null  float64\n",
            " 13  distance   162049 non-null  int64  \n",
            " 14  hour       161192 non-null  float64\n",
            " 15  minute     161192 non-null  float64\n",
            "dtypes: float64(7), int64(5), object(4)\n",
            "memory usage: 19.8+ MB\n"
          ]
        }
      ]
    },
    {
      "cell_type": "code",
      "source": [
        "df_flights.tail(n=20)\n"
      ],
      "metadata": {
        "colab": {
          "base_uri": "https://localhost:8080/",
          "height": 677
        },
        "id": "QHrXPLJnVvtY",
        "outputId": "2efac35c-d4dd-4cd3-fe5e-e0116060ef8a"
      },
      "execution_count": null,
      "outputs": [
        {
          "output_type": "execute_result",
          "data": {
            "text/plain": [
              "        year  month  day  dep_time  dep_delay  arr_time  arr_delay carrier  \\\n",
              "162029  2014      9   30    2244.0       -6.0     711.0       12.0      B6   \n",
              "162030  2014      9   30    2245.0        0.0     652.0       27.0      DL   \n",
              "162031  2014      9   30    2245.0       -2.0     607.0      -15.0      DL   \n",
              "162032  2014      9   30    2248.0        0.0     433.0       -5.0      UA   \n",
              "162033  2014      9   30    2255.0       -5.0     145.0        7.0      AS   \n",
              "162034  2014      9   30    2257.0       -3.0     604.0       -9.0      DL   \n",
              "162035  2014      9   30    2303.0       -7.0     200.0        0.0      AS   \n",
              "162036  2014      9   30    2317.0       -3.0     732.0       19.0      UA   \n",
              "162037  2014      9   30    2320.0       20.0      10.0       16.0      AS   \n",
              "162038  2014      9   30    2325.0        0.0     446.0      -19.0      AA   \n",
              "162039  2014      9   30    2326.0       -4.0     513.0       -5.0      UA   \n",
              "162040  2014      9   30    2336.0      124.0     729.0      116.0      UA   \n",
              "162041  2014      9   30    2344.0       -1.0     527.0       -5.0      UA   \n",
              "162042  2014      9   30    2347.0       -3.0     229.0       -2.0      AS   \n",
              "162043  2014      9   30    2349.0       -1.0     514.0      -19.0      AS   \n",
              "162044  2014      9   30    2357.0       -2.0     545.0      -20.0      UA   \n",
              "162045  2014      9   30    2359.0        4.0     734.0       -1.0      DL   \n",
              "162046  2014      9   30       NaN        NaN       NaN        NaN      AS   \n",
              "162047  2014      9   30       NaN        NaN       NaN        NaN      US   \n",
              "162048  2014      9   30       NaN        NaN       NaN        NaN      WN   \n",
              "\n",
              "       tailnum  flight origin dest  air_time  distance  hour  minute  \n",
              "162029  N523JB     498    SEA  BOS     304.0      2496  22.0    44.0  \n",
              "162030  N130DL    1629    SEA  ATL     247.0      2182  22.0    45.0  \n",
              "162031  N6716C    2497    PDX  ATL     246.0      2172  22.0    45.0  \n",
              "162032  N18223    1167    SEA  ORD     209.0      1721  22.0    48.0  \n",
              "162033  N318AS     119    SEA  ANC     209.0      1448  22.0    55.0  \n",
              "162034  N374DA     761    SEA  DTW     230.0      1927  22.0    57.0  \n",
              "162035  N618AS     127    SEA  FAI     215.0      1533  23.0     3.0  \n",
              "162036  N27421    1246    SEA  IAD     293.0      2306  23.0    17.0  \n",
              "162037  N713AS     698    SEA  GEG      36.0       224  23.0    20.0  \n",
              "162038  N3JKAA    1230    SEA  DFW     187.0      1660  23.0    25.0  \n",
              "162039  N38473    1538    PDX  ORD     209.0      1739  23.0    26.0  \n",
              "162040  N38443    1695    SEA  EWR     277.0      2402  23.0    36.0  \n",
              "162041  N33286    1215    SEA  ORD     203.0      1721  23.0    44.0  \n",
              "162042  N763AS     121    SEA  ANC     209.0      1448  23.0    47.0  \n",
              "162043  N409AS     660    SEA  DFW     188.0      1660  23.0    49.0  \n",
              "162044  N477UA     479    PDX  IAH     210.0      1825  23.0    57.0  \n",
              "162045  N137DL    1929    SEA  ATL     244.0      2182  23.0    59.0  \n",
              "162046  N530AS     470    SEA  SAN       NaN      1050   NaN     NaN  \n",
              "162047     NaN     494    PDX  PHX       NaN      1009   NaN     NaN  \n",
              "162048  N790SW     427    SEA  SMF       NaN       605   NaN     NaN  "
            ],
            "text/html": [
              "\n",
              "  <div id=\"df-7a1f1806-9ffe-40ca-be91-fa0cca2f6007\">\n",
              "    <div class=\"colab-df-container\">\n",
              "      <div>\n",
              "<style scoped>\n",
              "    .dataframe tbody tr th:only-of-type {\n",
              "        vertical-align: middle;\n",
              "    }\n",
              "\n",
              "    .dataframe tbody tr th {\n",
              "        vertical-align: top;\n",
              "    }\n",
              "\n",
              "    .dataframe thead th {\n",
              "        text-align: right;\n",
              "    }\n",
              "</style>\n",
              "<table border=\"1\" class=\"dataframe\">\n",
              "  <thead>\n",
              "    <tr style=\"text-align: right;\">\n",
              "      <th></th>\n",
              "      <th>year</th>\n",
              "      <th>month</th>\n",
              "      <th>day</th>\n",
              "      <th>dep_time</th>\n",
              "      <th>dep_delay</th>\n",
              "      <th>arr_time</th>\n",
              "      <th>arr_delay</th>\n",
              "      <th>carrier</th>\n",
              "      <th>tailnum</th>\n",
              "      <th>flight</th>\n",
              "      <th>origin</th>\n",
              "      <th>dest</th>\n",
              "      <th>air_time</th>\n",
              "      <th>distance</th>\n",
              "      <th>hour</th>\n",
              "      <th>minute</th>\n",
              "    </tr>\n",
              "  </thead>\n",
              "  <tbody>\n",
              "    <tr>\n",
              "      <th>162029</th>\n",
              "      <td>2014</td>\n",
              "      <td>9</td>\n",
              "      <td>30</td>\n",
              "      <td>2244.0</td>\n",
              "      <td>-6.0</td>\n",
              "      <td>711.0</td>\n",
              "      <td>12.0</td>\n",
              "      <td>B6</td>\n",
              "      <td>N523JB</td>\n",
              "      <td>498</td>\n",
              "      <td>SEA</td>\n",
              "      <td>BOS</td>\n",
              "      <td>304.0</td>\n",
              "      <td>2496</td>\n",
              "      <td>22.0</td>\n",
              "      <td>44.0</td>\n",
              "    </tr>\n",
              "    <tr>\n",
              "      <th>162030</th>\n",
              "      <td>2014</td>\n",
              "      <td>9</td>\n",
              "      <td>30</td>\n",
              "      <td>2245.0</td>\n",
              "      <td>0.0</td>\n",
              "      <td>652.0</td>\n",
              "      <td>27.0</td>\n",
              "      <td>DL</td>\n",
              "      <td>N130DL</td>\n",
              "      <td>1629</td>\n",
              "      <td>SEA</td>\n",
              "      <td>ATL</td>\n",
              "      <td>247.0</td>\n",
              "      <td>2182</td>\n",
              "      <td>22.0</td>\n",
              "      <td>45.0</td>\n",
              "    </tr>\n",
              "    <tr>\n",
              "      <th>162031</th>\n",
              "      <td>2014</td>\n",
              "      <td>9</td>\n",
              "      <td>30</td>\n",
              "      <td>2245.0</td>\n",
              "      <td>-2.0</td>\n",
              "      <td>607.0</td>\n",
              "      <td>-15.0</td>\n",
              "      <td>DL</td>\n",
              "      <td>N6716C</td>\n",
              "      <td>2497</td>\n",
              "      <td>PDX</td>\n",
              "      <td>ATL</td>\n",
              "      <td>246.0</td>\n",
              "      <td>2172</td>\n",
              "      <td>22.0</td>\n",
              "      <td>45.0</td>\n",
              "    </tr>\n",
              "    <tr>\n",
              "      <th>162032</th>\n",
              "      <td>2014</td>\n",
              "      <td>9</td>\n",
              "      <td>30</td>\n",
              "      <td>2248.0</td>\n",
              "      <td>0.0</td>\n",
              "      <td>433.0</td>\n",
              "      <td>-5.0</td>\n",
              "      <td>UA</td>\n",
              "      <td>N18223</td>\n",
              "      <td>1167</td>\n",
              "      <td>SEA</td>\n",
              "      <td>ORD</td>\n",
              "      <td>209.0</td>\n",
              "      <td>1721</td>\n",
              "      <td>22.0</td>\n",
              "      <td>48.0</td>\n",
              "    </tr>\n",
              "    <tr>\n",
              "      <th>162033</th>\n",
              "      <td>2014</td>\n",
              "      <td>9</td>\n",
              "      <td>30</td>\n",
              "      <td>2255.0</td>\n",
              "      <td>-5.0</td>\n",
              "      <td>145.0</td>\n",
              "      <td>7.0</td>\n",
              "      <td>AS</td>\n",
              "      <td>N318AS</td>\n",
              "      <td>119</td>\n",
              "      <td>SEA</td>\n",
              "      <td>ANC</td>\n",
              "      <td>209.0</td>\n",
              "      <td>1448</td>\n",
              "      <td>22.0</td>\n",
              "      <td>55.0</td>\n",
              "    </tr>\n",
              "    <tr>\n",
              "      <th>162034</th>\n",
              "      <td>2014</td>\n",
              "      <td>9</td>\n",
              "      <td>30</td>\n",
              "      <td>2257.0</td>\n",
              "      <td>-3.0</td>\n",
              "      <td>604.0</td>\n",
              "      <td>-9.0</td>\n",
              "      <td>DL</td>\n",
              "      <td>N374DA</td>\n",
              "      <td>761</td>\n",
              "      <td>SEA</td>\n",
              "      <td>DTW</td>\n",
              "      <td>230.0</td>\n",
              "      <td>1927</td>\n",
              "      <td>22.0</td>\n",
              "      <td>57.0</td>\n",
              "    </tr>\n",
              "    <tr>\n",
              "      <th>162035</th>\n",
              "      <td>2014</td>\n",
              "      <td>9</td>\n",
              "      <td>30</td>\n",
              "      <td>2303.0</td>\n",
              "      <td>-7.0</td>\n",
              "      <td>200.0</td>\n",
              "      <td>0.0</td>\n",
              "      <td>AS</td>\n",
              "      <td>N618AS</td>\n",
              "      <td>127</td>\n",
              "      <td>SEA</td>\n",
              "      <td>FAI</td>\n",
              "      <td>215.0</td>\n",
              "      <td>1533</td>\n",
              "      <td>23.0</td>\n",
              "      <td>3.0</td>\n",
              "    </tr>\n",
              "    <tr>\n",
              "      <th>162036</th>\n",
              "      <td>2014</td>\n",
              "      <td>9</td>\n",
              "      <td>30</td>\n",
              "      <td>2317.0</td>\n",
              "      <td>-3.0</td>\n",
              "      <td>732.0</td>\n",
              "      <td>19.0</td>\n",
              "      <td>UA</td>\n",
              "      <td>N27421</td>\n",
              "      <td>1246</td>\n",
              "      <td>SEA</td>\n",
              "      <td>IAD</td>\n",
              "      <td>293.0</td>\n",
              "      <td>2306</td>\n",
              "      <td>23.0</td>\n",
              "      <td>17.0</td>\n",
              "    </tr>\n",
              "    <tr>\n",
              "      <th>162037</th>\n",
              "      <td>2014</td>\n",
              "      <td>9</td>\n",
              "      <td>30</td>\n",
              "      <td>2320.0</td>\n",
              "      <td>20.0</td>\n",
              "      <td>10.0</td>\n",
              "      <td>16.0</td>\n",
              "      <td>AS</td>\n",
              "      <td>N713AS</td>\n",
              "      <td>698</td>\n",
              "      <td>SEA</td>\n",
              "      <td>GEG</td>\n",
              "      <td>36.0</td>\n",
              "      <td>224</td>\n",
              "      <td>23.0</td>\n",
              "      <td>20.0</td>\n",
              "    </tr>\n",
              "    <tr>\n",
              "      <th>162038</th>\n",
              "      <td>2014</td>\n",
              "      <td>9</td>\n",
              "      <td>30</td>\n",
              "      <td>2325.0</td>\n",
              "      <td>0.0</td>\n",
              "      <td>446.0</td>\n",
              "      <td>-19.0</td>\n",
              "      <td>AA</td>\n",
              "      <td>N3JKAA</td>\n",
              "      <td>1230</td>\n",
              "      <td>SEA</td>\n",
              "      <td>DFW</td>\n",
              "      <td>187.0</td>\n",
              "      <td>1660</td>\n",
              "      <td>23.0</td>\n",
              "      <td>25.0</td>\n",
              "    </tr>\n",
              "    <tr>\n",
              "      <th>162039</th>\n",
              "      <td>2014</td>\n",
              "      <td>9</td>\n",
              "      <td>30</td>\n",
              "      <td>2326.0</td>\n",
              "      <td>-4.0</td>\n",
              "      <td>513.0</td>\n",
              "      <td>-5.0</td>\n",
              "      <td>UA</td>\n",
              "      <td>N38473</td>\n",
              "      <td>1538</td>\n",
              "      <td>PDX</td>\n",
              "      <td>ORD</td>\n",
              "      <td>209.0</td>\n",
              "      <td>1739</td>\n",
              "      <td>23.0</td>\n",
              "      <td>26.0</td>\n",
              "    </tr>\n",
              "    <tr>\n",
              "      <th>162040</th>\n",
              "      <td>2014</td>\n",
              "      <td>9</td>\n",
              "      <td>30</td>\n",
              "      <td>2336.0</td>\n",
              "      <td>124.0</td>\n",
              "      <td>729.0</td>\n",
              "      <td>116.0</td>\n",
              "      <td>UA</td>\n",
              "      <td>N38443</td>\n",
              "      <td>1695</td>\n",
              "      <td>SEA</td>\n",
              "      <td>EWR</td>\n",
              "      <td>277.0</td>\n",
              "      <td>2402</td>\n",
              "      <td>23.0</td>\n",
              "      <td>36.0</td>\n",
              "    </tr>\n",
              "    <tr>\n",
              "      <th>162041</th>\n",
              "      <td>2014</td>\n",
              "      <td>9</td>\n",
              "      <td>30</td>\n",
              "      <td>2344.0</td>\n",
              "      <td>-1.0</td>\n",
              "      <td>527.0</td>\n",
              "      <td>-5.0</td>\n",
              "      <td>UA</td>\n",
              "      <td>N33286</td>\n",
              "      <td>1215</td>\n",
              "      <td>SEA</td>\n",
              "      <td>ORD</td>\n",
              "      <td>203.0</td>\n",
              "      <td>1721</td>\n",
              "      <td>23.0</td>\n",
              "      <td>44.0</td>\n",
              "    </tr>\n",
              "    <tr>\n",
              "      <th>162042</th>\n",
              "      <td>2014</td>\n",
              "      <td>9</td>\n",
              "      <td>30</td>\n",
              "      <td>2347.0</td>\n",
              "      <td>-3.0</td>\n",
              "      <td>229.0</td>\n",
              "      <td>-2.0</td>\n",
              "      <td>AS</td>\n",
              "      <td>N763AS</td>\n",
              "      <td>121</td>\n",
              "      <td>SEA</td>\n",
              "      <td>ANC</td>\n",
              "      <td>209.0</td>\n",
              "      <td>1448</td>\n",
              "      <td>23.0</td>\n",
              "      <td>47.0</td>\n",
              "    </tr>\n",
              "    <tr>\n",
              "      <th>162043</th>\n",
              "      <td>2014</td>\n",
              "      <td>9</td>\n",
              "      <td>30</td>\n",
              "      <td>2349.0</td>\n",
              "      <td>-1.0</td>\n",
              "      <td>514.0</td>\n",
              "      <td>-19.0</td>\n",
              "      <td>AS</td>\n",
              "      <td>N409AS</td>\n",
              "      <td>660</td>\n",
              "      <td>SEA</td>\n",
              "      <td>DFW</td>\n",
              "      <td>188.0</td>\n",
              "      <td>1660</td>\n",
              "      <td>23.0</td>\n",
              "      <td>49.0</td>\n",
              "    </tr>\n",
              "    <tr>\n",
              "      <th>162044</th>\n",
              "      <td>2014</td>\n",
              "      <td>9</td>\n",
              "      <td>30</td>\n",
              "      <td>2357.0</td>\n",
              "      <td>-2.0</td>\n",
              "      <td>545.0</td>\n",
              "      <td>-20.0</td>\n",
              "      <td>UA</td>\n",
              "      <td>N477UA</td>\n",
              "      <td>479</td>\n",
              "      <td>PDX</td>\n",
              "      <td>IAH</td>\n",
              "      <td>210.0</td>\n",
              "      <td>1825</td>\n",
              "      <td>23.0</td>\n",
              "      <td>57.0</td>\n",
              "    </tr>\n",
              "    <tr>\n",
              "      <th>162045</th>\n",
              "      <td>2014</td>\n",
              "      <td>9</td>\n",
              "      <td>30</td>\n",
              "      <td>2359.0</td>\n",
              "      <td>4.0</td>\n",
              "      <td>734.0</td>\n",
              "      <td>-1.0</td>\n",
              "      <td>DL</td>\n",
              "      <td>N137DL</td>\n",
              "      <td>1929</td>\n",
              "      <td>SEA</td>\n",
              "      <td>ATL</td>\n",
              "      <td>244.0</td>\n",
              "      <td>2182</td>\n",
              "      <td>23.0</td>\n",
              "      <td>59.0</td>\n",
              "    </tr>\n",
              "    <tr>\n",
              "      <th>162046</th>\n",
              "      <td>2014</td>\n",
              "      <td>9</td>\n",
              "      <td>30</td>\n",
              "      <td>NaN</td>\n",
              "      <td>NaN</td>\n",
              "      <td>NaN</td>\n",
              "      <td>NaN</td>\n",
              "      <td>AS</td>\n",
              "      <td>N530AS</td>\n",
              "      <td>470</td>\n",
              "      <td>SEA</td>\n",
              "      <td>SAN</td>\n",
              "      <td>NaN</td>\n",
              "      <td>1050</td>\n",
              "      <td>NaN</td>\n",
              "      <td>NaN</td>\n",
              "    </tr>\n",
              "    <tr>\n",
              "      <th>162047</th>\n",
              "      <td>2014</td>\n",
              "      <td>9</td>\n",
              "      <td>30</td>\n",
              "      <td>NaN</td>\n",
              "      <td>NaN</td>\n",
              "      <td>NaN</td>\n",
              "      <td>NaN</td>\n",
              "      <td>US</td>\n",
              "      <td>NaN</td>\n",
              "      <td>494</td>\n",
              "      <td>PDX</td>\n",
              "      <td>PHX</td>\n",
              "      <td>NaN</td>\n",
              "      <td>1009</td>\n",
              "      <td>NaN</td>\n",
              "      <td>NaN</td>\n",
              "    </tr>\n",
              "    <tr>\n",
              "      <th>162048</th>\n",
              "      <td>2014</td>\n",
              "      <td>9</td>\n",
              "      <td>30</td>\n",
              "      <td>NaN</td>\n",
              "      <td>NaN</td>\n",
              "      <td>NaN</td>\n",
              "      <td>NaN</td>\n",
              "      <td>WN</td>\n",
              "      <td>N790SW</td>\n",
              "      <td>427</td>\n",
              "      <td>SEA</td>\n",
              "      <td>SMF</td>\n",
              "      <td>NaN</td>\n",
              "      <td>605</td>\n",
              "      <td>NaN</td>\n",
              "      <td>NaN</td>\n",
              "    </tr>\n",
              "  </tbody>\n",
              "</table>\n",
              "</div>\n",
              "      <button class=\"colab-df-convert\" onclick=\"convertToInteractive('df-7a1f1806-9ffe-40ca-be91-fa0cca2f6007')\"\n",
              "              title=\"Convert this dataframe to an interactive table.\"\n",
              "              style=\"display:none;\">\n",
              "        \n",
              "  <svg xmlns=\"http://www.w3.org/2000/svg\" height=\"24px\"viewBox=\"0 0 24 24\"\n",
              "       width=\"24px\">\n",
              "    <path d=\"M0 0h24v24H0V0z\" fill=\"none\"/>\n",
              "    <path d=\"M18.56 5.44l.94 2.06.94-2.06 2.06-.94-2.06-.94-.94-2.06-.94 2.06-2.06.94zm-11 1L8.5 8.5l.94-2.06 2.06-.94-2.06-.94L8.5 2.5l-.94 2.06-2.06.94zm10 10l.94 2.06.94-2.06 2.06-.94-2.06-.94-.94-2.06-.94 2.06-2.06.94z\"/><path d=\"M17.41 7.96l-1.37-1.37c-.4-.4-.92-.59-1.43-.59-.52 0-1.04.2-1.43.59L10.3 9.45l-7.72 7.72c-.78.78-.78 2.05 0 2.83L4 21.41c.39.39.9.59 1.41.59.51 0 1.02-.2 1.41-.59l7.78-7.78 2.81-2.81c.8-.78.8-2.07 0-2.86zM5.41 20L4 18.59l7.72-7.72 1.47 1.35L5.41 20z\"/>\n",
              "  </svg>\n",
              "      </button>\n",
              "      \n",
              "  <style>\n",
              "    .colab-df-container {\n",
              "      display:flex;\n",
              "      flex-wrap:wrap;\n",
              "      gap: 12px;\n",
              "    }\n",
              "\n",
              "    .colab-df-convert {\n",
              "      background-color: #E8F0FE;\n",
              "      border: none;\n",
              "      border-radius: 50%;\n",
              "      cursor: pointer;\n",
              "      display: none;\n",
              "      fill: #1967D2;\n",
              "      height: 32px;\n",
              "      padding: 0 0 0 0;\n",
              "      width: 32px;\n",
              "    }\n",
              "\n",
              "    .colab-df-convert:hover {\n",
              "      background-color: #E2EBFA;\n",
              "      box-shadow: 0px 1px 2px rgba(60, 64, 67, 0.3), 0px 1px 3px 1px rgba(60, 64, 67, 0.15);\n",
              "      fill: #174EA6;\n",
              "    }\n",
              "\n",
              "    [theme=dark] .colab-df-convert {\n",
              "      background-color: #3B4455;\n",
              "      fill: #D2E3FC;\n",
              "    }\n",
              "\n",
              "    [theme=dark] .colab-df-convert:hover {\n",
              "      background-color: #434B5C;\n",
              "      box-shadow: 0px 1px 3px 1px rgba(0, 0, 0, 0.15);\n",
              "      filter: drop-shadow(0px 1px 2px rgba(0, 0, 0, 0.3));\n",
              "      fill: #FFFFFF;\n",
              "    }\n",
              "  </style>\n",
              "\n",
              "      <script>\n",
              "        const buttonEl =\n",
              "          document.querySelector('#df-7a1f1806-9ffe-40ca-be91-fa0cca2f6007 button.colab-df-convert');\n",
              "        buttonEl.style.display =\n",
              "          google.colab.kernel.accessAllowed ? 'block' : 'none';\n",
              "\n",
              "        async function convertToInteractive(key) {\n",
              "          const element = document.querySelector('#df-7a1f1806-9ffe-40ca-be91-fa0cca2f6007');\n",
              "          const dataTable =\n",
              "            await google.colab.kernel.invokeFunction('convertToInteractive',\n",
              "                                                     [key], {});\n",
              "          if (!dataTable) return;\n",
              "\n",
              "          const docLinkHtml = 'Like what you see? Visit the ' +\n",
              "            '<a target=\"_blank\" href=https://colab.research.google.com/notebooks/data_table.ipynb>data table notebook</a>'\n",
              "            + ' to learn more about interactive tables.';\n",
              "          element.innerHTML = '';\n",
              "          dataTable['output_type'] = 'display_data';\n",
              "          await google.colab.output.renderOutput(dataTable, element);\n",
              "          const docLink = document.createElement('div');\n",
              "          docLink.innerHTML = docLinkHtml;\n",
              "          element.appendChild(docLink);\n",
              "        }\n",
              "      </script>\n",
              "    </div>\n",
              "  </div>\n",
              "  "
            ]
          },
          "metadata": {},
          "execution_count": 94
        }
      ]
    },
    {
      "cell_type": "code",
      "source": [
        "df_flights.tail(n=14)"
      ],
      "metadata": {
        "colab": {
          "base_uri": "https://localhost:8080/",
          "height": 488
        },
        "id": "bhqlOPSyWBCI",
        "outputId": "8f216028-9501-4681-a141-ec7012d29045"
      },
      "execution_count": null,
      "outputs": [
        {
          "output_type": "execute_result",
          "data": {
            "text/plain": [
              "        year  month  day  dep_time  dep_delay  arr_time  arr_delay carrier  \\\n",
              "162035  2014      9   30    2303.0       -7.0     200.0        0.0      AS   \n",
              "162036  2014      9   30    2317.0       -3.0     732.0       19.0      UA   \n",
              "162037  2014      9   30    2320.0       20.0      10.0       16.0      AS   \n",
              "162038  2014      9   30    2325.0        0.0     446.0      -19.0      AA   \n",
              "162039  2014      9   30    2326.0       -4.0     513.0       -5.0      UA   \n",
              "162040  2014      9   30    2336.0      124.0     729.0      116.0      UA   \n",
              "162041  2014      9   30    2344.0       -1.0     527.0       -5.0      UA   \n",
              "162042  2014      9   30    2347.0       -3.0     229.0       -2.0      AS   \n",
              "162043  2014      9   30    2349.0       -1.0     514.0      -19.0      AS   \n",
              "162044  2014      9   30    2357.0       -2.0     545.0      -20.0      UA   \n",
              "162045  2014      9   30    2359.0        4.0     734.0       -1.0      DL   \n",
              "162046  2014      9   30       NaN        NaN       NaN        NaN      AS   \n",
              "162047  2014      9   30       NaN        NaN       NaN        NaN      US   \n",
              "162048  2014      9   30       NaN        NaN       NaN        NaN      WN   \n",
              "\n",
              "       tailnum  flight origin dest  air_time  distance  hour  minute  \n",
              "162035  N618AS     127    SEA  FAI     215.0      1533  23.0     3.0  \n",
              "162036  N27421    1246    SEA  IAD     293.0      2306  23.0    17.0  \n",
              "162037  N713AS     698    SEA  GEG      36.0       224  23.0    20.0  \n",
              "162038  N3JKAA    1230    SEA  DFW     187.0      1660  23.0    25.0  \n",
              "162039  N38473    1538    PDX  ORD     209.0      1739  23.0    26.0  \n",
              "162040  N38443    1695    SEA  EWR     277.0      2402  23.0    36.0  \n",
              "162041  N33286    1215    SEA  ORD     203.0      1721  23.0    44.0  \n",
              "162042  N763AS     121    SEA  ANC     209.0      1448  23.0    47.0  \n",
              "162043  N409AS     660    SEA  DFW     188.0      1660  23.0    49.0  \n",
              "162044  N477UA     479    PDX  IAH     210.0      1825  23.0    57.0  \n",
              "162045  N137DL    1929    SEA  ATL     244.0      2182  23.0    59.0  \n",
              "162046  N530AS     470    SEA  SAN       NaN      1050   NaN     NaN  \n",
              "162047     NaN     494    PDX  PHX       NaN      1009   NaN     NaN  \n",
              "162048  N790SW     427    SEA  SMF       NaN       605   NaN     NaN  "
            ],
            "text/html": [
              "\n",
              "  <div id=\"df-5922e517-3150-4b3d-9909-9ab98e3da59b\">\n",
              "    <div class=\"colab-df-container\">\n",
              "      <div>\n",
              "<style scoped>\n",
              "    .dataframe tbody tr th:only-of-type {\n",
              "        vertical-align: middle;\n",
              "    }\n",
              "\n",
              "    .dataframe tbody tr th {\n",
              "        vertical-align: top;\n",
              "    }\n",
              "\n",
              "    .dataframe thead th {\n",
              "        text-align: right;\n",
              "    }\n",
              "</style>\n",
              "<table border=\"1\" class=\"dataframe\">\n",
              "  <thead>\n",
              "    <tr style=\"text-align: right;\">\n",
              "      <th></th>\n",
              "      <th>year</th>\n",
              "      <th>month</th>\n",
              "      <th>day</th>\n",
              "      <th>dep_time</th>\n",
              "      <th>dep_delay</th>\n",
              "      <th>arr_time</th>\n",
              "      <th>arr_delay</th>\n",
              "      <th>carrier</th>\n",
              "      <th>tailnum</th>\n",
              "      <th>flight</th>\n",
              "      <th>origin</th>\n",
              "      <th>dest</th>\n",
              "      <th>air_time</th>\n",
              "      <th>distance</th>\n",
              "      <th>hour</th>\n",
              "      <th>minute</th>\n",
              "    </tr>\n",
              "  </thead>\n",
              "  <tbody>\n",
              "    <tr>\n",
              "      <th>162035</th>\n",
              "      <td>2014</td>\n",
              "      <td>9</td>\n",
              "      <td>30</td>\n",
              "      <td>2303.0</td>\n",
              "      <td>-7.0</td>\n",
              "      <td>200.0</td>\n",
              "      <td>0.0</td>\n",
              "      <td>AS</td>\n",
              "      <td>N618AS</td>\n",
              "      <td>127</td>\n",
              "      <td>SEA</td>\n",
              "      <td>FAI</td>\n",
              "      <td>215.0</td>\n",
              "      <td>1533</td>\n",
              "      <td>23.0</td>\n",
              "      <td>3.0</td>\n",
              "    </tr>\n",
              "    <tr>\n",
              "      <th>162036</th>\n",
              "      <td>2014</td>\n",
              "      <td>9</td>\n",
              "      <td>30</td>\n",
              "      <td>2317.0</td>\n",
              "      <td>-3.0</td>\n",
              "      <td>732.0</td>\n",
              "      <td>19.0</td>\n",
              "      <td>UA</td>\n",
              "      <td>N27421</td>\n",
              "      <td>1246</td>\n",
              "      <td>SEA</td>\n",
              "      <td>IAD</td>\n",
              "      <td>293.0</td>\n",
              "      <td>2306</td>\n",
              "      <td>23.0</td>\n",
              "      <td>17.0</td>\n",
              "    </tr>\n",
              "    <tr>\n",
              "      <th>162037</th>\n",
              "      <td>2014</td>\n",
              "      <td>9</td>\n",
              "      <td>30</td>\n",
              "      <td>2320.0</td>\n",
              "      <td>20.0</td>\n",
              "      <td>10.0</td>\n",
              "      <td>16.0</td>\n",
              "      <td>AS</td>\n",
              "      <td>N713AS</td>\n",
              "      <td>698</td>\n",
              "      <td>SEA</td>\n",
              "      <td>GEG</td>\n",
              "      <td>36.0</td>\n",
              "      <td>224</td>\n",
              "      <td>23.0</td>\n",
              "      <td>20.0</td>\n",
              "    </tr>\n",
              "    <tr>\n",
              "      <th>162038</th>\n",
              "      <td>2014</td>\n",
              "      <td>9</td>\n",
              "      <td>30</td>\n",
              "      <td>2325.0</td>\n",
              "      <td>0.0</td>\n",
              "      <td>446.0</td>\n",
              "      <td>-19.0</td>\n",
              "      <td>AA</td>\n",
              "      <td>N3JKAA</td>\n",
              "      <td>1230</td>\n",
              "      <td>SEA</td>\n",
              "      <td>DFW</td>\n",
              "      <td>187.0</td>\n",
              "      <td>1660</td>\n",
              "      <td>23.0</td>\n",
              "      <td>25.0</td>\n",
              "    </tr>\n",
              "    <tr>\n",
              "      <th>162039</th>\n",
              "      <td>2014</td>\n",
              "      <td>9</td>\n",
              "      <td>30</td>\n",
              "      <td>2326.0</td>\n",
              "      <td>-4.0</td>\n",
              "      <td>513.0</td>\n",
              "      <td>-5.0</td>\n",
              "      <td>UA</td>\n",
              "      <td>N38473</td>\n",
              "      <td>1538</td>\n",
              "      <td>PDX</td>\n",
              "      <td>ORD</td>\n",
              "      <td>209.0</td>\n",
              "      <td>1739</td>\n",
              "      <td>23.0</td>\n",
              "      <td>26.0</td>\n",
              "    </tr>\n",
              "    <tr>\n",
              "      <th>162040</th>\n",
              "      <td>2014</td>\n",
              "      <td>9</td>\n",
              "      <td>30</td>\n",
              "      <td>2336.0</td>\n",
              "      <td>124.0</td>\n",
              "      <td>729.0</td>\n",
              "      <td>116.0</td>\n",
              "      <td>UA</td>\n",
              "      <td>N38443</td>\n",
              "      <td>1695</td>\n",
              "      <td>SEA</td>\n",
              "      <td>EWR</td>\n",
              "      <td>277.0</td>\n",
              "      <td>2402</td>\n",
              "      <td>23.0</td>\n",
              "      <td>36.0</td>\n",
              "    </tr>\n",
              "    <tr>\n",
              "      <th>162041</th>\n",
              "      <td>2014</td>\n",
              "      <td>9</td>\n",
              "      <td>30</td>\n",
              "      <td>2344.0</td>\n",
              "      <td>-1.0</td>\n",
              "      <td>527.0</td>\n",
              "      <td>-5.0</td>\n",
              "      <td>UA</td>\n",
              "      <td>N33286</td>\n",
              "      <td>1215</td>\n",
              "      <td>SEA</td>\n",
              "      <td>ORD</td>\n",
              "      <td>203.0</td>\n",
              "      <td>1721</td>\n",
              "      <td>23.0</td>\n",
              "      <td>44.0</td>\n",
              "    </tr>\n",
              "    <tr>\n",
              "      <th>162042</th>\n",
              "      <td>2014</td>\n",
              "      <td>9</td>\n",
              "      <td>30</td>\n",
              "      <td>2347.0</td>\n",
              "      <td>-3.0</td>\n",
              "      <td>229.0</td>\n",
              "      <td>-2.0</td>\n",
              "      <td>AS</td>\n",
              "      <td>N763AS</td>\n",
              "      <td>121</td>\n",
              "      <td>SEA</td>\n",
              "      <td>ANC</td>\n",
              "      <td>209.0</td>\n",
              "      <td>1448</td>\n",
              "      <td>23.0</td>\n",
              "      <td>47.0</td>\n",
              "    </tr>\n",
              "    <tr>\n",
              "      <th>162043</th>\n",
              "      <td>2014</td>\n",
              "      <td>9</td>\n",
              "      <td>30</td>\n",
              "      <td>2349.0</td>\n",
              "      <td>-1.0</td>\n",
              "      <td>514.0</td>\n",
              "      <td>-19.0</td>\n",
              "      <td>AS</td>\n",
              "      <td>N409AS</td>\n",
              "      <td>660</td>\n",
              "      <td>SEA</td>\n",
              "      <td>DFW</td>\n",
              "      <td>188.0</td>\n",
              "      <td>1660</td>\n",
              "      <td>23.0</td>\n",
              "      <td>49.0</td>\n",
              "    </tr>\n",
              "    <tr>\n",
              "      <th>162044</th>\n",
              "      <td>2014</td>\n",
              "      <td>9</td>\n",
              "      <td>30</td>\n",
              "      <td>2357.0</td>\n",
              "      <td>-2.0</td>\n",
              "      <td>545.0</td>\n",
              "      <td>-20.0</td>\n",
              "      <td>UA</td>\n",
              "      <td>N477UA</td>\n",
              "      <td>479</td>\n",
              "      <td>PDX</td>\n",
              "      <td>IAH</td>\n",
              "      <td>210.0</td>\n",
              "      <td>1825</td>\n",
              "      <td>23.0</td>\n",
              "      <td>57.0</td>\n",
              "    </tr>\n",
              "    <tr>\n",
              "      <th>162045</th>\n",
              "      <td>2014</td>\n",
              "      <td>9</td>\n",
              "      <td>30</td>\n",
              "      <td>2359.0</td>\n",
              "      <td>4.0</td>\n",
              "      <td>734.0</td>\n",
              "      <td>-1.0</td>\n",
              "      <td>DL</td>\n",
              "      <td>N137DL</td>\n",
              "      <td>1929</td>\n",
              "      <td>SEA</td>\n",
              "      <td>ATL</td>\n",
              "      <td>244.0</td>\n",
              "      <td>2182</td>\n",
              "      <td>23.0</td>\n",
              "      <td>59.0</td>\n",
              "    </tr>\n",
              "    <tr>\n",
              "      <th>162046</th>\n",
              "      <td>2014</td>\n",
              "      <td>9</td>\n",
              "      <td>30</td>\n",
              "      <td>NaN</td>\n",
              "      <td>NaN</td>\n",
              "      <td>NaN</td>\n",
              "      <td>NaN</td>\n",
              "      <td>AS</td>\n",
              "      <td>N530AS</td>\n",
              "      <td>470</td>\n",
              "      <td>SEA</td>\n",
              "      <td>SAN</td>\n",
              "      <td>NaN</td>\n",
              "      <td>1050</td>\n",
              "      <td>NaN</td>\n",
              "      <td>NaN</td>\n",
              "    </tr>\n",
              "    <tr>\n",
              "      <th>162047</th>\n",
              "      <td>2014</td>\n",
              "      <td>9</td>\n",
              "      <td>30</td>\n",
              "      <td>NaN</td>\n",
              "      <td>NaN</td>\n",
              "      <td>NaN</td>\n",
              "      <td>NaN</td>\n",
              "      <td>US</td>\n",
              "      <td>NaN</td>\n",
              "      <td>494</td>\n",
              "      <td>PDX</td>\n",
              "      <td>PHX</td>\n",
              "      <td>NaN</td>\n",
              "      <td>1009</td>\n",
              "      <td>NaN</td>\n",
              "      <td>NaN</td>\n",
              "    </tr>\n",
              "    <tr>\n",
              "      <th>162048</th>\n",
              "      <td>2014</td>\n",
              "      <td>9</td>\n",
              "      <td>30</td>\n",
              "      <td>NaN</td>\n",
              "      <td>NaN</td>\n",
              "      <td>NaN</td>\n",
              "      <td>NaN</td>\n",
              "      <td>WN</td>\n",
              "      <td>N790SW</td>\n",
              "      <td>427</td>\n",
              "      <td>SEA</td>\n",
              "      <td>SMF</td>\n",
              "      <td>NaN</td>\n",
              "      <td>605</td>\n",
              "      <td>NaN</td>\n",
              "      <td>NaN</td>\n",
              "    </tr>\n",
              "  </tbody>\n",
              "</table>\n",
              "</div>\n",
              "      <button class=\"colab-df-convert\" onclick=\"convertToInteractive('df-5922e517-3150-4b3d-9909-9ab98e3da59b')\"\n",
              "              title=\"Convert this dataframe to an interactive table.\"\n",
              "              style=\"display:none;\">\n",
              "        \n",
              "  <svg xmlns=\"http://www.w3.org/2000/svg\" height=\"24px\"viewBox=\"0 0 24 24\"\n",
              "       width=\"24px\">\n",
              "    <path d=\"M0 0h24v24H0V0z\" fill=\"none\"/>\n",
              "    <path d=\"M18.56 5.44l.94 2.06.94-2.06 2.06-.94-2.06-.94-.94-2.06-.94 2.06-2.06.94zm-11 1L8.5 8.5l.94-2.06 2.06-.94-2.06-.94L8.5 2.5l-.94 2.06-2.06.94zm10 10l.94 2.06.94-2.06 2.06-.94-2.06-.94-.94-2.06-.94 2.06-2.06.94z\"/><path d=\"M17.41 7.96l-1.37-1.37c-.4-.4-.92-.59-1.43-.59-.52 0-1.04.2-1.43.59L10.3 9.45l-7.72 7.72c-.78.78-.78 2.05 0 2.83L4 21.41c.39.39.9.59 1.41.59.51 0 1.02-.2 1.41-.59l7.78-7.78 2.81-2.81c.8-.78.8-2.07 0-2.86zM5.41 20L4 18.59l7.72-7.72 1.47 1.35L5.41 20z\"/>\n",
              "  </svg>\n",
              "      </button>\n",
              "      \n",
              "  <style>\n",
              "    .colab-df-container {\n",
              "      display:flex;\n",
              "      flex-wrap:wrap;\n",
              "      gap: 12px;\n",
              "    }\n",
              "\n",
              "    .colab-df-convert {\n",
              "      background-color: #E8F0FE;\n",
              "      border: none;\n",
              "      border-radius: 50%;\n",
              "      cursor: pointer;\n",
              "      display: none;\n",
              "      fill: #1967D2;\n",
              "      height: 32px;\n",
              "      padding: 0 0 0 0;\n",
              "      width: 32px;\n",
              "    }\n",
              "\n",
              "    .colab-df-convert:hover {\n",
              "      background-color: #E2EBFA;\n",
              "      box-shadow: 0px 1px 2px rgba(60, 64, 67, 0.3), 0px 1px 3px 1px rgba(60, 64, 67, 0.15);\n",
              "      fill: #174EA6;\n",
              "    }\n",
              "\n",
              "    [theme=dark] .colab-df-convert {\n",
              "      background-color: #3B4455;\n",
              "      fill: #D2E3FC;\n",
              "    }\n",
              "\n",
              "    [theme=dark] .colab-df-convert:hover {\n",
              "      background-color: #434B5C;\n",
              "      box-shadow: 0px 1px 3px 1px rgba(0, 0, 0, 0.15);\n",
              "      filter: drop-shadow(0px 1px 2px rgba(0, 0, 0, 0.3));\n",
              "      fill: #FFFFFF;\n",
              "    }\n",
              "  </style>\n",
              "\n",
              "      <script>\n",
              "        const buttonEl =\n",
              "          document.querySelector('#df-5922e517-3150-4b3d-9909-9ab98e3da59b button.colab-df-convert');\n",
              "        buttonEl.style.display =\n",
              "          google.colab.kernel.accessAllowed ? 'block' : 'none';\n",
              "\n",
              "        async function convertToInteractive(key) {\n",
              "          const element = document.querySelector('#df-5922e517-3150-4b3d-9909-9ab98e3da59b');\n",
              "          const dataTable =\n",
              "            await google.colab.kernel.invokeFunction('convertToInteractive',\n",
              "                                                     [key], {});\n",
              "          if (!dataTable) return;\n",
              "\n",
              "          const docLinkHtml = 'Like what you see? Visit the ' +\n",
              "            '<a target=\"_blank\" href=https://colab.research.google.com/notebooks/data_table.ipynb>data table notebook</a>'\n",
              "            + ' to learn more about interactive tables.';\n",
              "          element.innerHTML = '';\n",
              "          dataTable['output_type'] = 'display_data';\n",
              "          await google.colab.output.renderOutput(dataTable, element);\n",
              "          const docLink = document.createElement('div');\n",
              "          docLink.innerHTML = docLinkHtml;\n",
              "          element.appendChild(docLink);\n",
              "        }\n",
              "      </script>\n",
              "    </div>\n",
              "  </div>\n",
              "  "
            ]
          },
          "metadata": {},
          "execution_count": 95
        }
      ]
    },
    {
      "cell_type": "code",
      "source": [
        "\n",
        "\n",
        "# load data\n",
        "import pandas as pd\n",
        "from sklearn.datasets import load_iris\n",
        "iris = load_iris()\n",
        "iris_pd = pd.DataFrame(data= iris['data'],columns= iris['feature_names'])\n",
        "iris_pd.head()\n",
        "\n",
        "# mean of column 'sepal length'\n",
        "print(iris_pd['sepal length (cm)'].mean())\n",
        "\n"
      ],
      "metadata": {
        "colab": {
          "base_uri": "https://localhost:8080/"
        },
        "id": "IjUbq_BIX8gt",
        "outputId": "cee444f8-901c-4ac2-ece4-4114729b7c17"
      },
      "execution_count": null,
      "outputs": [
        {
          "output_type": "stream",
          "name": "stdout",
          "text": [
            "5.843333333333335\n"
          ]
        }
      ]
    },
    {
      "cell_type": "code",
      "source": [
        "print(iris_pd['sepal length (cm)'].mean())\n",
        "print(iris_pd['sepal width (cm)'].mean())\n",
        "print(iris_pd['petal length (cm)'].mean())\n",
        "print(iris_pd['petal width (cm)'].mean())"
      ],
      "metadata": {
        "colab": {
          "base_uri": "https://localhost:8080/"
        },
        "id": "RwzvXecZYoEM",
        "outputId": "6f899214-08f9-4493-ef6a-be182e2e4b03"
      },
      "execution_count": null,
      "outputs": [
        {
          "output_type": "stream",
          "name": "stdout",
          "text": [
            "5.843333333333335\n",
            "3.057333333333334\n",
            "3.7580000000000027\n",
            "1.199333333333334\n"
          ]
        }
      ]
    },
    {
      "cell_type": "code",
      "source": [
        "iris_pd['sepal length (cm)'].plot.hist(bins=20)"
      ],
      "metadata": {
        "colab": {
          "base_uri": "https://localhost:8080/",
          "height": 282
        },
        "id": "t8xRr4qbZAwm",
        "outputId": "a34eb772-a558-4a23-f63e-99d853115e6d"
      },
      "execution_count": null,
      "outputs": [
        {
          "output_type": "execute_result",
          "data": {
            "text/plain": [
              "<matplotlib.axes._subplots.AxesSubplot at 0x7f5b2fa978d0>"
            ]
          },
          "metadata": {},
          "execution_count": 5
        },
        {
          "output_type": "display_data",
          "data": {
            "text/plain": [
              "<Figure size 432x288 with 1 Axes>"
            ],
            "image/png": "[encoded data removed]"
          },
          "metadata": {
            "needs_background": "light"
          }
        }
      ]
    },
    {
      "cell_type": "code",
      "source": [
        "iris_pd['sepal width (cm)'].plot.hist(bins=20)\n"
      ],
      "metadata": {
        "colab": {
          "base_uri": "https://localhost:8080/",
          "height": 282
        },
        "id": "VDIArWmNZQxb",
        "outputId": "047b6463-09c5-4038-f88a-7f8ec85705b1"
      },
      "execution_count": null,
      "outputs": [
        {
          "output_type": "execute_result",
          "data": {
            "text/plain": [
              "<matplotlib.axes._subplots.AxesSubplot at 0x7f317af43f90>"
            ]
          },
          "metadata": {},
          "execution_count": 106
        },
        {
          "output_type": "display_data",
          "data": {
            "text/plain": [
              "<Figure size 432x288 with 1 Axes>"
            ],
            "image/png": "[encoded data removed]"
          },
          "metadata": {
            "needs_background": "light"
          }
        }
      ]
    },
    {
      "cell_type": "code",
      "source": [
        "iris_pd['petal length (cm)'].plot.hist(bins=20)\n"
      ],
      "metadata": {
        "colab": {
          "base_uri": "https://localhost:8080/",
          "height": 282
        },
        "id": "JKiLRJ4HZQ0S",
        "outputId": "9c8f8ad4-4272-439c-cbc0-10da8442f8f3"
      },
      "execution_count": null,
      "outputs": [
        {
          "output_type": "execute_result",
          "data": {
            "text/plain": [
              "<matplotlib.axes._subplots.AxesSubplot at 0x7f317ae6eb50>"
            ]
          },
          "metadata": {},
          "execution_count": 107
        },
        {
          "output_type": "display_data",
          "data": {
            "text/plain": [
              "<Figure size 432x288 with 1 Axes>"
            ],
            "image/png": "[encoded data removed]"
          },
          "metadata": {
            "needs_background": "light"
          }
        }
      ]
    },
    {
      "cell_type": "code",
      "source": [
        "iris_pd['petal width (cm)'].plot.hist(bins=20)"
      ],
      "metadata": {
        "colab": {
          "base_uri": "https://localhost:8080/",
          "height": 282
        },
        "id": "ch5eOBGUZndv",
        "outputId": "e81882b6-fd8c-485f-85ed-0e35cef0209d"
      },
      "execution_count": null,
      "outputs": [
        {
          "output_type": "execute_result",
          "data": {
            "text/plain": [
              "<matplotlib.axes._subplots.AxesSubplot at 0x7f317adeb210>"
            ]
          },
          "metadata": {},
          "execution_count": 108
        },
        {
          "output_type": "display_data",
          "data": {
            "text/plain": [
              "<Figure size 432x288 with 1 Axes>"
            ],
            "image/png": "[encoded data removed]"
          },
          "metadata": {
            "needs_background": "light"
          }
        }
      ]
    },
    {
      "cell_type": "code",
      "source": [
        "iris_pd.plot.scatter(x='sepal length (cm)',y='sepal width (cm)')"
      ],
      "metadata": {
        "colab": {
          "base_uri": "https://localhost:8080/",
          "height": 299
        },
        "id": "fb2SEoix2UXH",
        "outputId": "8e1f8f58-c750-4605-8d61-8ae886381ec1"
      },
      "execution_count": null,
      "outputs": [
        {
          "output_type": "execute_result",
          "data": {
            "text/plain": [
              "<matplotlib.axes._subplots.AxesSubplot at 0x7f5b2f5e7d50>"
            ]
          },
          "metadata": {},
          "execution_count": 6
        },
        {
          "output_type": "display_data",
          "data": {
            "text/plain": [
              "<Figure size 432x288 with 1 Axes>"
            ],
            "image/png": "[encoded data removed]"
          },
          "metadata": {
            "needs_background": "light"
          }
        }
      ]
    },
    {
      "cell_type": "code",
      "source": [
        "iris_pd.plot.scatter(x='petal length (cm)',y='petal width (cm)')"
      ],
      "metadata": {
        "colab": {
          "base_uri": "https://localhost:8080/",
          "height": 296
        },
        "id": "dma6e94Q2ics",
        "outputId": "18d97886-5fd0-4f62-c59b-d7ba2907a816"
      },
      "execution_count": null,
      "outputs": [
        {
          "output_type": "execute_result",
          "data": {
            "text/plain": [
              "<matplotlib.axes._subplots.AxesSubplot at 0x7f5b2f4ff190>"
            ]
          },
          "metadata": {},
          "execution_count": 7
        },
        {
          "output_type": "display_data",
          "data": {
            "text/plain": [
              "<Figure size 432x288 with 1 Axes>"
            ],
            "image/png": "[encoded data removed]"
          },
          "metadata": {
            "needs_background": "light"
          }
        }
      ]
    },
    {
      "cell_type": "code",
      "source": [
        "df_flights = pd.read_csv('https://raw.githubusercontent.com/ismayc/pnwflights14/master/data/flights.csv')\n",
        "df_flights.head()"
      ],
      "metadata": {
        "colab": {
          "base_uri": "https://localhost:8080/",
          "height": 206
        },
        "id": "mjIj-XZj2776",
        "outputId": "6c467e92-ba1e-41b5-8706-d9372d529726"
      },
      "execution_count": null,
      "outputs": [
        {
          "output_type": "execute_result",
          "data": {
            "text/plain": [
              "   year  month  day  dep_time  dep_delay  arr_time  arr_delay carrier tailnum  \\\n",
              "0  2014      1    1       1.0       96.0     235.0       70.0      AS  N508AS   \n",
              "1  2014      1    1       4.0       -6.0     738.0      -23.0      US  N195UW   \n",
              "2  2014      1    1       8.0       13.0     548.0       -4.0      UA  N37422   \n",
              "3  2014      1    1      28.0       -2.0     800.0      -23.0      US  N547UW   \n",
              "4  2014      1    1      34.0       44.0     325.0       43.0      AS  N762AS   \n",
              "\n",
              "   flight origin dest  air_time  distance  hour  minute  \n",
              "0     145    PDX  ANC     194.0      1542   0.0     1.0  \n",
              "1    1830    SEA  CLT     252.0      2279   0.0     4.0  \n",
              "2    1609    PDX  IAH     201.0      1825   0.0     8.0  \n",
              "3     466    PDX  CLT     251.0      2282   0.0    28.0  \n",
              "4     121    SEA  ANC     201.0      1448   0.0    34.0  "
            ],
            "text/html": [
              "\n",
              "  <div id=\"df-13ff06d2-8092-4323-9a8a-4556b0d536f2\">\n",
              "    <div class=\"colab-df-container\">\n",
              "      <div>\n",
              "<style scoped>\n",
              "    .dataframe tbody tr th:only-of-type {\n",
              "        vertical-align: middle;\n",
              "    }\n",
              "\n",
              "    .dataframe tbody tr th {\n",
              "        vertical-align: top;\n",
              "    }\n",
              "\n",
              "    .dataframe thead th {\n",
              "        text-align: right;\n",
              "    }\n",
              "</style>\n",
              "<table border=\"1\" class=\"dataframe\">\n",
              "  <thead>\n",
              "    <tr style=\"text-align: right;\">\n",
              "      <th></th>\n",
              "      <th>year</th>\n",
              "      <th>month</th>\n",
              "      <th>day</th>\n",
              "      <th>dep_time</th>\n",
              "      <th>dep_delay</th>\n",
              "      <th>arr_time</th>\n",
              "      <th>arr_delay</th>\n",
              "      <th>carrier</th>\n",
              "      <th>tailnum</th>\n",
              "      <th>flight</th>\n",
              "      <th>origin</th>\n",
              "      <th>dest</th>\n",
              "      <th>air_time</th>\n",
              "      <th>distance</th>\n",
              "      <th>hour</th>\n",
              "      <th>minute</th>\n",
              "    </tr>\n",
              "  </thead>\n",
              "  <tbody>\n",
              "    <tr>\n",
              "      <th>0</th>\n",
              "      <td>2014</td>\n",
              "      <td>1</td>\n",
              "      <td>1</td>\n",
              "      <td>1.0</td>\n",
              "      <td>96.0</td>\n",
              "      <td>235.0</td>\n",
              "      <td>70.0</td>\n",
              "      <td>AS</td>\n",
              "      <td>N508AS</td>\n",
              "      <td>145</td>\n",
              "      <td>PDX</td>\n",
              "      <td>ANC</td>\n",
              "      <td>194.0</td>\n",
              "      <td>1542</td>\n",
              "      <td>0.0</td>\n",
              "      <td>1.0</td>\n",
              "    </tr>\n",
              "    <tr>\n",
              "      <th>1</th>\n",
              "      <td>2014</td>\n",
              "      <td>1</td>\n",
              "      <td>1</td>\n",
              "      <td>4.0</td>\n",
              "      <td>-6.0</td>\n",
              "      <td>738.0</td>\n",
              "      <td>-23.0</td>\n",
              "      <td>US</td>\n",
              "      <td>N195UW</td>\n",
              "      <td>1830</td>\n",
              "      <td>SEA</td>\n",
              "      <td>CLT</td>\n",
              "      <td>252.0</td>\n",
              "      <td>2279</td>\n",
              "      <td>0.0</td>\n",
              "      <td>4.0</td>\n",
              "    </tr>\n",
              "    <tr>\n",
              "      <th>2</th>\n",
              "      <td>2014</td>\n",
              "      <td>1</td>\n",
              "      <td>1</td>\n",
              "      <td>8.0</td>\n",
              "      <td>13.0</td>\n",
              "      <td>548.0</td>\n",
              "      <td>-4.0</td>\n",
              "      <td>UA</td>\n",
              "      <td>N37422</td>\n",
              "      <td>1609</td>\n",
              "      <td>PDX</td>\n",
              "      <td>IAH</td>\n",
              "      <td>201.0</td>\n",
              "      <td>1825</td>\n",
              "      <td>0.0</td>\n",
              "      <td>8.0</td>\n",
              "    </tr>\n",
              "    <tr>\n",
              "      <th>3</th>\n",
              "      <td>2014</td>\n",
              "      <td>1</td>\n",
              "      <td>1</td>\n",
              "      <td>28.0</td>\n",
              "      <td>-2.0</td>\n",
              "      <td>800.0</td>\n",
              "      <td>-23.0</td>\n",
              "      <td>US</td>\n",
              "      <td>N547UW</td>\n",
              "      <td>466</td>\n",
              "      <td>PDX</td>\n",
              "      <td>CLT</td>\n",
              "      <td>251.0</td>\n",
              "      <td>2282</td>\n",
              "      <td>0.0</td>\n",
              "      <td>28.0</td>\n",
              "    </tr>\n",
              "    <tr>\n",
              "      <th>4</th>\n",
              "      <td>2014</td>\n",
              "      <td>1</td>\n",
              "      <td>1</td>\n",
              "      <td>34.0</td>\n",
              "      <td>44.0</td>\n",
              "      <td>325.0</td>\n",
              "      <td>43.0</td>\n",
              "      <td>AS</td>\n",
              "      <td>N762AS</td>\n",
              "      <td>121</td>\n",
              "      <td>SEA</td>\n",
              "      <td>ANC</td>\n",
              "      <td>201.0</td>\n",
              "      <td>1448</td>\n",
              "      <td>0.0</td>\n",
              "      <td>34.0</td>\n",
              "    </tr>\n",
              "  </tbody>\n",
              "</table>\n",
              "</div>\n",
              "      <button class=\"colab-df-convert\" onclick=\"convertToInteractive('df-13ff06d2-8092-4323-9a8a-4556b0d536f2')\"\n",
              "              title=\"Convert this dataframe to an interactive table.\"\n",
              "              style=\"display:none;\">\n",
              "        \n",
              "  <svg xmlns=\"http://www.w3.org/2000/svg\" height=\"24px\"viewBox=\"0 0 24 24\"\n",
              "       width=\"24px\">\n",
              "    <path d=\"M0 0h24v24H0V0z\" fill=\"none\"/>\n",
              "    <path d=\"M18.56 5.44l.94 2.06.94-2.06 2.06-.94-2.06-.94-.94-2.06-.94 2.06-2.06.94zm-11 1L8.5 8.5l.94-2.06 2.06-.94-2.06-.94L8.5 2.5l-.94 2.06-2.06.94zm10 10l.94 2.06.94-2.06 2.06-.94-2.06-.94-.94-2.06-.94 2.06-2.06.94z\"/><path d=\"M17.41 7.96l-1.37-1.37c-.4-.4-.92-.59-1.43-.59-.52 0-1.04.2-1.43.59L10.3 9.45l-7.72 7.72c-.78.78-.78 2.05 0 2.83L4 21.41c.39.39.9.59 1.41.59.51 0 1.02-.2 1.41-.59l7.78-7.78 2.81-2.81c.8-.78.8-2.07 0-2.86zM5.41 20L4 18.59l7.72-7.72 1.47 1.35L5.41 20z\"/>\n",
              "  </svg>\n",
              "      </button>\n",
              "      \n",
              "  <style>\n",
              "    .colab-df-container {\n",
              "      display:flex;\n",
              "      flex-wrap:wrap;\n",
              "      gap: 12px;\n",
              "    }\n",
              "\n",
              "    .colab-df-convert {\n",
              "      background-color: #E8F0FE;\n",
              "      border: none;\n",
              "      border-radius: 50%;\n",
              "      cursor: pointer;\n",
              "      display: none;\n",
              "      fill: #1967D2;\n",
              "      height: 32px;\n",
              "      padding: 0 0 0 0;\n",
              "      width: 32px;\n",
              "    }\n",
              "\n",
              "    .colab-df-convert:hover {\n",
              "      background-color: #E2EBFA;\n",
              "      box-shadow: 0px 1px 2px rgba(60, 64, 67, 0.3), 0px 1px 3px 1px rgba(60, 64, 67, 0.15);\n",
              "      fill: #174EA6;\n",
              "    }\n",
              "\n",
              "    [theme=dark] .colab-df-convert {\n",
              "      background-color: #3B4455;\n",
              "      fill: #D2E3FC;\n",
              "    }\n",
              "\n",
              "    [theme=dark] .colab-df-convert:hover {\n",
              "      background-color: #434B5C;\n",
              "      box-shadow: 0px 1px 3px 1px rgba(0, 0, 0, 0.15);\n",
              "      filter: drop-shadow(0px 1px 2px rgba(0, 0, 0, 0.3));\n",
              "      fill: #FFFFFF;\n",
              "    }\n",
              "  </style>\n",
              "\n",
              "      <script>\n",
              "        const buttonEl =\n",
              "          document.querySelector('#df-13ff06d2-8092-4323-9a8a-4556b0d536f2 button.colab-df-convert');\n",
              "        buttonEl.style.display =\n",
              "          google.colab.kernel.accessAllowed ? 'block' : 'none';\n",
              "\n",
              "        async function convertToInteractive(key) {\n",
              "          const element = document.querySelector('#df-13ff06d2-8092-4323-9a8a-4556b0d536f2');\n",
              "          const dataTable =\n",
              "            await google.colab.kernel.invokeFunction('convertToInteractive',\n",
              "                                                     [key], {});\n",
              "          if (!dataTable) return;\n",
              "\n",
              "          const docLinkHtml = 'Like what you see? Visit the ' +\n",
              "            '<a target=\"_blank\" href=https://colab.research.google.com/notebooks/data_table.ipynb>data table notebook</a>'\n",
              "            + ' to learn more about interactive tables.';\n",
              "          element.innerHTML = '';\n",
              "          dataTable['output_type'] = 'display_data';\n",
              "          await google.colab.output.renderOutput(dataTable, element);\n",
              "          const docLink = document.createElement('div');\n",
              "          docLink.innerHTML = docLinkHtml;\n",
              "          element.appendChild(docLink);\n",
              "        }\n",
              "      </script>\n",
              "    </div>\n",
              "  </div>\n",
              "  "
            ]
          },
          "metadata": {},
          "execution_count": 8
        }
      ]
    },
    {
      "cell_type": "code",
      "source": [
        "df_flights['carrier'].value_counts()\n",
        "\n"
      ],
      "metadata": {
        "colab": {
          "base_uri": "https://localhost:8080/"
        },
        "id": "5OxNW8xz2-qi",
        "outputId": "1bbfa066-d274-4d87-a881-d0db14fa6e17"
      },
      "execution_count": null,
      "outputs": [
        {
          "output_type": "execute_result",
          "data": {
            "text/plain": [
              "AS    62460\n",
              "WN    23355\n",
              "OO    18710\n",
              "DL    16716\n",
              "UA    16671\n",
              "AA     7586\n",
              "US     5946\n",
              "B6     3540\n",
              "VX     3272\n",
              "F9     2698\n",
              "HA     1095\n",
              "Name: carrier, dtype: int64"
            ]
          },
          "metadata": {},
          "execution_count": 11
        }
      ]
    },
    {
      "cell_type": "code",
      "source": [
        "df_flights['carrier'].value_counts().plot(kind='pie')"
      ],
      "metadata": {
        "colab": {
          "base_uri": "https://localhost:8080/",
          "height": 265
        },
        "id": "jsFOqzsL33Wf",
        "outputId": "53c922f6-1a69-4a07-f5b6-76717fdfbbe2"
      },
      "execution_count": null,
      "outputs": [
        {
          "output_type": "execute_result",
          "data": {
            "text/plain": [
              "<matplotlib.axes._subplots.AxesSubplot at 0x7f5b2d058a90>"
            ]
          },
          "metadata": {},
          "execution_count": 15
        },
        {
          "output_type": "display_data",
          "data": {
            "text/plain": [
              "<Figure size 432x288 with 1 Axes>"
            ],
            "image/png": "[encoded data removed]"
          },
          "metadata": {}
        }
      ]
    },
    {
      "cell_type": "code",
      "source": [
        "df_flights['origin'].value_counts()"
      ],
      "metadata": {
        "colab": {
          "base_uri": "https://localhost:8080/"
        },
        "id": "vvfI7avX3geH",
        "outputId": "c7bf6946-88c8-4f7a-9f4d-5a059c91a833"
      },
      "execution_count": null,
      "outputs": [
        {
          "output_type": "execute_result",
          "data": {
            "text/plain": [
              "SEA    108714\n",
              "PDX     53335\n",
              "Name: origin, dtype: int64"
            ]
          },
          "metadata": {},
          "execution_count": 18
        }
      ]
    },
    {
      "cell_type": "code",
      "source": [
        "df_flights['origin'].value_counts().plot(kind='bar')"
      ],
      "metadata": {
        "colab": {
          "base_uri": "https://localhost:8080/",
          "height": 293
        },
        "id": "DxUjE_GK4VZj",
        "outputId": "513b9a40-723a-4fba-f5aa-22e6f372d791"
      },
      "execution_count": null,
      "outputs": [
        {
          "output_type": "execute_result",
          "data": {
            "text/plain": [
              "<matplotlib.axes._subplots.AxesSubplot at 0x7f5b2cec1250>"
            ]
          },
          "metadata": {},
          "execution_count": 19
        },
        {
          "output_type": "display_data",
          "data": {
            "text/plain": [
              "<Figure size 432x288 with 1 Axes>"
            ],
            "image/png": "[encoded data removed]"
          },
          "metadata": {
            "needs_background": "light"
          }
        }
      ]
    },
    {
      "cell_type": "code",
      "source": [
        ""
      ],
      "metadata": {
        "id": "GnfWOvTI5e7L"
      },
      "execution_count": null,
      "outputs": []
    },
    {
      "cell_type": "code",
      "source": [
        "df_flights['dest'].value_counts()"
      ],
      "metadata": {
        "colab": {
          "base_uri": "https://localhost:8080/"
        },
        "id": "7HEWflUI3kOY",
        "outputId": "59c0c5e7-2f06-4768-9053-3031878fa51f"
      },
      "execution_count": null,
      "outputs": [
        {
          "output_type": "execute_result",
          "data": {
            "text/plain": [
              "SFO    12809\n",
              "LAX    10456\n",
              "DEN     9518\n",
              "PHX     8660\n",
              "LAS     8214\n",
              "       ...  \n",
              "BLI       93\n",
              "CLE       40\n",
              "HDN       33\n",
              "JAC       15\n",
              "BZN        2\n",
              "Name: dest, Length: 71, dtype: int64"
            ]
          },
          "metadata": {},
          "execution_count": 13
        }
      ]
    },
    {
      "cell_type": "code",
      "source": [
        "import pandas as pd\n",
        "from sklearn.datasets import load_boston\n",
        "boston = load_boston()\n",
        "boston_pd = pd.DataFrame(data= boston['data'],columns= boston['feature_names'])\n",
        "boston_pd.head()"
      ],
      "metadata": {
        "colab": {
          "base_uri": "https://localhost:8080/",
          "height": 851
        },
        "id": "L_Iu6k0h5gDF",
        "outputId": "ffe0dded-55b7-44af-f0f5-15134fcdf108"
      },
      "execution_count": null,
      "outputs": [
        {
          "output_type": "stream",
          "name": "stderr",
          "text": [
            "/usr/local/lib/python3.7/dist-packages/sklearn/utils/deprecation.py:87: FutureWarning: Function load_boston is deprecated; `load_boston` is deprecated in 1.0 and will be removed in 1.2.\n",
            "\n",
            "    The Boston housing prices dataset has an ethical problem. You can refer to\n",
            "    the documentation of this function for further details.\n",
            "\n",
            "    The scikit-learn maintainers therefore strongly discourage the use of this\n",
            "    dataset unless the purpose of the code is to study and educate about\n",
            "    ethical issues in data science and machine learning.\n",
            "\n",
            "    In this special case, you can fetch the dataset from the original\n",
            "    source::\n",
            "\n",
            "        import pandas as pd\n",
            "        import numpy as np\n",
            "\n",
            "\n",
            "        data_url = \"http://lib.stat.cmu.edu/datasets/boston\"\n",
            "        raw_df = pd.read_csv(data_url, sep=\"\\s+\", skiprows=22, header=None)\n",
            "        data = np.hstack([raw_df.values[::2, :], raw_df.values[1::2, :2]])\n",
            "        target = raw_df.values[1::2, 2]\n",
            "\n",
            "    Alternative datasets include the California housing dataset (i.e.\n",
            "    :func:`~sklearn.datasets.fetch_california_housing`) and the Ames housing\n",
            "    dataset. You can load the datasets as follows::\n",
            "\n",
            "        from sklearn.datasets import fetch_california_housing\n",
            "        housing = fetch_california_housing()\n",
            "\n",
            "    for the California housing dataset and::\n",
            "\n",
            "        from sklearn.datasets import fetch_openml\n",
            "        housing = fetch_openml(name=\"house_prices\", as_frame=True)\n",
            "\n",
            "    for the Ames housing dataset.\n",
            "    \n",
            "  warnings.warn(msg, category=FutureWarning)\n"
          ]
        },
        {
          "output_type": "execute_result",
          "data": {
            "text/plain": [
              "      CRIM    ZN  INDUS  CHAS    NOX     RM   AGE     DIS  RAD    TAX  \\\n",
              "0  0.00632  18.0   2.31   0.0  0.538  6.575  65.2  4.0900  1.0  296.0   \n",
              "1  0.02731   0.0   7.07   0.0  0.469  6.421  78.9  4.9671  2.0  242.0   \n",
              "2  0.02729   0.0   7.07   0.0  0.469  7.185  61.1  4.9671  2.0  242.0   \n",
              "3  0.03237   0.0   2.18   0.0  0.458  6.998  45.8  6.0622  3.0  222.0   \n",
              "4  0.06905   0.0   2.18   0.0  0.458  7.147  54.2  6.0622  3.0  222.0   \n",
              "\n",
              "   PTRATIO       B  LSTAT  \n",
              "0     15.3  396.90   4.98  \n",
              "1     17.8  396.90   9.14  \n",
              "2     17.8  392.83   4.03  \n",
              "3     18.7  394.63   2.94  \n",
              "4     18.7  396.90   5.33  "
            ],
            "text/html": [
              "\n",
              "  <div id=\"df-e2edc855-122c-487d-a8ab-2245430323e6\">\n",
              "    <div class=\"colab-df-container\">\n",
              "      <div>\n",
              "<style scoped>\n",
              "    .dataframe tbody tr th:only-of-type {\n",
              "        vertical-align: middle;\n",
              "    }\n",
              "\n",
              "    .dataframe tbody tr th {\n",
              "        vertical-align: top;\n",
              "    }\n",
              "\n",
              "    .dataframe thead th {\n",
              "        text-align: right;\n",
              "    }\n",
              "</style>\n",
              "<table border=\"1\" class=\"dataframe\">\n",
              "  <thead>\n",
              "    <tr style=\"text-align: right;\">\n",
              "      <th></th>\n",
              "      <th>CRIM</th>\n",
              "      <th>ZN</th>\n",
              "      <th>INDUS</th>\n",
              "      <th>CHAS</th>\n",
              "      <th>NOX</th>\n",
              "      <th>RM</th>\n",
              "      <th>AGE</th>\n",
              "      <th>DIS</th>\n",
              "      <th>RAD</th>\n",
              "      <th>TAX</th>\n",
              "      <th>PTRATIO</th>\n",
              "      <th>B</th>\n",
              "      <th>LSTAT</th>\n",
              "    </tr>\n",
              "  </thead>\n",
              "  <tbody>\n",
              "    <tr>\n",
              "      <th>0</th>\n",
              "      <td>0.00632</td>\n",
              "      <td>18.0</td>\n",
              "      <td>2.31</td>\n",
              "      <td>0.0</td>\n",
              "      <td>0.538</td>\n",
              "      <td>6.575</td>\n",
              "      <td>65.2</td>\n",
              "      <td>4.0900</td>\n",
              "      <td>1.0</td>\n",
              "      <td>296.0</td>\n",
              "      <td>15.3</td>\n",
              "      <td>396.90</td>\n",
              "      <td>4.98</td>\n",
              "    </tr>\n",
              "    <tr>\n",
              "      <th>1</th>\n",
              "      <td>0.02731</td>\n",
              "      <td>0.0</td>\n",
              "      <td>7.07</td>\n",
              "      <td>0.0</td>\n",
              "      <td>0.469</td>\n",
              "      <td>6.421</td>\n",
              "      <td>78.9</td>\n",
              "      <td>4.9671</td>\n",
              "      <td>2.0</td>\n",
              "      <td>242.0</td>\n",
              "      <td>17.8</td>\n",
              "      <td>396.90</td>\n",
              "      <td>9.14</td>\n",
              "    </tr>\n",
              "    <tr>\n",
              "      <th>2</th>\n",
              "      <td>0.02729</td>\n",
              "      <td>0.0</td>\n",
              "      <td>7.07</td>\n",
              "      <td>0.0</td>\n",
              "      <td>0.469</td>\n",
              "      <td>7.185</td>\n",
              "      <td>61.1</td>\n",
              "      <td>4.9671</td>\n",
              "      <td>2.0</td>\n",
              "      <td>242.0</td>\n",
              "      <td>17.8</td>\n",
              "      <td>392.83</td>\n",
              "      <td>4.03</td>\n",
              "    </tr>\n",
              "    <tr>\n",
              "      <th>3</th>\n",
              "      <td>0.03237</td>\n",
              "      <td>0.0</td>\n",
              "      <td>2.18</td>\n",
              "      <td>0.0</td>\n",
              "      <td>0.458</td>\n",
              "      <td>6.998</td>\n",
              "      <td>45.8</td>\n",
              "      <td>6.0622</td>\n",
              "      <td>3.0</td>\n",
              "      <td>222.0</td>\n",
              "      <td>18.7</td>\n",
              "      <td>394.63</td>\n",
              "      <td>2.94</td>\n",
              "    </tr>\n",
              "    <tr>\n",
              "      <th>4</th>\n",
              "      <td>0.06905</td>\n",
              "      <td>0.0</td>\n",
              "      <td>2.18</td>\n",
              "      <td>0.0</td>\n",
              "      <td>0.458</td>\n",
              "      <td>7.147</td>\n",
              "      <td>54.2</td>\n",
              "      <td>6.0622</td>\n",
              "      <td>3.0</td>\n",
              "      <td>222.0</td>\n",
              "      <td>18.7</td>\n",
              "      <td>396.90</td>\n",
              "      <td>5.33</td>\n",
              "    </tr>\n",
              "  </tbody>\n",
              "</table>\n",
              "</div>\n",
              "      <button class=\"colab-df-convert\" onclick=\"convertToInteractive('df-e2edc855-122c-487d-a8ab-2245430323e6')\"\n",
              "              title=\"Convert this dataframe to an interactive table.\"\n",
              "              style=\"display:none;\">\n",
              "        \n",
              "  <svg xmlns=\"http://www.w3.org/2000/svg\" height=\"24px\"viewBox=\"0 0 24 24\"\n",
              "       width=\"24px\">\n",
              "    <path d=\"M0 0h24v24H0V0z\" fill=\"none\"/>\n",
              "    <path d=\"M18.56 5.44l.94 2.06.94-2.06 2.06-.94-2.06-.94-.94-2.06-.94 2.06-2.06.94zm-11 1L8.5 8.5l.94-2.06 2.06-.94-2.06-.94L8.5 2.5l-.94 2.06-2.06.94zm10 10l.94 2.06.94-2.06 2.06-.94-2.06-.94-.94-2.06-.94 2.06-2.06.94z\"/><path d=\"M17.41 7.96l-1.37-1.37c-.4-.4-.92-.59-1.43-.59-.52 0-1.04.2-1.43.59L10.3 9.45l-7.72 7.72c-.78.78-.78 2.05 0 2.83L4 21.41c.39.39.9.59 1.41.59.51 0 1.02-.2 1.41-.59l7.78-7.78 2.81-2.81c.8-.78.8-2.07 0-2.86zM5.41 20L4 18.59l7.72-7.72 1.47 1.35L5.41 20z\"/>\n",
              "  </svg>\n",
              "      </button>\n",
              "      \n",
              "  <style>\n",
              "    .colab-df-container {\n",
              "      display:flex;\n",
              "      flex-wrap:wrap;\n",
              "      gap: 12px;\n",
              "    }\n",
              "\n",
              "    .colab-df-convert {\n",
              "      background-color: #E8F0FE;\n",
              "      border: none;\n",
              "      border-radius: 50%;\n",
              "      cursor: pointer;\n",
              "      display: none;\n",
              "      fill: #1967D2;\n",
              "      height: 32px;\n",
              "      padding: 0 0 0 0;\n",
              "      width: 32px;\n",
              "    }\n",
              "\n",
              "    .colab-df-convert:hover {\n",
              "      background-color: #E2EBFA;\n",
              "      box-shadow: 0px 1px 2px rgba(60, 64, 67, 0.3), 0px 1px 3px 1px rgba(60, 64, 67, 0.15);\n",
              "      fill: #174EA6;\n",
              "    }\n",
              "\n",
              "    [theme=dark] .colab-df-convert {\n",
              "      background-color: #3B4455;\n",
              "      fill: #D2E3FC;\n",
              "    }\n",
              "\n",
              "    [theme=dark] .colab-df-convert:hover {\n",
              "      background-color: #434B5C;\n",
              "      box-shadow: 0px 1px 3px 1px rgba(0, 0, 0, 0.15);\n",
              "      filter: drop-shadow(0px 1px 2px rgba(0, 0, 0, 0.3));\n",
              "      fill: #FFFFFF;\n",
              "    }\n",
              "  </style>\n",
              "\n",
              "      <script>\n",
              "        const buttonEl =\n",
              "          document.querySelector('#df-e2edc855-122c-487d-a8ab-2245430323e6 button.colab-df-convert');\n",
              "        buttonEl.style.display =\n",
              "          google.colab.kernel.accessAllowed ? 'block' : 'none';\n",
              "\n",
              "        async function convertToInteractive(key) {\n",
              "          const element = document.querySelector('#df-e2edc855-122c-487d-a8ab-2245430323e6');\n",
              "          const dataTable =\n",
              "            await google.colab.kernel.invokeFunction('convertToInteractive',\n",
              "                                                     [key], {});\n",
              "          if (!dataTable) return;\n",
              "\n",
              "          const docLinkHtml = 'Like what you see? Visit the ' +\n",
              "            '<a target=\"_blank\" href=https://colab.research.google.com/notebooks/data_table.ipynb>data table notebook</a>'\n",
              "            + ' to learn more about interactive tables.';\n",
              "          element.innerHTML = '';\n",
              "          dataTable['output_type'] = 'display_data';\n",
              "          await google.colab.output.renderOutput(dataTable, element);\n",
              "          const docLink = document.createElement('div');\n",
              "          docLink.innerHTML = docLinkHtml;\n",
              "          element.appendChild(docLink);\n",
              "        }\n",
              "      </script>\n",
              "    </div>\n",
              "  </div>\n",
              "  "
            ]
          },
          "metadata": {},
          "execution_count": 22
        }
      ]
    },
    {
      "cell_type": "code",
      "source": [
        "boston_pd.to_csv('boston.csv',index=False)"
      ],
      "metadata": {
        "id": "8Bg5SQYg5pgr"
      },
      "execution_count": null,
      "outputs": []
    },
    {
      "cell_type": "code",
      "source": [
        "boston_pd.to_csv('boston.txt', sep=',',index=False)"
      ],
      "metadata": {
        "id": "NPhSWVea55ks"
      },
      "execution_count": null,
      "outputs": []
    },
    {
      "cell_type": "code",
      "source": [
        "import pandas as pd\n",
        "boston_pd_new = pd.read_csv('boston.csv')\n",
        "boston_pd_new"
      ],
      "metadata": {
        "colab": {
          "base_uri": "https://localhost:8080/",
          "height": 424
        },
        "id": "Qq5uqQem6kZm",
        "outputId": "daec0421-c2e5-4836-de05-6461746b46c9"
      },
      "execution_count": null,
      "outputs": [
        {
          "output_type": "execute_result",
          "data": {
            "text/plain": [
              "        CRIM    ZN  INDUS  CHAS    NOX     RM   AGE     DIS  RAD    TAX  \\\n",
              "0    0.00632  18.0   2.31   0.0  0.538  6.575  65.2  4.0900  1.0  296.0   \n",
              "1    0.02731   0.0   7.07   0.0  0.469  6.421  78.9  4.9671  2.0  242.0   \n",
              "2    0.02729   0.0   7.07   0.0  0.469  7.185  61.1  4.9671  2.0  242.0   \n",
              "3    0.03237   0.0   2.18   0.0  0.458  6.998  45.8  6.0622  3.0  222.0   \n",
              "4    0.06905   0.0   2.18   0.0  0.458  7.147  54.2  6.0622  3.0  222.0   \n",
              "..       ...   ...    ...   ...    ...    ...   ...     ...  ...    ...   \n",
              "501  0.06263   0.0  11.93   0.0  0.573  6.593  69.1  2.4786  1.0  273.0   \n",
              "502  0.04527   0.0  11.93   0.0  0.573  6.120  76.7  2.2875  1.0  273.0   \n",
              "503  0.06076   0.0  11.93   0.0  0.573  6.976  91.0  2.1675  1.0  273.0   \n",
              "504  0.10959   0.0  11.93   0.0  0.573  6.794  89.3  2.3889  1.0  273.0   \n",
              "505  0.04741   0.0  11.93   0.0  0.573  6.030  80.8  2.5050  1.0  273.0   \n",
              "\n",
              "     PTRATIO       B  LSTAT  \n",
              "0       15.3  396.90   4.98  \n",
              "1       17.8  396.90   9.14  \n",
              "2       17.8  392.83   4.03  \n",
              "3       18.7  394.63   2.94  \n",
              "4       18.7  396.90   5.33  \n",
              "..       ...     ...    ...  \n",
              "501     21.0  391.99   9.67  \n",
              "502     21.0  396.90   9.08  \n",
              "503     21.0  396.90   5.64  \n",
              "504     21.0  393.45   6.48  \n",
              "505     21.0  396.90   7.88  \n",
              "\n",
              "[506 rows x 13 columns]"
            ],
            "text/html": [
              "\n",
              "  <div id=\"df-bbea70ef-b9e4-49b4-b300-fb04cf03148a\">\n",
              "    <div class=\"colab-df-container\">\n",
              "      <div>\n",
              "<style scoped>\n",
              "    .dataframe tbody tr th:only-of-type {\n",
              "        vertical-align: middle;\n",
              "    }\n",
              "\n",
              "    .dataframe tbody tr th {\n",
              "        vertical-align: top;\n",
              "    }\n",
              "\n",
              "    .dataframe thead th {\n",
              "        text-align: right;\n",
              "    }\n",
              "</style>\n",
              "<table border=\"1\" class=\"dataframe\">\n",
              "  <thead>\n",
              "    <tr style=\"text-align: right;\">\n",
              "      <th></th>\n",
              "      <th>CRIM</th>\n",
              "      <th>ZN</th>\n",
              "      <th>INDUS</th>\n",
              "      <th>CHAS</th>\n",
              "      <th>NOX</th>\n",
              "      <th>RM</th>\n",
              "      <th>AGE</th>\n",
              "      <th>DIS</th>\n",
              "      <th>RAD</th>\n",
              "      <th>TAX</th>\n",
              "      <th>PTRATIO</th>\n",
              "      <th>B</th>\n",
              "      <th>LSTAT</th>\n",
              "    </tr>\n",
              "  </thead>\n",
              "  <tbody>\n",
              "    <tr>\n",
              "      <th>0</th>\n",
              "      <td>0.00632</td>\n",
              "      <td>18.0</td>\n",
              "      <td>2.31</td>\n",
              "      <td>0.0</td>\n",
              "      <td>0.538</td>\n",
              "      <td>6.575</td>\n",
              "      <td>65.2</td>\n",
              "      <td>4.0900</td>\n",
              "      <td>1.0</td>\n",
              "      <td>296.0</td>\n",
              "      <td>15.3</td>\n",
              "      <td>396.90</td>\n",
              "      <td>4.98</td>\n",
              "    </tr>\n",
              "    <tr>\n",
              "      <th>1</th>\n",
              "      <td>0.02731</td>\n",
              "      <td>0.0</td>\n",
              "      <td>7.07</td>\n",
              "      <td>0.0</td>\n",
              "      <td>0.469</td>\n",
              "      <td>6.421</td>\n",
              "      <td>78.9</td>\n",
              "      <td>4.9671</td>\n",
              "      <td>2.0</td>\n",
              "      <td>242.0</td>\n",
              "      <td>17.8</td>\n",
              "      <td>396.90</td>\n",
              "      <td>9.14</td>\n",
              "    </tr>\n",
              "    <tr>\n",
              "      <th>2</th>\n",
              "      <td>0.02729</td>\n",
              "      <td>0.0</td>\n",
              "      <td>7.07</td>\n",
              "      <td>0.0</td>\n",
              "      <td>0.469</td>\n",
              "      <td>7.185</td>\n",
              "      <td>61.1</td>\n",
              "      <td>4.9671</td>\n",
              "      <td>2.0</td>\n",
              "      <td>242.0</td>\n",
              "      <td>17.8</td>\n",
              "      <td>392.83</td>\n",
              "      <td>4.03</td>\n",
              "    </tr>\n",
              "    <tr>\n",
              "      <th>3</th>\n",
              "      <td>0.03237</td>\n",
              "      <td>0.0</td>\n",
              "      <td>2.18</td>\n",
              "      <td>0.0</td>\n",
              "      <td>0.458</td>\n",
              "      <td>6.998</td>\n",
              "      <td>45.8</td>\n",
              "      <td>6.0622</td>\n",
              "      <td>3.0</td>\n",
              "      <td>222.0</td>\n",
              "      <td>18.7</td>\n",
              "      <td>394.63</td>\n",
              "      <td>2.94</td>\n",
              "    </tr>\n",
              "    <tr>\n",
              "      <th>4</th>\n",
              "      <td>0.06905</td>\n",
              "      <td>0.0</td>\n",
              "      <td>2.18</td>\n",
              "      <td>0.0</td>\n",
              "      <td>0.458</td>\n",
              "      <td>7.147</td>\n",
              "      <td>54.2</td>\n",
              "      <td>6.0622</td>\n",
              "      <td>3.0</td>\n",
              "      <td>222.0</td>\n",
              "      <td>18.7</td>\n",
              "      <td>396.90</td>\n",
              "      <td>5.33</td>\n",
              "    </tr>\n",
              "    <tr>\n",
              "      <th>...</th>\n",
              "      <td>...</td>\n",
              "      <td>...</td>\n",
              "      <td>...</td>\n",
              "      <td>...</td>\n",
              "      <td>...</td>\n",
              "      <td>...</td>\n",
              "      <td>...</td>\n",
              "      <td>...</td>\n",
              "      <td>...</td>\n",
              "      <td>...</td>\n",
              "      <td>...</td>\n",
              "      <td>...</td>\n",
              "      <td>...</td>\n",
              "    </tr>\n",
              "    <tr>\n",
              "      <th>501</th>\n",
              "      <td>0.06263</td>\n",
              "      <td>0.0</td>\n",
              "      <td>11.93</td>\n",
              "      <td>0.0</td>\n",
              "      <td>0.573</td>\n",
              "      <td>6.593</td>\n",
              "      <td>69.1</td>\n",
              "      <td>2.4786</td>\n",
              "      <td>1.0</td>\n",
              "      <td>273.0</td>\n",
              "      <td>21.0</td>\n",
              "      <td>391.99</td>\n",
              "      <td>9.67</td>\n",
              "    </tr>\n",
              "    <tr>\n",
              "      <th>502</th>\n",
              "      <td>0.04527</td>\n",
              "      <td>0.0</td>\n",
              "      <td>11.93</td>\n",
              "      <td>0.0</td>\n",
              "      <td>0.573</td>\n",
              "      <td>6.120</td>\n",
              "      <td>76.7</td>\n",
              "      <td>2.2875</td>\n",
              "      <td>1.0</td>\n",
              "      <td>273.0</td>\n",
              "      <td>21.0</td>\n",
              "      <td>396.90</td>\n",
              "      <td>9.08</td>\n",
              "    </tr>\n",
              "    <tr>\n",
              "      <th>503</th>\n",
              "      <td>0.06076</td>\n",
              "      <td>0.0</td>\n",
              "      <td>11.93</td>\n",
              "      <td>0.0</td>\n",
              "      <td>0.573</td>\n",
              "      <td>6.976</td>\n",
              "      <td>91.0</td>\n",
              "      <td>2.1675</td>\n",
              "      <td>1.0</td>\n",
              "      <td>273.0</td>\n",
              "      <td>21.0</td>\n",
              "      <td>396.90</td>\n",
              "      <td>5.64</td>\n",
              "    </tr>\n",
              "    <tr>\n",
              "      <th>504</th>\n",
              "      <td>0.10959</td>\n",
              "      <td>0.0</td>\n",
              "      <td>11.93</td>\n",
              "      <td>0.0</td>\n",
              "      <td>0.573</td>\n",
              "      <td>6.794</td>\n",
              "      <td>89.3</td>\n",
              "      <td>2.3889</td>\n",
              "      <td>1.0</td>\n",
              "      <td>273.0</td>\n",
              "      <td>21.0</td>\n",
              "      <td>393.45</td>\n",
              "      <td>6.48</td>\n",
              "    </tr>\n",
              "    <tr>\n",
              "      <th>505</th>\n",
              "      <td>0.04741</td>\n",
              "      <td>0.0</td>\n",
              "      <td>11.93</td>\n",
              "      <td>0.0</td>\n",
              "      <td>0.573</td>\n",
              "      <td>6.030</td>\n",
              "      <td>80.8</td>\n",
              "      <td>2.5050</td>\n",
              "      <td>1.0</td>\n",
              "      <td>273.0</td>\n",
              "      <td>21.0</td>\n",
              "      <td>396.90</td>\n",
              "      <td>7.88</td>\n",
              "    </tr>\n",
              "  </tbody>\n",
              "</table>\n",
              "<p>506 rows × 13 columns</p>\n",
              "</div>\n",
              "      <button class=\"colab-df-convert\" onclick=\"convertToInteractive('df-bbea70ef-b9e4-49b4-b300-fb04cf03148a')\"\n",
              "              title=\"Convert this dataframe to an interactive table.\"\n",
              "              style=\"display:none;\">\n",
              "        \n",
              "  <svg xmlns=\"http://www.w3.org/2000/svg\" height=\"24px\"viewBox=\"0 0 24 24\"\n",
              "       width=\"24px\">\n",
              "    <path d=\"M0 0h24v24H0V0z\" fill=\"none\"/>\n",
              "    <path d=\"M18.56 5.44l.94 2.06.94-2.06 2.06-.94-2.06-.94-.94-2.06-.94 2.06-2.06.94zm-11 1L8.5 8.5l.94-2.06 2.06-.94-2.06-.94L8.5 2.5l-.94 2.06-2.06.94zm10 10l.94 2.06.94-2.06 2.06-.94-2.06-.94-.94-2.06-.94 2.06-2.06.94z\"/><path d=\"M17.41 7.96l-1.37-1.37c-.4-.4-.92-.59-1.43-.59-.52 0-1.04.2-1.43.59L10.3 9.45l-7.72 7.72c-.78.78-.78 2.05 0 2.83L4 21.41c.39.39.9.59 1.41.59.51 0 1.02-.2 1.41-.59l7.78-7.78 2.81-2.81c.8-.78.8-2.07 0-2.86zM5.41 20L4 18.59l7.72-7.72 1.47 1.35L5.41 20z\"/>\n",
              "  </svg>\n",
              "      </button>\n",
              "      \n",
              "  <style>\n",
              "    .colab-df-container {\n",
              "      display:flex;\n",
              "      flex-wrap:wrap;\n",
              "      gap: 12px;\n",
              "    }\n",
              "\n",
              "    .colab-df-convert {\n",
              "      background-color: #E8F0FE;\n",
              "      border: none;\n",
              "      border-radius: 50%;\n",
              "      cursor: pointer;\n",
              "      display: none;\n",
              "      fill: #1967D2;\n",
              "      height: 32px;\n",
              "      padding: 0 0 0 0;\n",
              "      width: 32px;\n",
              "    }\n",
              "\n",
              "    .colab-df-convert:hover {\n",
              "      background-color: #E2EBFA;\n",
              "      box-shadow: 0px 1px 2px rgba(60, 64, 67, 0.3), 0px 1px 3px 1px rgba(60, 64, 67, 0.15);\n",
              "      fill: #174EA6;\n",
              "    }\n",
              "\n",
              "    [theme=dark] .colab-df-convert {\n",
              "      background-color: #3B4455;\n",
              "      fill: #D2E3FC;\n",
              "    }\n",
              "\n",
              "    [theme=dark] .colab-df-convert:hover {\n",
              "      background-color: #434B5C;\n",
              "      box-shadow: 0px 1px 3px 1px rgba(0, 0, 0, 0.15);\n",
              "      filter: drop-shadow(0px 1px 2px rgba(0, 0, 0, 0.3));\n",
              "      fill: #FFFFFF;\n",
              "    }\n",
              "  </style>\n",
              "\n",
              "      <script>\n",
              "        const buttonEl =\n",
              "          document.querySelector('#df-bbea70ef-b9e4-49b4-b300-fb04cf03148a button.colab-df-convert');\n",
              "        buttonEl.style.display =\n",
              "          google.colab.kernel.accessAllowed ? 'block' : 'none';\n",
              "\n",
              "        async function convertToInteractive(key) {\n",
              "          const element = document.querySelector('#df-bbea70ef-b9e4-49b4-b300-fb04cf03148a');\n",
              "          const dataTable =\n",
              "            await google.colab.kernel.invokeFunction('convertToInteractive',\n",
              "                                                     [key], {});\n",
              "          if (!dataTable) return;\n",
              "\n",
              "          const docLinkHtml = 'Like what you see? Visit the ' +\n",
              "            '<a target=\"_blank\" href=https://colab.research.google.com/notebooks/data_table.ipynb>data table notebook</a>'\n",
              "            + ' to learn more about interactive tables.';\n",
              "          element.innerHTML = '';\n",
              "          dataTable['output_type'] = 'display_data';\n",
              "          await google.colab.output.renderOutput(dataTable, element);\n",
              "          const docLink = document.createElement('div');\n",
              "          docLink.innerHTML = docLinkHtml;\n",
              "          element.appendChild(docLink);\n",
              "        }\n",
              "      </script>\n",
              "    </div>\n",
              "  </div>\n",
              "  "
            ]
          },
          "metadata": {},
          "execution_count": 27
        }
      ]
    },
    {
      "cell_type": "code",
      "source": [
        "import pandas as pd\n",
        "print(boston_pd.columns)"
      ],
      "metadata": {
        "colab": {
          "base_uri": "https://localhost:8080/"
        },
        "id": "tGarMPZ27P3G",
        "outputId": "3bed51e0-8355-42c9-f4b4-87f23e0091f2"
      },
      "execution_count": null,
      "outputs": [
        {
          "output_type": "stream",
          "name": "stdout",
          "text": [
            "Index(['CRIM', 'ZN', 'INDUS', 'CHAS', 'NOX', 'RM', 'AGE', 'DIS', 'RAD', 'TAX',\n",
            "       'PTRATIO', 'B', 'LSTAT'],\n",
            "      dtype='object')\n"
          ]
        }
      ]
    },
    {
      "cell_type": "code",
      "source": [
        "print(boston_pd.head())\n",
        "\n",
        "## last N rows\n",
        "print(boston_pd.head())\n",
        "\n",
        "## Data info\n",
        "print(boston_pd.info())"
      ],
      "metadata": {
        "colab": {
          "base_uri": "https://localhost:8080/"
        },
        "id": "vfbkN4Mj7it7",
        "outputId": "a09c9b76-483a-41f8-9d28-392c755a1112"
      },
      "execution_count": null,
      "outputs": [
        {
          "output_type": "stream",
          "name": "stdout",
          "text": [
            "      CRIM    ZN  INDUS  CHAS    NOX     RM   AGE     DIS  RAD    TAX  \\\n",
            "0  0.00632  18.0   2.31   0.0  0.538  6.575  65.2  4.0900  1.0  296.0   \n",
            "1  0.02731   0.0   7.07   0.0  0.469  6.421  78.9  4.9671  2.0  242.0   \n",
            "2  0.02729   0.0   7.07   0.0  0.469  7.185  61.1  4.9671  2.0  242.0   \n",
            "3  0.03237   0.0   2.18   0.0  0.458  6.998  45.8  6.0622  3.0  222.0   \n",
            "4  0.06905   0.0   2.18   0.0  0.458  7.147  54.2  6.0622  3.0  222.0   \n",
            "\n",
            "   PTRATIO       B  LSTAT  \n",
            "0     15.3  396.90   4.98  \n",
            "1     17.8  396.90   9.14  \n",
            "2     17.8  392.83   4.03  \n",
            "3     18.7  394.63   2.94  \n",
            "4     18.7  396.90   5.33  \n",
            "      CRIM    ZN  INDUS  CHAS    NOX     RM   AGE     DIS  RAD    TAX  \\\n",
            "0  0.00632  18.0   2.31   0.0  0.538  6.575  65.2  4.0900  1.0  296.0   \n",
            "1  0.02731   0.0   7.07   0.0  0.469  6.421  78.9  4.9671  2.0  242.0   \n",
            "2  0.02729   0.0   7.07   0.0  0.469  7.185  61.1  4.9671  2.0  242.0   \n",
            "3  0.03237   0.0   2.18   0.0  0.458  6.998  45.8  6.0622  3.0  222.0   \n",
            "4  0.06905   0.0   2.18   0.0  0.458  7.147  54.2  6.0622  3.0  222.0   \n",
            "\n",
            "   PTRATIO       B  LSTAT  \n",
            "0     15.3  396.90   4.98  \n",
            "1     17.8  396.90   9.14  \n",
            "2     17.8  392.83   4.03  \n",
            "3     18.7  394.63   2.94  \n",
            "4     18.7  396.90   5.33  \n",
            "<class 'pandas.core.frame.DataFrame'>\n",
            "RangeIndex: 506 entries, 0 to 505\n",
            "Data columns (total 13 columns):\n",
            " #   Column   Non-Null Count  Dtype  \n",
            "---  ------   --------------  -----  \n",
            " 0   CRIM     506 non-null    float64\n",
            " 1   ZN       506 non-null    float64\n",
            " 2   INDUS    506 non-null    float64\n",
            " 3   CHAS     506 non-null    float64\n",
            " 4   NOX      506 non-null    float64\n",
            " 5   RM       506 non-null    float64\n",
            " 6   AGE      506 non-null    float64\n",
            " 7   DIS      506 non-null    float64\n",
            " 8   RAD      506 non-null    float64\n",
            " 9   TAX      506 non-null    float64\n",
            " 10  PTRATIO  506 non-null    float64\n",
            " 11  B        506 non-null    float64\n",
            " 12  LSTAT    506 non-null    float64\n",
            "dtypes: float64(13)\n",
            "memory usage: 51.5 KB\n",
            "None\n"
          ]
        }
      ]
    },
    {
      "cell_type": "code",
      "source": [
        "print(boston_pd['CRIM'])\n"
      ],
      "metadata": {
        "colab": {
          "base_uri": "https://localhost:8080/"
        },
        "id": "q3hCR4zr74so",
        "outputId": "6b1487f2-3230-473f-e104-a50e9030fd6e"
      },
      "execution_count": null,
      "outputs": [
        {
          "output_type": "stream",
          "name": "stdout",
          "text": [
            "0      0.00632\n",
            "1      0.02731\n",
            "2      0.02729\n",
            "3      0.03237\n",
            "4      0.06905\n",
            "        ...   \n",
            "501    0.06263\n",
            "502    0.04527\n",
            "503    0.06076\n",
            "504    0.10959\n",
            "505    0.04741\n",
            "Name: CRIM, Length: 506, dtype: float64\n"
          ]
        }
      ]
    },
    {
      "cell_type": "code",
      "source": [
        "boston_pd[boston_pd['CRIM']>0.1]"
      ],
      "metadata": {
        "colab": {
          "base_uri": "https://localhost:8080/",
          "height": 424
        },
        "id": "taxubPDd8jc4",
        "outputId": "ca168d0d-23cb-4962-d291-a420a980b364"
      },
      "execution_count": null,
      "outputs": [
        {
          "output_type": "execute_result",
          "data": {
            "text/plain": [
              "        CRIM    ZN  INDUS  CHAS    NOX     RM    AGE     DIS  RAD    TAX  \\\n",
              "7    0.14455  12.5   7.87   0.0  0.524  6.172   96.1  5.9505  5.0  311.0   \n",
              "8    0.21124  12.5   7.87   0.0  0.524  5.631  100.0  6.0821  5.0  311.0   \n",
              "9    0.17004  12.5   7.87   0.0  0.524  6.004   85.9  6.5921  5.0  311.0   \n",
              "10   0.22489  12.5   7.87   0.0  0.524  6.377   94.3  6.3467  5.0  311.0   \n",
              "11   0.11747  12.5   7.87   0.0  0.524  6.009   82.9  6.2267  5.0  311.0   \n",
              "..       ...   ...    ...   ...    ...    ...    ...     ...  ...    ...   \n",
              "497  0.26838   0.0   9.69   0.0  0.585  5.794   70.6  2.8927  6.0  391.0   \n",
              "498  0.23912   0.0   9.69   0.0  0.585  6.019   65.3  2.4091  6.0  391.0   \n",
              "499  0.17783   0.0   9.69   0.0  0.585  5.569   73.5  2.3999  6.0  391.0   \n",
              "500  0.22438   0.0   9.69   0.0  0.585  6.027   79.7  2.4982  6.0  391.0   \n",
              "504  0.10959   0.0  11.93   0.0  0.573  6.794   89.3  2.3889  1.0  273.0   \n",
              "\n",
              "     PTRATIO       B  LSTAT  \n",
              "7       15.2  396.90  19.15  \n",
              "8       15.2  386.63  29.93  \n",
              "9       15.2  386.71  17.10  \n",
              "10      15.2  392.52  20.45  \n",
              "11      15.2  396.90  13.27  \n",
              "..       ...     ...    ...  \n",
              "497     19.2  396.90  14.10  \n",
              "498     19.2  396.90  12.92  \n",
              "499     19.2  395.77  15.10  \n",
              "500     19.2  396.90  14.33  \n",
              "504     21.0  393.45   6.48  \n",
              "\n",
              "[353 rows x 13 columns]"
            ],
            "text/html": [
              "\n",
              "  <div id=\"df-af7884fd-a0b3-4fbe-a212-cbdf245273b4\">\n",
              "    <div class=\"colab-df-container\">\n",
              "      <div>\n",
              "<style scoped>\n",
              "    .dataframe tbody tr th:only-of-type {\n",
              "        vertical-align: middle;\n",
              "    }\n",
              "\n",
              "    .dataframe tbody tr th {\n",
              "        vertical-align: top;\n",
              "    }\n",
              "\n",
              "    .dataframe thead th {\n",
              "        text-align: right;\n",
              "    }\n",
              "</style>\n",
              "<table border=\"1\" class=\"dataframe\">\n",
              "  <thead>\n",
              "    <tr style=\"text-align: right;\">\n",
              "      <th></th>\n",
              "      <th>CRIM</th>\n",
              "      <th>ZN</th>\n",
              "      <th>INDUS</th>\n",
              "      <th>CHAS</th>\n",
              "      <th>NOX</th>\n",
              "      <th>RM</th>\n",
              "      <th>AGE</th>\n",
              "      <th>DIS</th>\n",
              "      <th>RAD</th>\n",
              "      <th>TAX</th>\n",
              "      <th>PTRATIO</th>\n",
              "      <th>B</th>\n",
              "      <th>LSTAT</th>\n",
              "    </tr>\n",
              "  </thead>\n",
              "  <tbody>\n",
              "    <tr>\n",
              "      <th>7</th>\n",
              "      <td>0.14455</td>\n",
              "      <td>12.5</td>\n",
              "      <td>7.87</td>\n",
              "      <td>0.0</td>\n",
              "      <td>0.524</td>\n",
              "      <td>6.172</td>\n",
              "      <td>96.1</td>\n",
              "      <td>5.9505</td>\n",
              "      <td>5.0</td>\n",
              "      <td>311.0</td>\n",
              "      <td>15.2</td>\n",
              "      <td>396.90</td>\n",
              "      <td>19.15</td>\n",
              "    </tr>\n",
              "    <tr>\n",
              "      <th>8</th>\n",
              "      <td>0.21124</td>\n",
              "      <td>12.5</td>\n",
              "      <td>7.87</td>\n",
              "      <td>0.0</td>\n",
              "      <td>0.524</td>\n",
              "      <td>5.631</td>\n",
              "      <td>100.0</td>\n",
              "      <td>6.0821</td>\n",
              "      <td>5.0</td>\n",
              "      <td>311.0</td>\n",
              "      <td>15.2</td>\n",
              "      <td>386.63</td>\n",
              "      <td>29.93</td>\n",
              "    </tr>\n",
              "    <tr>\n",
              "      <th>9</th>\n",
              "      <td>0.17004</td>\n",
              "      <td>12.5</td>\n",
              "      <td>7.87</td>\n",
              "      <td>0.0</td>\n",
              "      <td>0.524</td>\n",
              "      <td>6.004</td>\n",
              "      <td>85.9</td>\n",
              "      <td>6.5921</td>\n",
              "      <td>5.0</td>\n",
              "      <td>311.0</td>\n",
              "      <td>15.2</td>\n",
              "      <td>386.71</td>\n",
              "      <td>17.10</td>\n",
              "    </tr>\n",
              "    <tr>\n",
              "      <th>10</th>\n",
              "      <td>0.22489</td>\n",
              "      <td>12.5</td>\n",
              "      <td>7.87</td>\n",
              "      <td>0.0</td>\n",
              "      <td>0.524</td>\n",
              "      <td>6.377</td>\n",
              "      <td>94.3</td>\n",
              "      <td>6.3467</td>\n",
              "      <td>5.0</td>\n",
              "      <td>311.0</td>\n",
              "      <td>15.2</td>\n",
              "      <td>392.52</td>\n",
              "      <td>20.45</td>\n",
              "    </tr>\n",
              "    <tr>\n",
              "      <th>11</th>\n",
              "      <td>0.11747</td>\n",
              "      <td>12.5</td>\n",
              "      <td>7.87</td>\n",
              "      <td>0.0</td>\n",
              "      <td>0.524</td>\n",
              "      <td>6.009</td>\n",
              "      <td>82.9</td>\n",
              "      <td>6.2267</td>\n",
              "      <td>5.0</td>\n",
              "      <td>311.0</td>\n",
              "      <td>15.2</td>\n",
              "      <td>396.90</td>\n",
              "      <td>13.27</td>\n",
              "    </tr>\n",
              "    <tr>\n",
              "      <th>...</th>\n",
              "      <td>...</td>\n",
              "      <td>...</td>\n",
              "      <td>...</td>\n",
              "      <td>...</td>\n",
              "      <td>...</td>\n",
              "      <td>...</td>\n",
              "      <td>...</td>\n",
              "      <td>...</td>\n",
              "      <td>...</td>\n",
              "      <td>...</td>\n",
              "      <td>...</td>\n",
              "      <td>...</td>\n",
              "      <td>...</td>\n",
              "    </tr>\n",
              "    <tr>\n",
              "      <th>497</th>\n",
              "      <td>0.26838</td>\n",
              "      <td>0.0</td>\n",
              "      <td>9.69</td>\n",
              "      <td>0.0</td>\n",
              "      <td>0.585</td>\n",
              "      <td>5.794</td>\n",
              "      <td>70.6</td>\n",
              "      <td>2.8927</td>\n",
              "      <td>6.0</td>\n",
              "      <td>391.0</td>\n",
              "      <td>19.2</td>\n",
              "      <td>396.90</td>\n",
              "      <td>14.10</td>\n",
              "    </tr>\n",
              "    <tr>\n",
              "      <th>498</th>\n",
              "      <td>0.23912</td>\n",
              "      <td>0.0</td>\n",
              "      <td>9.69</td>\n",
              "      <td>0.0</td>\n",
              "      <td>0.585</td>\n",
              "      <td>6.019</td>\n",
              "      <td>65.3</td>\n",
              "      <td>2.4091</td>\n",
              "      <td>6.0</td>\n",
              "      <td>391.0</td>\n",
              "      <td>19.2</td>\n",
              "      <td>396.90</td>\n",
              "      <td>12.92</td>\n",
              "    </tr>\n",
              "    <tr>\n",
              "      <th>499</th>\n",
              "      <td>0.17783</td>\n",
              "      <td>0.0</td>\n",
              "      <td>9.69</td>\n",
              "      <td>0.0</td>\n",
              "      <td>0.585</td>\n",
              "      <td>5.569</td>\n",
              "      <td>73.5</td>\n",
              "      <td>2.3999</td>\n",
              "      <td>6.0</td>\n",
              "      <td>391.0</td>\n",
              "      <td>19.2</td>\n",
              "      <td>395.77</td>\n",
              "      <td>15.10</td>\n",
              "    </tr>\n",
              "    <tr>\n",
              "      <th>500</th>\n",
              "      <td>0.22438</td>\n",
              "      <td>0.0</td>\n",
              "      <td>9.69</td>\n",
              "      <td>0.0</td>\n",
              "      <td>0.585</td>\n",
              "      <td>6.027</td>\n",
              "      <td>79.7</td>\n",
              "      <td>2.4982</td>\n",
              "      <td>6.0</td>\n",
              "      <td>391.0</td>\n",
              "      <td>19.2</td>\n",
              "      <td>396.90</td>\n",
              "      <td>14.33</td>\n",
              "    </tr>\n",
              "    <tr>\n",
              "      <th>504</th>\n",
              "      <td>0.10959</td>\n",
              "      <td>0.0</td>\n",
              "      <td>11.93</td>\n",
              "      <td>0.0</td>\n",
              "      <td>0.573</td>\n",
              "      <td>6.794</td>\n",
              "      <td>89.3</td>\n",
              "      <td>2.3889</td>\n",
              "      <td>1.0</td>\n",
              "      <td>273.0</td>\n",
              "      <td>21.0</td>\n",
              "      <td>393.45</td>\n",
              "      <td>6.48</td>\n",
              "    </tr>\n",
              "  </tbody>\n",
              "</table>\n",
              "<p>353 rows × 13 columns</p>\n",
              "</div>\n",
              "      <button class=\"colab-df-convert\" onclick=\"convertToInteractive('df-af7884fd-a0b3-4fbe-a212-cbdf245273b4')\"\n",
              "              title=\"Convert this dataframe to an interactive table.\"\n",
              "              style=\"display:none;\">\n",
              "        \n",
              "  <svg xmlns=\"http://www.w3.org/2000/svg\" height=\"24px\"viewBox=\"0 0 24 24\"\n",
              "       width=\"24px\">\n",
              "    <path d=\"M0 0h24v24H0V0z\" fill=\"none\"/>\n",
              "    <path d=\"M18.56 5.44l.94 2.06.94-2.06 2.06-.94-2.06-.94-.94-2.06-.94 2.06-2.06.94zm-11 1L8.5 8.5l.94-2.06 2.06-.94-2.06-.94L8.5 2.5l-.94 2.06-2.06.94zm10 10l.94 2.06.94-2.06 2.06-.94-2.06-.94-.94-2.06-.94 2.06-2.06.94z\"/><path d=\"M17.41 7.96l-1.37-1.37c-.4-.4-.92-.59-1.43-.59-.52 0-1.04.2-1.43.59L10.3 9.45l-7.72 7.72c-.78.78-.78 2.05 0 2.83L4 21.41c.39.39.9.59 1.41.59.51 0 1.02-.2 1.41-.59l7.78-7.78 2.81-2.81c.8-.78.8-2.07 0-2.86zM5.41 20L4 18.59l7.72-7.72 1.47 1.35L5.41 20z\"/>\n",
              "  </svg>\n",
              "      </button>\n",
              "      \n",
              "  <style>\n",
              "    .colab-df-container {\n",
              "      display:flex;\n",
              "      flex-wrap:wrap;\n",
              "      gap: 12px;\n",
              "    }\n",
              "\n",
              "    .colab-df-convert {\n",
              "      background-color: #E8F0FE;\n",
              "      border: none;\n",
              "      border-radius: 50%;\n",
              "      cursor: pointer;\n",
              "      display: none;\n",
              "      fill: #1967D2;\n",
              "      height: 32px;\n",
              "      padding: 0 0 0 0;\n",
              "      width: 32px;\n",
              "    }\n",
              "\n",
              "    .colab-df-convert:hover {\n",
              "      background-color: #E2EBFA;\n",
              "      box-shadow: 0px 1px 2px rgba(60, 64, 67, 0.3), 0px 1px 3px 1px rgba(60, 64, 67, 0.15);\n",
              "      fill: #174EA6;\n",
              "    }\n",
              "\n",
              "    [theme=dark] .colab-df-convert {\n",
              "      background-color: #3B4455;\n",
              "      fill: #D2E3FC;\n",
              "    }\n",
              "\n",
              "    [theme=dark] .colab-df-convert:hover {\n",
              "      background-color: #434B5C;\n",
              "      box-shadow: 0px 1px 3px 1px rgba(0, 0, 0, 0.15);\n",
              "      filter: drop-shadow(0px 1px 2px rgba(0, 0, 0, 0.3));\n",
              "      fill: #FFFFFF;\n",
              "    }\n",
              "  </style>\n",
              "\n",
              "      <script>\n",
              "        const buttonEl =\n",
              "          document.querySelector('#df-af7884fd-a0b3-4fbe-a212-cbdf245273b4 button.colab-df-convert');\n",
              "        buttonEl.style.display =\n",
              "          google.colab.kernel.accessAllowed ? 'block' : 'none';\n",
              "\n",
              "        async function convertToInteractive(key) {\n",
              "          const element = document.querySelector('#df-af7884fd-a0b3-4fbe-a212-cbdf245273b4');\n",
              "          const dataTable =\n",
              "            await google.colab.kernel.invokeFunction('convertToInteractive',\n",
              "                                                     [key], {});\n",
              "          if (!dataTable) return;\n",
              "\n",
              "          const docLinkHtml = 'Like what you see? Visit the ' +\n",
              "            '<a target=\"_blank\" href=https://colab.research.google.com/notebooks/data_table.ipynb>data table notebook</a>'\n",
              "            + ' to learn more about interactive tables.';\n",
              "          element.innerHTML = '';\n",
              "          dataTable['output_type'] = 'display_data';\n",
              "          await google.colab.output.renderOutput(dataTable, element);\n",
              "          const docLink = document.createElement('div');\n",
              "          docLink.innerHTML = docLinkHtml;\n",
              "          element.appendChild(docLink);\n",
              "        }\n",
              "      </script>\n",
              "    </div>\n",
              "  </div>\n",
              "  "
            ]
          },
          "metadata": {},
          "execution_count": 35
        }
      ]
    },
    {
      "cell_type": "code",
      "source": [
        "boston_pd.describe()"
      ],
      "metadata": {
        "colab": {
          "base_uri": "https://localhost:8080/",
          "height": 364
        },
        "id": "o8SMMYB88vkP",
        "outputId": "db88573e-a203-4382-c490-478a2f86ca99"
      },
      "execution_count": null,
      "outputs": [
        {
          "output_type": "execute_result",
          "data": {
            "text/plain": [
              "             CRIM          ZN       INDUS        CHAS         NOX          RM  \\\n",
              "count  506.000000  506.000000  506.000000  506.000000  506.000000  506.000000   \n",
              "mean     3.613524   11.363636   11.136779    0.069170    0.554695    6.284634   \n",
              "std      8.601545   23.322453    6.860353    0.253994    0.115878    0.702617   \n",
              "min      0.006320    0.000000    0.460000    0.000000    0.385000    3.561000   \n",
              "25%      0.082045    0.000000    5.190000    0.000000    0.449000    5.885500   \n",
              "50%      0.256510    0.000000    9.690000    0.000000    0.538000    6.208500   \n",
              "75%      3.677083   12.500000   18.100000    0.000000    0.624000    6.623500   \n",
              "max     88.976200  100.000000   27.740000    1.000000    0.871000    8.780000   \n",
              "\n",
              "              AGE         DIS         RAD         TAX     PTRATIO           B  \\\n",
              "count  506.000000  506.000000  506.000000  506.000000  506.000000  506.000000   \n",
              "mean    68.574901    3.795043    9.549407  408.237154   18.455534  356.674032   \n",
              "std     28.148861    2.105710    8.707259  168.537116    2.164946   91.294864   \n",
              "min      2.900000    1.129600    1.000000  187.000000   12.600000    0.320000   \n",
              "25%     45.025000    2.100175    4.000000  279.000000   17.400000  375.377500   \n",
              "50%     77.500000    3.207450    5.000000  330.000000   19.050000  391.440000   \n",
              "75%     94.075000    5.188425   24.000000  666.000000   20.200000  396.225000   \n",
              "max    100.000000   12.126500   24.000000  711.000000   22.000000  396.900000   \n",
              "\n",
              "            LSTAT  \n",
              "count  506.000000  \n",
              "mean    12.653063  \n",
              "std      7.141062  \n",
              "min      1.730000  \n",
              "25%      6.950000  \n",
              "50%     11.360000  \n",
              "75%     16.955000  \n",
              "max     37.970000  "
            ],
            "text/html": [
              "\n",
              "  <div id=\"df-e8e58138-0755-4b6b-be03-820dfa9ae5b5\">\n",
              "    <div class=\"colab-df-container\">\n",
              "      <div>\n",
              "<style scoped>\n",
              "    .dataframe tbody tr th:only-of-type {\n",
              "        vertical-align: middle;\n",
              "    }\n",
              "\n",
              "    .dataframe tbody tr th {\n",
              "        vertical-align: top;\n",
              "    }\n",
              "\n",
              "    .dataframe thead th {\n",
              "        text-align: right;\n",
              "    }\n",
              "</style>\n",
              "<table border=\"1\" class=\"dataframe\">\n",
              "  <thead>\n",
              "    <tr style=\"text-align: right;\">\n",
              "      <th></th>\n",
              "      <th>CRIM</th>\n",
              "      <th>ZN</th>\n",
              "      <th>INDUS</th>\n",
              "      <th>CHAS</th>\n",
              "      <th>NOX</th>\n",
              "      <th>RM</th>\n",
              "      <th>AGE</th>\n",
              "      <th>DIS</th>\n",
              "      <th>RAD</th>\n",
              "      <th>TAX</th>\n",
              "      <th>PTRATIO</th>\n",
              "      <th>B</th>\n",
              "      <th>LSTAT</th>\n",
              "    </tr>\n",
              "  </thead>\n",
              "  <tbody>\n",
              "    <tr>\n",
              "      <th>count</th>\n",
              "      <td>506.000000</td>\n",
              "      <td>506.000000</td>\n",
              "      <td>506.000000</td>\n",
              "      <td>506.000000</td>\n",
              "      <td>506.000000</td>\n",
              "      <td>506.000000</td>\n",
              "      <td>506.000000</td>\n",
              "      <td>506.000000</td>\n",
              "      <td>506.000000</td>\n",
              "      <td>506.000000</td>\n",
              "      <td>506.000000</td>\n",
              "      <td>506.000000</td>\n",
              "      <td>506.000000</td>\n",
              "    </tr>\n",
              "    <tr>\n",
              "      <th>mean</th>\n",
              "      <td>3.613524</td>\n",
              "      <td>11.363636</td>\n",
              "      <td>11.136779</td>\n",
              "      <td>0.069170</td>\n",
              "      <td>0.554695</td>\n",
              "      <td>6.284634</td>\n",
              "      <td>68.574901</td>\n",
              "      <td>3.795043</td>\n",
              "      <td>9.549407</td>\n",
              "      <td>408.237154</td>\n",
              "      <td>18.455534</td>\n",
              "      <td>356.674032</td>\n",
              "      <td>12.653063</td>\n",
              "    </tr>\n",
              "    <tr>\n",
              "      <th>std</th>\n",
              "      <td>8.601545</td>\n",
              "      <td>23.322453</td>\n",
              "      <td>6.860353</td>\n",
              "      <td>0.253994</td>\n",
              "      <td>0.115878</td>\n",
              "      <td>0.702617</td>\n",
              "      <td>28.148861</td>\n",
              "      <td>2.105710</td>\n",
              "      <td>8.707259</td>\n",
              "      <td>168.537116</td>\n",
              "      <td>2.164946</td>\n",
              "      <td>91.294864</td>\n",
              "      <td>7.141062</td>\n",
              "    </tr>\n",
              "    <tr>\n",
              "      <th>min</th>\n",
              "      <td>0.006320</td>\n",
              "      <td>0.000000</td>\n",
              "      <td>0.460000</td>\n",
              "      <td>0.000000</td>\n",
              "      <td>0.385000</td>\n",
              "      <td>3.561000</td>\n",
              "      <td>2.900000</td>\n",
              "      <td>1.129600</td>\n",
              "      <td>1.000000</td>\n",
              "      <td>187.000000</td>\n",
              "      <td>12.600000</td>\n",
              "      <td>0.320000</td>\n",
              "      <td>1.730000</td>\n",
              "    </tr>\n",
              "    <tr>\n",
              "      <th>25%</th>\n",
              "      <td>0.082045</td>\n",
              "      <td>0.000000</td>\n",
              "      <td>5.190000</td>\n",
              "      <td>0.000000</td>\n",
              "      <td>0.449000</td>\n",
              "      <td>5.885500</td>\n",
              "      <td>45.025000</td>\n",
              "      <td>2.100175</td>\n",
              "      <td>4.000000</td>\n",
              "      <td>279.000000</td>\n",
              "      <td>17.400000</td>\n",
              "      <td>375.377500</td>\n",
              "      <td>6.950000</td>\n",
              "    </tr>\n",
              "    <tr>\n",
              "      <th>50%</th>\n",
              "      <td>0.256510</td>\n",
              "      <td>0.000000</td>\n",
              "      <td>9.690000</td>\n",
              "      <td>0.000000</td>\n",
              "      <td>0.538000</td>\n",
              "      <td>6.208500</td>\n",
              "      <td>77.500000</td>\n",
              "      <td>3.207450</td>\n",
              "      <td>5.000000</td>\n",
              "      <td>330.000000</td>\n",
              "      <td>19.050000</td>\n",
              "      <td>391.440000</td>\n",
              "      <td>11.360000</td>\n",
              "    </tr>\n",
              "    <tr>\n",
              "      <th>75%</th>\n",
              "      <td>3.677083</td>\n",
              "      <td>12.500000</td>\n",
              "      <td>18.100000</td>\n",
              "      <td>0.000000</td>\n",
              "      <td>0.624000</td>\n",
              "      <td>6.623500</td>\n",
              "      <td>94.075000</td>\n",
              "      <td>5.188425</td>\n",
              "      <td>24.000000</td>\n",
              "      <td>666.000000</td>\n",
              "      <td>20.200000</td>\n",
              "      <td>396.225000</td>\n",
              "      <td>16.955000</td>\n",
              "    </tr>\n",
              "    <tr>\n",
              "      <th>max</th>\n",
              "      <td>88.976200</td>\n",
              "      <td>100.000000</td>\n",
              "      <td>27.740000</td>\n",
              "      <td>1.000000</td>\n",
              "      <td>0.871000</td>\n",
              "      <td>8.780000</td>\n",
              "      <td>100.000000</td>\n",
              "      <td>12.126500</td>\n",
              "      <td>24.000000</td>\n",
              "      <td>711.000000</td>\n",
              "      <td>22.000000</td>\n",
              "      <td>396.900000</td>\n",
              "      <td>37.970000</td>\n",
              "    </tr>\n",
              "  </tbody>\n",
              "</table>\n",
              "</div>\n",
              "      <button class=\"colab-df-convert\" onclick=\"convertToInteractive('df-e8e58138-0755-4b6b-be03-820dfa9ae5b5')\"\n",
              "              title=\"Convert this dataframe to an interactive table.\"\n",
              "              style=\"display:none;\">\n",
              "        \n",
              "  <svg xmlns=\"http://www.w3.org/2000/svg\" height=\"24px\"viewBox=\"0 0 24 24\"\n",
              "       width=\"24px\">\n",
              "    <path d=\"M0 0h24v24H0V0z\" fill=\"none\"/>\n",
              "    <path d=\"M18.56 5.44l.94 2.06.94-2.06 2.06-.94-2.06-.94-.94-2.06-.94 2.06-2.06.94zm-11 1L8.5 8.5l.94-2.06 2.06-.94-2.06-.94L8.5 2.5l-.94 2.06-2.06.94zm10 10l.94 2.06.94-2.06 2.06-.94-2.06-.94-.94-2.06-.94 2.06-2.06.94z\"/><path d=\"M17.41 7.96l-1.37-1.37c-.4-.4-.92-.59-1.43-.59-.52 0-1.04.2-1.43.59L10.3 9.45l-7.72 7.72c-.78.78-.78 2.05 0 2.83L4 21.41c.39.39.9.59 1.41.59.51 0 1.02-.2 1.41-.59l7.78-7.78 2.81-2.81c.8-.78.8-2.07 0-2.86zM5.41 20L4 18.59l7.72-7.72 1.47 1.35L5.41 20z\"/>\n",
              "  </svg>\n",
              "      </button>\n",
              "      \n",
              "  <style>\n",
              "    .colab-df-container {\n",
              "      display:flex;\n",
              "      flex-wrap:wrap;\n",
              "      gap: 12px;\n",
              "    }\n",
              "\n",
              "    .colab-df-convert {\n",
              "      background-color: #E8F0FE;\n",
              "      border: none;\n",
              "      border-radius: 50%;\n",
              "      cursor: pointer;\n",
              "      display: none;\n",
              "      fill: #1967D2;\n",
              "      height: 32px;\n",
              "      padding: 0 0 0 0;\n",
              "      width: 32px;\n",
              "    }\n",
              "\n",
              "    .colab-df-convert:hover {\n",
              "      background-color: #E2EBFA;\n",
              "      box-shadow: 0px 1px 2px rgba(60, 64, 67, 0.3), 0px 1px 3px 1px rgba(60, 64, 67, 0.15);\n",
              "      fill: #174EA6;\n",
              "    }\n",
              "\n",
              "    [theme=dark] .colab-df-convert {\n",
              "      background-color: #3B4455;\n",
              "      fill: #D2E3FC;\n",
              "    }\n",
              "\n",
              "    [theme=dark] .colab-df-convert:hover {\n",
              "      background-color: #434B5C;\n",
              "      box-shadow: 0px 1px 3px 1px rgba(0, 0, 0, 0.15);\n",
              "      filter: drop-shadow(0px 1px 2px rgba(0, 0, 0, 0.3));\n",
              "      fill: #FFFFFF;\n",
              "    }\n",
              "  </style>\n",
              "\n",
              "      <script>\n",
              "        const buttonEl =\n",
              "          document.querySelector('#df-e8e58138-0755-4b6b-be03-820dfa9ae5b5 button.colab-df-convert');\n",
              "        buttonEl.style.display =\n",
              "          google.colab.kernel.accessAllowed ? 'block' : 'none';\n",
              "\n",
              "        async function convertToInteractive(key) {\n",
              "          const element = document.querySelector('#df-e8e58138-0755-4b6b-be03-820dfa9ae5b5');\n",
              "          const dataTable =\n",
              "            await google.colab.kernel.invokeFunction('convertToInteractive',\n",
              "                                                     [key], {});\n",
              "          if (!dataTable) return;\n",
              "\n",
              "          const docLinkHtml = 'Like what you see? Visit the ' +\n",
              "            '<a target=\"_blank\" href=https://colab.research.google.com/notebooks/data_table.ipynb>data table notebook</a>'\n",
              "            + ' to learn more about interactive tables.';\n",
              "          element.innerHTML = '';\n",
              "          dataTable['output_type'] = 'display_data';\n",
              "          await google.colab.output.renderOutput(dataTable, element);\n",
              "          const docLink = document.createElement('div');\n",
              "          docLink.innerHTML = docLinkHtml;\n",
              "          element.appendChild(docLink);\n",
              "        }\n",
              "      </script>\n",
              "    </div>\n",
              "  </div>\n",
              "  "
            ]
          },
          "metadata": {},
          "execution_count": 36
        }
      ]
    },
    {
      "cell_type": "code",
      "source": [
        "print(boston_pd['ZN'])\n"
      ],
      "metadata": {
        "colab": {
          "base_uri": "https://localhost:8080/"
        },
        "id": "itQxkEJ188nI",
        "outputId": "e4649996-c71b-4a2e-aa5b-7fcaa3a8be68"
      },
      "execution_count": null,
      "outputs": [
        {
          "output_type": "stream",
          "name": "stdout",
          "text": [
            "0      18.0\n",
            "1       0.0\n",
            "2       0.0\n",
            "3       0.0\n",
            "4       0.0\n",
            "       ... \n",
            "501     0.0\n",
            "502     0.0\n",
            "503     0.0\n",
            "504     0.0\n",
            "505     0.0\n",
            "Name: ZN, Length: 506, dtype: float64\n"
          ]
        }
      ]
    },
    {
      "cell_type": "code",
      "source": [
        "boston_pd[boston_pd['ZN']<18.0]"
      ],
      "metadata": {
        "colab": {
          "base_uri": "https://localhost:8080/",
          "height": 424
        },
        "id": "QfNBwyQm9Obs",
        "outputId": "e750bb0e-f360-4d12-e358-0b44bc49d010"
      },
      "execution_count": null,
      "outputs": [
        {
          "output_type": "execute_result",
          "data": {
            "text/plain": [
              "        CRIM   ZN  INDUS  CHAS    NOX     RM   AGE     DIS  RAD    TAX  \\\n",
              "1    0.02731  0.0   7.07   0.0  0.469  6.421  78.9  4.9671  2.0  242.0   \n",
              "2    0.02729  0.0   7.07   0.0  0.469  7.185  61.1  4.9671  2.0  242.0   \n",
              "3    0.03237  0.0   2.18   0.0  0.458  6.998  45.8  6.0622  3.0  222.0   \n",
              "4    0.06905  0.0   2.18   0.0  0.458  7.147  54.2  6.0622  3.0  222.0   \n",
              "5    0.02985  0.0   2.18   0.0  0.458  6.430  58.7  6.0622  3.0  222.0   \n",
              "..       ...  ...    ...   ...    ...    ...   ...     ...  ...    ...   \n",
              "501  0.06263  0.0  11.93   0.0  0.573  6.593  69.1  2.4786  1.0  273.0   \n",
              "502  0.04527  0.0  11.93   0.0  0.573  6.120  76.7  2.2875  1.0  273.0   \n",
              "503  0.06076  0.0  11.93   0.0  0.573  6.976  91.0  2.1675  1.0  273.0   \n",
              "504  0.10959  0.0  11.93   0.0  0.573  6.794  89.3  2.3889  1.0  273.0   \n",
              "505  0.04741  0.0  11.93   0.0  0.573  6.030  80.8  2.5050  1.0  273.0   \n",
              "\n",
              "     PTRATIO       B  LSTAT  \n",
              "1       17.8  396.90   9.14  \n",
              "2       17.8  392.83   4.03  \n",
              "3       18.7  394.63   2.94  \n",
              "4       18.7  396.90   5.33  \n",
              "5       18.7  394.12   5.21  \n",
              "..       ...     ...    ...  \n",
              "501     21.0  391.99   9.67  \n",
              "502     21.0  396.90   9.08  \n",
              "503     21.0  396.90   5.64  \n",
              "504     21.0  393.45   6.48  \n",
              "505     21.0  396.90   7.88  \n",
              "\n",
              "[383 rows x 13 columns]"
            ],
            "text/html": [
              "\n",
              "  <div id=\"df-e66acbef-7857-4aab-998d-241dc8088f54\">\n",
              "    <div class=\"colab-df-container\">\n",
              "      <div>\n",
              "<style scoped>\n",
              "    .dataframe tbody tr th:only-of-type {\n",
              "        vertical-align: middle;\n",
              "    }\n",
              "\n",
              "    .dataframe tbody tr th {\n",
              "        vertical-align: top;\n",
              "    }\n",
              "\n",
              "    .dataframe thead th {\n",
              "        text-align: right;\n",
              "    }\n",
              "</style>\n",
              "<table border=\"1\" class=\"dataframe\">\n",
              "  <thead>\n",
              "    <tr style=\"text-align: right;\">\n",
              "      <th></th>\n",
              "      <th>CRIM</th>\n",
              "      <th>ZN</th>\n",
              "      <th>INDUS</th>\n",
              "      <th>CHAS</th>\n",
              "      <th>NOX</th>\n",
              "      <th>RM</th>\n",
              "      <th>AGE</th>\n",
              "      <th>DIS</th>\n",
              "      <th>RAD</th>\n",
              "      <th>TAX</th>\n",
              "      <th>PTRATIO</th>\n",
              "      <th>B</th>\n",
              "      <th>LSTAT</th>\n",
              "    </tr>\n",
              "  </thead>\n",
              "  <tbody>\n",
              "    <tr>\n",
              "      <th>1</th>\n",
              "      <td>0.02731</td>\n",
              "      <td>0.0</td>\n",
              "      <td>7.07</td>\n",
              "      <td>0.0</td>\n",
              "      <td>0.469</td>\n",
              "      <td>6.421</td>\n",
              "      <td>78.9</td>\n",
              "      <td>4.9671</td>\n",
              "      <td>2.0</td>\n",
              "      <td>242.0</td>\n",
              "      <td>17.8</td>\n",
              "      <td>396.90</td>\n",
              "      <td>9.14</td>\n",
              "    </tr>\n",
              "    <tr>\n",
              "      <th>2</th>\n",
              "      <td>0.02729</td>\n",
              "      <td>0.0</td>\n",
              "      <td>7.07</td>\n",
              "      <td>0.0</td>\n",
              "      <td>0.469</td>\n",
              "      <td>7.185</td>\n",
              "      <td>61.1</td>\n",
              "      <td>4.9671</td>\n",
              "      <td>2.0</td>\n",
              "      <td>242.0</td>\n",
              "      <td>17.8</td>\n",
              "      <td>392.83</td>\n",
              "      <td>4.03</td>\n",
              "    </tr>\n",
              "    <tr>\n",
              "      <th>3</th>\n",
              "      <td>0.03237</td>\n",
              "      <td>0.0</td>\n",
              "      <td>2.18</td>\n",
              "      <td>0.0</td>\n",
              "      <td>0.458</td>\n",
              "      <td>6.998</td>\n",
              "      <td>45.8</td>\n",
              "      <td>6.0622</td>\n",
              "      <td>3.0</td>\n",
              "      <td>222.0</td>\n",
              "      <td>18.7</td>\n",
              "      <td>394.63</td>\n",
              "      <td>2.94</td>\n",
              "    </tr>\n",
              "    <tr>\n",
              "      <th>4</th>\n",
              "      <td>0.06905</td>\n",
              "      <td>0.0</td>\n",
              "      <td>2.18</td>\n",
              "      <td>0.0</td>\n",
              "      <td>0.458</td>\n",
              "      <td>7.147</td>\n",
              "      <td>54.2</td>\n",
              "      <td>6.0622</td>\n",
              "      <td>3.0</td>\n",
              "      <td>222.0</td>\n",
              "      <td>18.7</td>\n",
              "      <td>396.90</td>\n",
              "      <td>5.33</td>\n",
              "    </tr>\n",
              "    <tr>\n",
              "      <th>5</th>\n",
              "      <td>0.02985</td>\n",
              "      <td>0.0</td>\n",
              "      <td>2.18</td>\n",
              "      <td>0.0</td>\n",
              "      <td>0.458</td>\n",
              "      <td>6.430</td>\n",
              "      <td>58.7</td>\n",
              "      <td>6.0622</td>\n",
              "      <td>3.0</td>\n",
              "      <td>222.0</td>\n",
              "      <td>18.7</td>\n",
              "      <td>394.12</td>\n",
              "      <td>5.21</td>\n",
              "    </tr>\n",
              "    <tr>\n",
              "      <th>...</th>\n",
              "      <td>...</td>\n",
              "      <td>...</td>\n",
              "      <td>...</td>\n",
              "      <td>...</td>\n",
              "      <td>...</td>\n",
              "      <td>...</td>\n",
              "      <td>...</td>\n",
              "      <td>...</td>\n",
              "      <td>...</td>\n",
              "      <td>...</td>\n",
              "      <td>...</td>\n",
              "      <td>...</td>\n",
              "      <td>...</td>\n",
              "    </tr>\n",
              "    <tr>\n",
              "      <th>501</th>\n",
              "      <td>0.06263</td>\n",
              "      <td>0.0</td>\n",
              "      <td>11.93</td>\n",
              "      <td>0.0</td>\n",
              "      <td>0.573</td>\n",
              "      <td>6.593</td>\n",
              "      <td>69.1</td>\n",
              "      <td>2.4786</td>\n",
              "      <td>1.0</td>\n",
              "      <td>273.0</td>\n",
              "      <td>21.0</td>\n",
              "      <td>391.99</td>\n",
              "      <td>9.67</td>\n",
              "    </tr>\n",
              "    <tr>\n",
              "      <th>502</th>\n",
              "      <td>0.04527</td>\n",
              "      <td>0.0</td>\n",
              "      <td>11.93</td>\n",
              "      <td>0.0</td>\n",
              "      <td>0.573</td>\n",
              "      <td>6.120</td>\n",
              "      <td>76.7</td>\n",
              "      <td>2.2875</td>\n",
              "      <td>1.0</td>\n",
              "      <td>273.0</td>\n",
              "      <td>21.0</td>\n",
              "      <td>396.90</td>\n",
              "      <td>9.08</td>\n",
              "    </tr>\n",
              "    <tr>\n",
              "      <th>503</th>\n",
              "      <td>0.06076</td>\n",
              "      <td>0.0</td>\n",
              "      <td>11.93</td>\n",
              "      <td>0.0</td>\n",
              "      <td>0.573</td>\n",
              "      <td>6.976</td>\n",
              "      <td>91.0</td>\n",
              "      <td>2.1675</td>\n",
              "      <td>1.0</td>\n",
              "      <td>273.0</td>\n",
              "      <td>21.0</td>\n",
              "      <td>396.90</td>\n",
              "      <td>5.64</td>\n",
              "    </tr>\n",
              "    <tr>\n",
              "      <th>504</th>\n",
              "      <td>0.10959</td>\n",
              "      <td>0.0</td>\n",
              "      <td>11.93</td>\n",
              "      <td>0.0</td>\n",
              "      <td>0.573</td>\n",
              "      <td>6.794</td>\n",
              "      <td>89.3</td>\n",
              "      <td>2.3889</td>\n",
              "      <td>1.0</td>\n",
              "      <td>273.0</td>\n",
              "      <td>21.0</td>\n",
              "      <td>393.45</td>\n",
              "      <td>6.48</td>\n",
              "    </tr>\n",
              "    <tr>\n",
              "      <th>505</th>\n",
              "      <td>0.04741</td>\n",
              "      <td>0.0</td>\n",
              "      <td>11.93</td>\n",
              "      <td>0.0</td>\n",
              "      <td>0.573</td>\n",
              "      <td>6.030</td>\n",
              "      <td>80.8</td>\n",
              "      <td>2.5050</td>\n",
              "      <td>1.0</td>\n",
              "      <td>273.0</td>\n",
              "      <td>21.0</td>\n",
              "      <td>396.90</td>\n",
              "      <td>7.88</td>\n",
              "    </tr>\n",
              "  </tbody>\n",
              "</table>\n",
              "<p>383 rows × 13 columns</p>\n",
              "</div>\n",
              "      <button class=\"colab-df-convert\" onclick=\"convertToInteractive('df-e66acbef-7857-4aab-998d-241dc8088f54')\"\n",
              "              title=\"Convert this dataframe to an interactive table.\"\n",
              "              style=\"display:none;\">\n",
              "        \n",
              "  <svg xmlns=\"http://www.w3.org/2000/svg\" height=\"24px\"viewBox=\"0 0 24 24\"\n",
              "       width=\"24px\">\n",
              "    <path d=\"M0 0h24v24H0V0z\" fill=\"none\"/>\n",
              "    <path d=\"M18.56 5.44l.94 2.06.94-2.06 2.06-.94-2.06-.94-.94-2.06-.94 2.06-2.06.94zm-11 1L8.5 8.5l.94-2.06 2.06-.94-2.06-.94L8.5 2.5l-.94 2.06-2.06.94zm10 10l.94 2.06.94-2.06 2.06-.94-2.06-.94-.94-2.06-.94 2.06-2.06.94z\"/><path d=\"M17.41 7.96l-1.37-1.37c-.4-.4-.92-.59-1.43-.59-.52 0-1.04.2-1.43.59L10.3 9.45l-7.72 7.72c-.78.78-.78 2.05 0 2.83L4 21.41c.39.39.9.59 1.41.59.51 0 1.02-.2 1.41-.59l7.78-7.78 2.81-2.81c.8-.78.8-2.07 0-2.86zM5.41 20L4 18.59l7.72-7.72 1.47 1.35L5.41 20z\"/>\n",
              "  </svg>\n",
              "      </button>\n",
              "      \n",
              "  <style>\n",
              "    .colab-df-container {\n",
              "      display:flex;\n",
              "      flex-wrap:wrap;\n",
              "      gap: 12px;\n",
              "    }\n",
              "\n",
              "    .colab-df-convert {\n",
              "      background-color: #E8F0FE;\n",
              "      border: none;\n",
              "      border-radius: 50%;\n",
              "      cursor: pointer;\n",
              "      display: none;\n",
              "      fill: #1967D2;\n",
              "      height: 32px;\n",
              "      padding: 0 0 0 0;\n",
              "      width: 32px;\n",
              "    }\n",
              "\n",
              "    .colab-df-convert:hover {\n",
              "      background-color: #E2EBFA;\n",
              "      box-shadow: 0px 1px 2px rgba(60, 64, 67, 0.3), 0px 1px 3px 1px rgba(60, 64, 67, 0.15);\n",
              "      fill: #174EA6;\n",
              "    }\n",
              "\n",
              "    [theme=dark] .colab-df-convert {\n",
              "      background-color: #3B4455;\n",
              "      fill: #D2E3FC;\n",
              "    }\n",
              "\n",
              "    [theme=dark] .colab-df-convert:hover {\n",
              "      background-color: #434B5C;\n",
              "      box-shadow: 0px 1px 3px 1px rgba(0, 0, 0, 0.15);\n",
              "      filter: drop-shadow(0px 1px 2px rgba(0, 0, 0, 0.3));\n",
              "      fill: #FFFFFF;\n",
              "    }\n",
              "  </style>\n",
              "\n",
              "      <script>\n",
              "        const buttonEl =\n",
              "          document.querySelector('#df-e66acbef-7857-4aab-998d-241dc8088f54 button.colab-df-convert');\n",
              "        buttonEl.style.display =\n",
              "          google.colab.kernel.accessAllowed ? 'block' : 'none';\n",
              "\n",
              "        async function convertToInteractive(key) {\n",
              "          const element = document.querySelector('#df-e66acbef-7857-4aab-998d-241dc8088f54');\n",
              "          const dataTable =\n",
              "            await google.colab.kernel.invokeFunction('convertToInteractive',\n",
              "                                                     [key], {});\n",
              "          if (!dataTable) return;\n",
              "\n",
              "          const docLinkHtml = 'Like what you see? Visit the ' +\n",
              "            '<a target=\"_blank\" href=https://colab.research.google.com/notebooks/data_table.ipynb>data table notebook</a>'\n",
              "            + ' to learn more about interactive tables.';\n",
              "          element.innerHTML = '';\n",
              "          dataTable['output_type'] = 'display_data';\n",
              "          await google.colab.output.renderOutput(dataTable, element);\n",
              "          const docLink = document.createElement('div');\n",
              "          docLink.innerHTML = docLinkHtml;\n",
              "          element.appendChild(docLink);\n",
              "        }\n",
              "      </script>\n",
              "    </div>\n",
              "  </div>\n",
              "  "
            ]
          },
          "metadata": {},
          "execution_count": 38
        }
      ]
    },
    {
      "cell_type": "code",
      "source": [
        "boston_pd['CRIM'].plot.hist(bins=20)"
      ],
      "metadata": {
        "colab": {
          "base_uri": "https://localhost:8080/",
          "height": 282
        },
        "id": "qXFinaFD-xO_",
        "outputId": "37d8710e-3353-415b-ed0b-ce3013e5ae9c"
      },
      "execution_count": null,
      "outputs": [
        {
          "output_type": "execute_result",
          "data": {
            "text/plain": [
              "<matplotlib.axes._subplots.AxesSubplot at 0x7f5b2ca00bd0>"
            ]
          },
          "metadata": {},
          "execution_count": 39
        },
        {
          "output_type": "display_data",
          "data": {
            "text/plain": [
              "<Figure size 432x288 with 1 Axes>"
            ],
            "image/png": "[encoded data removed]"
          },
          "metadata": {
            "needs_background": "light"
          }
        }
      ]
    },
    {
      "cell_type": "code",
      "source": [
        "boston_pd['RAD'].value_counts().plot(kind='pie')"
      ],
      "metadata": {
        "colab": {
          "base_uri": "https://localhost:8080/",
          "height": 265
        },
        "id": "ohycttd-_GSD",
        "outputId": "6f365bcf-7b34-4eb0-9558-2d5187cc0c3f"
      },
      "execution_count": null,
      "outputs": [
        {
          "output_type": "execute_result",
          "data": {
            "text/plain": [
              "<matplotlib.axes._subplots.AxesSubplot at 0x7f5b2c969390>"
            ]
          },
          "metadata": {},
          "execution_count": 40
        },
        {
          "output_type": "display_data",
          "data": {
            "text/plain": [
              "<Figure size 432x288 with 1 Axes>"
            ],
            "image/png": "[encoded data removed]"
          },
          "metadata": {}
        }
      ]
    },
    {
      "cell_type": "code",
      "source": [
        "boston_pd['RAD'].value_counts().plot(kind='bar')"
      ],
      "metadata": {
        "colab": {
          "base_uri": "https://localhost:8080/",
          "height": 294
        },
        "id": "RLjVlMDF_WXW",
        "outputId": "c493289e-0865-4edf-b053-354e20629ce6"
      },
      "execution_count": null,
      "outputs": [
        {
          "output_type": "execute_result",
          "data": {
            "text/plain": [
              "<matplotlib.axes._subplots.AxesSubplot at 0x7f5b2c9431d0>"
            ]
          },
          "metadata": {},
          "execution_count": 41
        },
        {
          "output_type": "display_data",
          "data": {
            "text/plain": [
              "<Figure size 432x288 with 1 Axes>"
            ],
            "image/png": "[encoded data removed]"
          },
          "metadata": {
            "needs_background": "light"
          }
        }
      ]
    },
    {
      "cell_type": "code",
      "source": [
        "boston_pd.plot.scatter(x='RM',y='DIS')"
      ],
      "metadata": {
        "colab": {
          "base_uri": "https://localhost:8080/",
          "height": 296
        },
        "id": "R5ZySE4I_kIb",
        "outputId": "cc2fdbe5-047b-4162-da10-66b3d8c3d7f4"
      },
      "execution_count": null,
      "outputs": [
        {
          "output_type": "execute_result",
          "data": {
            "text/plain": [
              "<matplotlib.axes._subplots.AxesSubplot at 0x7f5b2cc58910>"
            ]
          },
          "metadata": {},
          "execution_count": 42
        },
        {
          "output_type": "display_data",
          "data": {
            "text/plain": [
              "<Figure size 432x288 with 1 Axes>"
            ],
            "image/png": "[encoded data removed]"
          },
          "metadata": {
            "needs_background": "light"
          }
        }
      ]
    },
    {
      "cell_type": "code",
      "source": [
        "boston_pd['CHAS'].value_counts().plot(kind='pie')"
      ],
      "metadata": {
        "colab": {
          "base_uri": "https://localhost:8080/",
          "height": 265
        },
        "id": "LIkL64e9_6gD",
        "outputId": "cf94acae-5bc0-4b68-f41d-8281fb5073fd"
      },
      "execution_count": null,
      "outputs": [
        {
          "output_type": "execute_result",
          "data": {
            "text/plain": [
              "<matplotlib.axes._subplots.AxesSubplot at 0x7f5b2b99bf90>"
            ]
          },
          "metadata": {},
          "execution_count": 46
        },
        {
          "output_type": "display_data",
          "data": {
            "text/plain": [
              "<Figure size 432x288 with 1 Axes>"
            ],
            "image/png": "[encoded data removed]"
          },
          "metadata": {}
        }
      ]
    },
    {
      "cell_type": "code",
      "source": [
        "import matplotlib.pyplot as plt\n",
        "\n",
        "# line plot\n",
        "plt.plot(boston_pd['RM'])\n",
        "\n",
        "# display plot\n",
        "plt.show()\n"
      ],
      "metadata": {
        "colab": {
          "base_uri": "https://localhost:8080/",
          "height": 268
        },
        "id": "c06aGnrxAiln",
        "outputId": "b1570bf3-23a0-42fa-fffe-1e58fa02ee36"
      },
      "execution_count": null,
      "outputs": [
        {
          "output_type": "display_data",
          "data": {
            "text/plain": [
              "<Figure size 432x288 with 1 Axes>"
            ],
            "image/png": "[encoded data removed]"
          },
          "metadata": {
            "needs_background": "light"
          }
        }
      ]
    },
    {
      "cell_type": "code",
      "source": [
        "import matplotlib.pyplot as plt\n",
        "\n",
        "# line plot\n",
        "# the argument 'r*' plots each point as a red '*'\n",
        "plt.plot(boston_pd['RM'], 'r*')\n",
        "\n",
        "# display plot\n",
        "plt.show()"
      ],
      "metadata": {
        "colab": {
          "base_uri": "https://localhost:8080/",
          "height": 268
        },
        "id": "ZlDyQdd4A0A4",
        "outputId": "5423a5ce-920b-4d8c-f807-9db9183f9a9b"
      },
      "execution_count": null,
      "outputs": [
        {
          "output_type": "display_data",
          "data": {
            "text/plain": [
              "<Figure size 432x288 with 1 Axes>"
            ],
            "image/png": "[encoded data removed]"
          },
          "metadata": {
            "needs_background": "light"
          }
        }
      ]
    },
    {
      "cell_type": "code",
      "source": [
        "import matplotlib.pyplot as plt\n",
        "\n",
        "# line plot\n",
        "# the argument 'r*' plots each point as a red '*'\n",
        "plt.plot(boston_pd['CRIM'], 'r*')\n",
        "\n",
        "# display plot\n",
        "plt.show()"
      ],
      "metadata": {
        "colab": {
          "base_uri": "https://localhost:8080/",
          "height": 265
        },
        "id": "nVdXY1XRBAxB",
        "outputId": "30ad7b1d-ed73-477a-860d-6defc57b6fb1"
      },
      "execution_count": null,
      "outputs": [
        {
          "output_type": "display_data",
          "data": {
            "text/plain": [
              "<Figure size 432x288 with 1 Axes>"
            ],
            "image/png": "[encoded data removed]"
          },
          "metadata": {
            "needs_background": "light"
          }
        }
      ]
    },
    {
      "cell_type": "code",
      "source": [
        "import matplotlib.pyplot as plt\n",
        "plt.plot(boston_pd['RM'])\n",
        "plt.plot(boston_pd['DIS'])\n",
        "plt.plot(boston_pd['CRIM'])\n",
        "plt.plot(boston_pd['RAD'])\n",
        "\n",
        "plt.show()\n"
      ],
      "metadata": {
        "colab": {
          "base_uri": "https://localhost:8080/",
          "height": 265
        },
        "id": "CTwACQ9BBeDt",
        "outputId": "95263e0b-9a09-46af-c5ec-a0d47e4072f0"
      },
      "execution_count": null,
      "outputs": [
        {
          "output_type": "display_data",
          "data": {
            "text/plain": [
              "<Figure size 432x288 with 1 Axes>"
            ],
            "image/png": "[encoded data removed]"
          },
          "metadata": {
            "needs_background": "light"
          }
        }
      ]
    },
    {
      "cell_type": "code",
      "source": [
        "import matplotlib.pyplot as plt\n",
        "plt.plot(boston_pd['RM'])\n",
        "plt.plot(boston_pd['DIS'])\n",
        "plt.xlabel('Index')\n",
        "plt.ylabel('Observations')\n",
        "plt.title('Line plot for RM and DIS')\n",
        "plt.show()"
      ],
      "metadata": {
        "colab": {
          "base_uri": "https://localhost:8080/",
          "height": 295
        },
        "id": "_N5HEAZUIQb4",
        "outputId": "ce432daf-5ed7-4825-d0f2-f806a6903837"
      },
      "execution_count": null,
      "outputs": [
        {
          "output_type": "display_data",
          "data": {
            "text/plain": [
              "<Figure size 432x288 with 1 Axes>"
            ],
            "image/png": "[encoded data removed]"
          },
          "metadata": {
            "needs_background": "light"
          }
        }
      ]
    },
    {
      "cell_type": "code",
      "source": [
        "import matplotlib.pyplot as plt\n",
        "plt.plot(boston_pd['CRIM'])\n",
        "plt.plot(boston_pd['AGE'])\n",
        "plt.xlabel('Index')\n",
        "plt.ylabel('Observations')\n",
        "plt.title('Line plot for RM and DIS')\n",
        "plt.show()"
      ],
      "metadata": {
        "colab": {
          "base_uri": "https://localhost:8080/",
          "height": 295
        },
        "id": "-hN1Mt4tImGs",
        "outputId": "45daa032-57d8-476c-e6cf-b0cc1ccd2dbc"
      },
      "execution_count": null,
      "outputs": [
        {
          "output_type": "display_data",
          "data": {
            "text/plain": [
              "<Figure size 432x288 with 1 Axes>"
            ],
            "image/png": "[encoded data removed]"
          },
          "metadata": {
            "needs_background": "light"
          }
        }
      ]
    },
    {
      "cell_type": "code",
      "source": [
        "import matplotlib.pyplot as plt\n",
        "plt.plot(boston_pd['RM'], label = 'RM')\n",
        "plt.plot(boston_pd['DIS'], label = 'DIS')\n",
        "plt.xlabel('Index')\n",
        "plt.ylabel('Observations')\n",
        "plt.title('Line plot for RM and DIS')\n",
        "plt.legend()\n",
        "plt.show()"
      ],
      "metadata": {
        "colab": {
          "base_uri": "https://localhost:8080/",
          "height": 295
        },
        "id": "82AKCxOrJAH3",
        "outputId": "4946933c-d61e-46ff-8a99-f3f32288a588"
      },
      "execution_count": null,
      "outputs": [
        {
          "output_type": "display_data",
          "data": {
            "text/plain": [
              "<Figure size 432x288 with 1 Axes>"
            ],
            "image/png": "[encoded data removed]"
          },
          "metadata": {
            "needs_background": "light"
          }
        }
      ]
    },
    {
      "cell_type": "code",
      "source": [
        "import matplotlib.pyplot as plt\n",
        "plt.plot(boston_pd['CRIM'],label='CRIM')\n",
        "plt.plot(boston_pd['AGE'],label='AGE')\n",
        "plt.xlabel('Index')\n",
        "plt.ylabel('Observations')\n",
        "plt.title('Line plot for CRIM and AGE')\n",
        "plt.legend()\n",
        "plt.show()"
      ],
      "metadata": {
        "colab": {
          "base_uri": "https://localhost:8080/",
          "height": 295
        },
        "id": "7RygCnKVJSp4",
        "outputId": "b1f7511a-a7af-4d12-fc0b-181d94fac80e"
      },
      "execution_count": null,
      "outputs": [
        {
          "output_type": "display_data",
          "data": {
            "text/plain": [
              "<Figure size 432x288 with 1 Axes>"
            ],
            "image/png": "[encoded data removed]"
          },
          "metadata": {
            "needs_background": "light"
          }
        }
      ]
    },
    {
      "cell_type": "code",
      "source": [
        "import matplotlib.pyplot as plt\n",
        "plt.plot(boston_pd['RM'], label = 'RM',color='red',linewidth=3,linestyle='-')\n",
        "plt.plot(boston_pd['DIS'], label = 'DIS',color='blue',linewidth=1,linestyle='--')\n",
        "plt.xlabel('Index', fontsize=20,color=\"red\")\n",
        "plt.ylabel('Observations', fontsize=20,color=\"green\")\n",
        "plt.title('Line plot for RM and DIS', fontsize=20)\n",
        "plt.legend(fontsize=16)\n",
        "plt.show()"
      ],
      "metadata": {
        "colab": {
          "base_uri": "https://localhost:8080/",
          "height": 309
        },
        "id": "4w3E-oseJxfF",
        "outputId": "b3979508-48a7-4b11-978e-8d036c1f38f9"
      },
      "execution_count": null,
      "outputs": [
        {
          "output_type": "display_data",
          "data": {
            "text/plain": [
              "<Figure size 432x288 with 1 Axes>"
            ],
            "image/png": "[encoded data removed]"
          },
          "metadata": {
            "needs_background": "light"
          }
        }
      ]
    },
    {
      "cell_type": "code",
      "source": [
        "import matplotlib.pyplot as plt\n",
        "plt.plot(boston_pd['RM'], label = 'RM',color='purple',linewidth=3,linestyle='-')\n",
        "plt.plot(boston_pd['DIS'], label = 'DIS',color='green',linewidth=1,linestyle='--')\n",
        "plt.xlabel('Index', fontsize=20,color=\"purple\")\n",
        "plt.ylabel('Observations', fontsize=20,color=\"green\")\n",
        "plt.title('Line plot for RM and DIS', fontsize=30)\n",
        "plt.legend(fontsize=30)\n",
        "plt.show()"
      ],
      "metadata": {
        "colab": {
          "base_uri": "https://localhost:8080/",
          "height": 317
        },
        "id": "X_3O6IiMJ796",
        "outputId": "90ecc34a-0811-4be7-af56-e2c5625ee421"
      },
      "execution_count": null,
      "outputs": [
        {
          "output_type": "display_data",
          "data": {
            "text/plain": [
              "<Figure size 432x288 with 1 Axes>"
            ],
            "image/png": "[encoded data removed]"
          },
          "metadata": {
            "needs_background": "light"
          }
        }
      ]
    },
    {
      "cell_type": "code",
      "source": [
        "import matplotlib.pyplot as plt\n",
        "\n",
        "plt.figure(figsize=(12,4))\n",
        "## first graph\n",
        "plt.subplot(1,2,1)\n",
        "plt.hist(boston_pd['RM'])\n",
        "plt.xlabel('RM', fontsize=20,color=\"red\")\n",
        "plt.ylabel('Counts', fontsize=20,color=\"green\")\n",
        "plt.title('Histogram plot for RM', fontsize=20)\n",
        "\n",
        "## second graph\n",
        "plt.subplot(1,2,2)\n",
        "\n",
        "plt.scatter(boston_pd['RM'], boston_pd['DIS'] )\n",
        "plt.xlabel('RM', fontsize=20,color=\"red\")\n",
        "plt.ylabel('DIS', fontsize=20,color=\"green\")\n",
        "plt.title('Scatter plot for RM and DIS', fontsize=20)\n",
        "plt.tight_layout()\n",
        "plt.show()"
      ],
      "metadata": {
        "colab": {
          "base_uri": "https://localhost:8080/",
          "height": 297
        },
        "id": "RFuhnF-MKqnh",
        "outputId": "cb96a8eb-28ed-4e7d-d786-43377ed6784b"
      },
      "execution_count": null,
      "outputs": [
        {
          "output_type": "display_data",
          "data": {
            "text/plain": [
              "<Figure size 864x288 with 2 Axes>"
            ],
            "image/png": "[encoded data removed]"
          },
          "metadata": {
            "needs_background": "light"
          }
        }
      ]
    },
    {
      "cell_type": "code",
      "source": [
        "plt.figure(figsize=(12,4))\n",
        "## first graph\n",
        "plt.subplot(1,2,1)\n",
        "plt.hist(boston_pd['RM'])\n",
        "plt.xlabel('RM', fontsize=20,color=\"red\")\n",
        "plt.ylabel('Counts', fontsize=20,color=\"green\")\n",
        "plt.title('Histogram plot for RM', fontsize=20)\n",
        "\n",
        "## second graph\n",
        "plt.subplot(1,2,2)\n",
        "\n",
        "plt.scatter(boston_pd['RM'], boston_pd['DIS'] )\n",
        "plt.xlabel('RM', fontsize=20,color=\"red\")\n",
        "plt.ylabel('DIS', fontsize=20,color=\"green\")\n",
        "plt.title('Scatter plot for RM and DIS', fontsize=20)\n",
        "plt.tight_layout()\n",
        "plt.show()\n",
        "\n",
        "plt.subplot(2,2,3)\n",
        "\n",
        "plt.scatter(boston_pd['CRIM'], boston_pd['AGE'] )\n",
        "plt.xlabel('CRIM', fontsize=20,color=\"red\")\n",
        "plt.ylabel('AGE', fontsize=20,color=\"green\")\n",
        "plt.title('Scatter plot for CRIM and AGE', fontsize=20)\n",
        "plt.tight_layout()\n",
        "plt.show()\n",
        "\n",
        "\n",
        "\n",
        "plt.subplot(2,2,4)\n",
        "\n",
        "plt.scatter(boston_pd['RAD'], boston_pd['TAX'] )\n",
        "plt.xlabel('RAD', fontsize=20,color=\"red\")\n",
        "plt.ylabel('TAX', fontsize=20,color=\"green\")\n",
        "plt.title('Scatter plot for RAD and TAX', fontsize=20)\n",
        "plt.tight_layout()\n",
        "plt.show()"
      ],
      "metadata": {
        "colab": {
          "base_uri": "https://localhost:8080/",
          "height": 641
        },
        "id": "VfPnFiH_LB4n",
        "outputId": "ee738f7d-1234-42b3-d6fc-6e56a0bb0296"
      },
      "execution_count": null,
      "outputs": [
        {
          "output_type": "display_data",
          "data": {
            "text/plain": [
              "<Figure size 864x288 with 2 Axes>"
            ],
            "image/png": "[encoded data removed]"
          },
          "metadata": {
            "needs_background": "light"
          }
        },
        {
          "output_type": "display_data",
          "data": {
            "text/plain": [
              "<Figure size 432x288 with 1 Axes>"
            ],
            "image/png": "[encoded data removed]"
          },
          "metadata": {
            "needs_background": "light"
          }
        },
        {
          "output_type": "display_data",
          "data": {
            "text/plain": [
              "<Figure size 432x288 with 1 Axes>"
            ],
            "image/png": "[encoded data removed]"
          },
          "metadata": {
            "needs_background": "light"
          }
        }
      ]
    },
    {
      "cell_type": "code",
      "source": [
        "import matplotlib.pyplot as plt\n",
        "plt.scatter(boston_pd['RM'], boston_pd['DIS'] )\n",
        "plt.xlabel('RM', fontsize=20,color=\"red\")\n",
        "plt.ylabel('DIS', fontsize=20,color=\"green\")\n",
        "plt.title('Scatter plot for RM and DIS', fontsize=20)\n",
        "plt.show()"
      ],
      "metadata": {
        "colab": {
          "base_uri": "https://localhost:8080/",
          "height": 309
        },
        "id": "dNmPXjUXMOeh",
        "outputId": "6de0eb41-49a6-463f-eb79-6750b2c2b0b6"
      },
      "execution_count": null,
      "outputs": [
        {
          "output_type": "display_data",
          "data": {
            "text/plain": [
              "<Figure size 432x288 with 1 Axes>"
            ],
            "image/png": "[encoded data removed]"
          },
          "metadata": {
            "needs_background": "light"
          }
        }
      ]
    },
    {
      "cell_type": "code",
      "source": [
        "# draw bar chart for categorical values \n",
        "import matplotlib.pyplot as plt\n",
        "import numpy as np\n",
        "frequency_table = boston_pd['RAD'].value_counts()\n",
        "category = frequency_table.index.tolist()\n",
        "counts = frequency_table.values.tolist()\n",
        "print(frequency_table)\n",
        "plt.bar(category,counts)\n",
        "plt.xlabel('Category', fontsize=20,color=\"red\")\n",
        "plt.ylabel('Frequency', fontsize=20,color=\"green\")\n",
        "plt.title('Bar plot for RM', fontsize=20)\n",
        "plt.show()"
      ],
      "metadata": {
        "colab": {
          "base_uri": "https://localhost:8080/",
          "height": 483
        },
        "id": "Qc5s_8UPMai8",
        "outputId": "12e56a4f-5932-4446-9071-43463318b8cf"
      },
      "execution_count": null,
      "outputs": [
        {
          "output_type": "stream",
          "name": "stdout",
          "text": [
            "24.0    132\n",
            "5.0     115\n",
            "4.0     110\n",
            "3.0      38\n",
            "6.0      26\n",
            "2.0      24\n",
            "8.0      24\n",
            "1.0      20\n",
            "7.0      17\n",
            "Name: RAD, dtype: int64\n"
          ]
        },
        {
          "output_type": "display_data",
          "data": {
            "text/plain": [
              "<Figure size 432x288 with 1 Axes>"
            ],
            "image/png": "[encoded data removed]"
          },
          "metadata": {
            "needs_background": "light"
          }
        }
      ]
    },
    {
      "cell_type": "code",
      "source": [
        "plt.hist(boston_pd['RM'])\n",
        "plt.xlabel(\"RM\",fontsize=20,color=\"red\")\n",
        "plt.ylabel(\"COUNTS\",fontsize=20,color=\"red\")\n",
        "plt.title(\"histogram plot for RM AND COUNTS\",fontsize=20)\n",
        "plt.show()"
      ],
      "metadata": {
        "colab": {
          "base_uri": "https://localhost:8080/",
          "height": 309
        },
        "id": "zL3DRW1gOSLY",
        "outputId": "e31682f8-d8c6-4eb4-eab1-a82d8e8eece6"
      },
      "execution_count": null,
      "outputs": [
        {
          "output_type": "display_data",
          "data": {
            "text/plain": [
              "<Figure size 432x288 with 1 Axes>"
            ],
            "image/png": "[encoded data removed]"
          },
          "metadata": {
            "needs_background": "light"
          }
        }
      ]
    },
    {
      "cell_type": "code",
      "source": [
        "import matplotlib.pyplot as plt\n",
        "import numpy as np\n",
        "frequency_table = boston_pd['RAD'].value_counts()\n",
        "category = frequency_table.index.tolist()\n",
        "counts = frequency_table.values.tolist()\n",
        "print(frequency_table)\n",
        "plt.barh(category,counts)\n",
        "plt.xlabel('Category', fontsize=20,color=\"red\")\n",
        "plt.ylabel('Frequency', fontsize=20,color=\"green\")\n",
        "plt.title('Bar plot for RM', fontsize=20)\n",
        "plt.show()"
      ],
      "metadata": {
        "colab": {
          "base_uri": "https://localhost:8080/",
          "height": 483
        },
        "id": "UXnt_nNaOvz9",
        "outputId": "eabdd7ec-d1fa-447f-b28f-7a0a894bf09d"
      },
      "execution_count": null,
      "outputs": [
        {
          "output_type": "stream",
          "name": "stdout",
          "text": [
            "24.0    132\n",
            "5.0     115\n",
            "4.0     110\n",
            "3.0      38\n",
            "6.0      26\n",
            "2.0      24\n",
            "8.0      24\n",
            "1.0      20\n",
            "7.0      17\n",
            "Name: RAD, dtype: int64\n"
          ]
        },
        {
          "output_type": "display_data",
          "data": {
            "text/plain": [
              "<Figure size 432x288 with 1 Axes>"
            ],
            "image/png": "[encoded data removed]"
          },
          "metadata": {
            "needs_background": "light"
          }
        }
      ]
    }
  ]
}